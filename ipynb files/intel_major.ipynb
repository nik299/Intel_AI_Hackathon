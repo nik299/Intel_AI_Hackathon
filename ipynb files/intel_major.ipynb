{
  "nbformat": 4,
  "nbformat_minor": 0,
  "metadata": {
    "colab": {
      "name": "intel_major.ipynb",
      "version": "0.3.2",
      "provenance": [],
      "collapsed_sections": []
    },
    "kernelspec": {
      "name": "python3",
      "display_name": "Python 3"
    },
    "accelerator": "GPU"
  },
  "cells": [
    {
      "cell_type": "code",
      "metadata": {
        "id": "-gUZqvEUoapD",
        "colab_type": "code",
        "outputId": "7c6e20d6-d655-4a38-93b2-f8ed36af089d",
        "colab": {
          "base_uri": "https://localhost:8080/",
          "height": 1000
        }
      },
      "source": [
        "!pip install intel-numpy\n",
        "!pip install intel-tensorflow\n",
        "!pip install gensim --upgrade\n",
        "!pip install keras --upgrade\n",
        "!pip install pandas --upgrade"
      ],
      "execution_count": 0,
      "outputs": [
        {
          "output_type": "stream",
          "text": [
            "Collecting intel-numpy\n",
            "\u001b[?25l  Downloading https://files.pythonhosted.org/packages/ef/b3/fb79b1f34dc83822ea4e57c9a889ee32a34087139c12c9f1c3473f060d4d/intel_numpy-1.15.1-cp36-cp36m-manylinux1_x86_64.whl (6.1MB)\n",
            "\u001b[K     |████████████████████████████████| 6.1MB 6.6MB/s \n",
            "\u001b[?25hCollecting tbb4py (from intel-numpy)\n",
            "\u001b[?25l  Downloading https://files.pythonhosted.org/packages/af/88/06532a4fb130ce4d1573a0b13ae3c58d689fe950e9806c507ba44d13ab17/tbb4py-2019.0-cp36-cp36m-manylinux1_x86_64.whl (225kB)\n",
            "\u001b[K     |████████████████████████████████| 235kB 30.9MB/s \n",
            "\u001b[?25hCollecting icc-rt (from intel-numpy)\n",
            "\u001b[?25l  Downloading https://files.pythonhosted.org/packages/1e/29/0ee89498c2b3e96620add5f4730d4e55e685b292a47aa67f52975fed9f71/icc_rt-2019.0-py2.py3-none-manylinux1_x86_64.whl (11.2MB)\n",
            "\u001b[K     |████████████████████████████████| 11.2MB 33.4MB/s \n",
            "\u001b[?25hCollecting mkl-random (from intel-numpy)\n",
            "\u001b[?25l  Downloading https://files.pythonhosted.org/packages/c8/76/6255699dfa4e2265fadb91c27b991ad8113161835a76556396437fae1a7f/mkl_random-1.0.1.1-cp36-cp36m-manylinux1_x86_64.whl (396kB)\n",
            "\u001b[K     |████████████████████████████████| 399kB 48.7MB/s \n",
            "\u001b[?25hCollecting mkl-fft (from intel-numpy)\n",
            "\u001b[?25l  Downloading https://files.pythonhosted.org/packages/f3/98/0783b1543ee73d47a258ebdffe002adcaabb18085653a6e83b42c6835c41/mkl_fft-1.0.6-cp36-cp36m-manylinux1_x86_64.whl (232kB)\n",
            "\u001b[K     |████████████████████████████████| 235kB 46.0MB/s \n",
            "\u001b[?25hRequirement already satisfied: mkl in /usr/local/lib/python3.6/dist-packages (from intel-numpy) (2019.0)\n",
            "Collecting tbb==2019.* (from tbb4py->intel-numpy)\n",
            "\u001b[?25l  Downloading https://files.pythonhosted.org/packages/28/53/8bf93994fd985ea08c1ef64c7ec94a433611c6f6af5e3ddcc8c49d83fd5c/tbb-2019.0-py2.py3-none-manylinux1_x86_64.whl (895kB)\n",
            "\u001b[K     |████████████████████████████████| 901kB 40.9MB/s \n",
            "\u001b[?25hRequirement already satisfied: intel-openmp in /usr/local/lib/python3.6/dist-packages (from icc-rt->intel-numpy) (2019.0)\n",
            "Installing collected packages: tbb, tbb4py, icc-rt, mkl-random, mkl-fft, intel-numpy\n",
            "Successfully installed icc-rt-2019.0 intel-numpy-1.15.1 mkl-fft-1.0.6 mkl-random-1.0.1.1 tbb-2019.0 tbb4py-2019.0\n",
            "Collecting gensim\n",
            "\u001b[?25l  Downloading https://files.pythonhosted.org/packages/40/3d/89b27573f56abcd1b8c9598b240f53c45a3c79aa0924a24588e99716043b/gensim-3.8.0-cp36-cp36m-manylinux1_x86_64.whl (24.2MB)\n",
            "\u001b[K     |████████████████████████████████| 24.2MB 1.6MB/s \n",
            "\u001b[?25hRequirement already satisfied, skipping upgrade: smart-open>=1.7.0 in /usr/local/lib/python3.6/dist-packages (from gensim) (1.8.4)\n",
            "Requirement already satisfied, skipping upgrade: numpy>=1.11.3 in /usr/local/lib/python3.6/dist-packages (from gensim) (1.16.5)\n",
            "Requirement already satisfied, skipping upgrade: scipy>=0.18.1 in /usr/local/lib/python3.6/dist-packages (from gensim) (1.3.1)\n",
            "Requirement already satisfied, skipping upgrade: six>=1.5.0 in /usr/local/lib/python3.6/dist-packages (from gensim) (1.12.0)\n",
            "Requirement already satisfied, skipping upgrade: boto>=2.32 in /usr/local/lib/python3.6/dist-packages (from smart-open>=1.7.0->gensim) (2.49.0)\n",
            "Requirement already satisfied, skipping upgrade: boto3 in /usr/local/lib/python3.6/dist-packages (from smart-open>=1.7.0->gensim) (1.9.224)\n",
            "Requirement already satisfied, skipping upgrade: requests in /usr/local/lib/python3.6/dist-packages (from smart-open>=1.7.0->gensim) (2.21.0)\n",
            "Requirement already satisfied, skipping upgrade: s3transfer<0.3.0,>=0.2.0 in /usr/local/lib/python3.6/dist-packages (from boto3->smart-open>=1.7.0->gensim) (0.2.1)\n",
            "Requirement already satisfied, skipping upgrade: botocore<1.13.0,>=1.12.224 in /usr/local/lib/python3.6/dist-packages (from boto3->smart-open>=1.7.0->gensim) (1.12.224)\n",
            "Requirement already satisfied, skipping upgrade: jmespath<1.0.0,>=0.7.1 in /usr/local/lib/python3.6/dist-packages (from boto3->smart-open>=1.7.0->gensim) (0.9.4)\n",
            "Requirement already satisfied, skipping upgrade: chardet<3.1.0,>=3.0.2 in /usr/local/lib/python3.6/dist-packages (from requests->smart-open>=1.7.0->gensim) (3.0.4)\n",
            "Requirement already satisfied, skipping upgrade: urllib3<1.25,>=1.21.1 in /usr/local/lib/python3.6/dist-packages (from requests->smart-open>=1.7.0->gensim) (1.24.3)\n",
            "Requirement already satisfied, skipping upgrade: certifi>=2017.4.17 in /usr/local/lib/python3.6/dist-packages (from requests->smart-open>=1.7.0->gensim) (2019.6.16)\n",
            "Requirement already satisfied, skipping upgrade: idna<2.9,>=2.5 in /usr/local/lib/python3.6/dist-packages (from requests->smart-open>=1.7.0->gensim) (2.8)\n",
            "Requirement already satisfied, skipping upgrade: docutils<0.16,>=0.10 in /usr/local/lib/python3.6/dist-packages (from botocore<1.13.0,>=1.12.224->boto3->smart-open>=1.7.0->gensim) (0.15.2)\n",
            "Requirement already satisfied, skipping upgrade: python-dateutil<3.0.0,>=2.1; python_version >= \"2.7\" in /usr/local/lib/python3.6/dist-packages (from botocore<1.13.0,>=1.12.224->boto3->smart-open>=1.7.0->gensim) (2.5.3)\n",
            "Installing collected packages: gensim\n",
            "  Found existing installation: gensim 3.6.0\n",
            "    Uninstalling gensim-3.6.0:\n",
            "      Successfully uninstalled gensim-3.6.0\n",
            "Successfully installed gensim-3.8.0\n",
            "Requirement already up-to-date: keras in /usr/local/lib/python3.6/dist-packages (2.2.5)\n",
            "Requirement already satisfied, skipping upgrade: pyyaml in /usr/local/lib/python3.6/dist-packages (from keras) (3.13)\n",
            "Requirement already satisfied, skipping upgrade: scipy>=0.14 in /usr/local/lib/python3.6/dist-packages (from keras) (1.3.1)\n",
            "Requirement already satisfied, skipping upgrade: keras-preprocessing>=1.1.0 in /usr/local/lib/python3.6/dist-packages (from keras) (1.1.0)\n",
            "Requirement already satisfied, skipping upgrade: h5py in /usr/local/lib/python3.6/dist-packages (from keras) (2.8.0)\n",
            "Requirement already satisfied, skipping upgrade: keras-applications>=1.0.8 in /usr/local/lib/python3.6/dist-packages (from keras) (1.0.8)\n",
            "Requirement already satisfied, skipping upgrade: numpy>=1.9.1 in /usr/local/lib/python3.6/dist-packages (from keras) (1.16.5)\n",
            "Requirement already satisfied, skipping upgrade: six>=1.9.0 in /usr/local/lib/python3.6/dist-packages (from keras) (1.12.0)\n",
            "Collecting pandas\n",
            "\u001b[?25l  Downloading https://files.pythonhosted.org/packages/73/9b/52e228545d14f14bb2a1622e225f38463c8726645165e1cb7dde95bfe6d4/pandas-0.25.1-cp36-cp36m-manylinux1_x86_64.whl (10.5MB)\n",
            "\u001b[K     |████████████████████████████████| 10.5MB 6.6MB/s \n",
            "\u001b[?25hRequirement already satisfied, skipping upgrade: pytz>=2017.2 in /usr/local/lib/python3.6/dist-packages (from pandas) (2018.9)\n",
            "Requirement already satisfied, skipping upgrade: numpy>=1.13.3 in /usr/local/lib/python3.6/dist-packages (from pandas) (1.16.5)\n",
            "Collecting python-dateutil>=2.6.1 (from pandas)\n",
            "\u001b[?25l  Downloading https://files.pythonhosted.org/packages/41/17/c62faccbfbd163c7f57f3844689e3a78bae1f403648a6afb1d0866d87fbb/python_dateutil-2.8.0-py2.py3-none-any.whl (226kB)\n",
            "\u001b[K     |████████████████████████████████| 235kB 50.4MB/s \n",
            "\u001b[?25hRequirement already satisfied, skipping upgrade: six>=1.5 in /usr/local/lib/python3.6/dist-packages (from python-dateutil>=2.6.1->pandas) (1.12.0)\n",
            "\u001b[31mERROR: google-colab 1.0.0 has requirement pandas~=0.24.0, but you'll have pandas 0.25.1 which is incompatible.\u001b[0m\n",
            "\u001b[31mERROR: albumentations 0.1.12 has requirement imgaug<0.2.7,>=0.2.5, but you'll have imgaug 0.2.9 which is incompatible.\u001b[0m\n",
            "Installing collected packages: python-dateutil, pandas\n",
            "  Found existing installation: python-dateutil 2.5.3\n",
            "    Uninstalling python-dateutil-2.5.3:\n",
            "      Successfully uninstalled python-dateutil-2.5.3\n",
            "  Found existing installation: pandas 0.24.2\n",
            "    Uninstalling pandas-0.24.2:\n",
            "      Successfully uninstalled pandas-0.24.2\n",
            "Successfully installed pandas-0.25.1 python-dateutil-2.8.0\n"
          ],
          "name": "stdout"
        },
        {
          "output_type": "display_data",
          "data": {
            "application/vnd.colab-display-data+json": {
              "pip_warning": {
                "packages": [
                  "dateutil",
                  "pandas"
                ]
              }
            }
          },
          "metadata": {
            "tags": []
          }
        }
      ]
    },
    {
      "cell_type": "code",
      "metadata": {
        "id": "xkOk2s1sITFu",
        "colab_type": "code",
        "colab": {}
      },
      "source": [
        "!wget -c https://repo.continuum.io/archive/Anaconda3-5.1.0-Linux-x86_64.sh\n",
        "!chmod +x Anaconda3-5.1.0-Linux-x86_64.sh\n",
        "!bash ./Anaconda3-5.1.0-Linux-x86_64.sh -b -f -p /usr/local"
      ],
      "execution_count": 0,
      "outputs": []
    },
    {
      "cell_type": "code",
      "metadata": {
        "id": "J0KESyJtIUxu",
        "colab_type": "code",
        "colab": {}
      },
      "source": [
        "!conda install -q -y --prefix /usr/local -c conda-forge tensorflow\n",
        "import sys\n",
        "sys.path.append('/usr/local/lib/python3.6/site-packages/')"
      ],
      "execution_count": 0,
      "outputs": []
    },
    {
      "cell_type": "code",
      "metadata": {
        "id": "LqFExDsXIYLk",
        "colab_type": "code",
        "colab": {}
      },
      "source": [
        "!conda install -q -y --prefix /usr/local -c intel daal4py\n",
        "# import sys\n",
        "sys.path.append('/usr/local/lib/python3.6/site-packages/')"
      ],
      "execution_count": 0,
      "outputs": []
    },
    {
      "cell_type": "code",
      "metadata": {
        "id": "LVV3RAuSIc0Z",
        "colab_type": "code",
        "colab": {}
      },
      "source": [
        "import daal4py.sklearn\n",
        "daal4py.sklearn.unpatch_sklearn()"
      ],
      "execution_count": 0,
      "outputs": []
    },
    {
      "cell_type": "code",
      "metadata": {
        "id": "cgtVpLH0qBHz",
        "colab_type": "code",
        "colab": {}
      },
      "source": [
        "import pandas as pd\n",
        "\n",
        "# Matplot\n",
        "import matplotlib.pyplot as plt\n",
        "%matplotlib inline\n",
        "\n",
        "# Scikit-learn\n",
        "from sklearn.model_selection import train_test_split\n",
        "from sklearn.preprocessing import LabelEncoder\n",
        "from sklearn.metrics import confusion_matrix, classification_report, accuracy_score\n",
        "from sklearn.manifold import TSNE\n",
        "from sklearn.feature_extraction.text import TfidfVectorizer\n",
        "\n",
        "# Keras\n",
        "from keras.models import load_model\n",
        "from keras.preprocessing.text import Tokenizer\n",
        "from keras.preprocessing.sequence import pad_sequences\n",
        "from keras.models import Sequential\n",
        "from keras.layers import Activation, Dense, Dropout, Embedding, Flatten, Conv1D, MaxPooling1D, LSTM\n",
        "from keras import utils\n",
        "from keras.callbacks import ReduceLROnPlateau, EarlyStopping\n",
        "\n",
        "# nltk\n",
        "import nltk\n",
        "from nltk.corpus import stopwords\n",
        "from  nltk.stem import SnowballStemmer\n",
        "\n",
        "# Word2vec\n",
        "import gensim\n",
        "\n",
        "# Utility\n",
        "import re\n",
        "import numpy as np\n",
        "import os\n",
        "from collections import Counter\n",
        "import logging\n",
        "import time\n",
        "import pickle\n",
        "import itertools\n",
        "\n",
        "# Set log\n",
        "logging.basicConfig(format='%(asctime)s : %(levelname)s : %(message)s', level=logging.INFO)"
      ],
      "execution_count": 0,
      "outputs": []
    },
    {
      "cell_type": "code",
      "metadata": {
        "id": "lh_U7ERHWv3Q",
        "colab_type": "code",
        "colab": {}
      },
      "source": [
        "from keras import backend as K\n",
        "\n",
        "import tensorflow as tf\n",
        "\n",
        "config = tf.ConfigProto(intra_op_parallelism_threads=2, inter_op_parallelism_threads=2, allow_soft_placement=True, device_count = {'CPU': 2 })\n",
        "\n",
        "session = tf.Session(config=config)\n",
        "\n",
        "K.set_session(session)\n",
        "\n",
        "os.environ[\"OMP_NUM_THREADS\"] = \"2\"\n",
        "\n",
        "os.environ[\"KMP_BLOCKTIME\"] = \"30\"\n",
        "\n",
        "os.environ[\"KMP_SETTINGS\"] = \"1\"\n",
        "\n",
        "os.environ[\"KMP_AFFINITY\"]= \"granularity=fine,verbose,compact,1,0\""
      ],
      "execution_count": 0,
      "outputs": []
    },
    {
      "cell_type": "code",
      "metadata": {
        "id": "9AdVQZVmricV",
        "colab_type": "code",
        "outputId": "79a2bd8f-ad7a-4471-dcbc-b0019f7c6b72",
        "colab": {
          "base_uri": "https://localhost:8080/",
          "height": 69
        }
      },
      "source": [
        "nltk.download('stopwords')"
      ],
      "execution_count": 0,
      "outputs": [
        {
          "output_type": "stream",
          "text": [
            "[nltk_data] Downloading package stopwords to /root/nltk_data...\n",
            "[nltk_data]   Unzipping corpora/stopwords.zip.\n"
          ],
          "name": "stdout"
        },
        {
          "output_type": "execute_result",
          "data": {
            "text/plain": [
              "True"
            ]
          },
          "metadata": {
            "tags": []
          },
          "execution_count": 3
        }
      ]
    },
    {
      "cell_type": "code",
      "metadata": {
        "id": "l63FuP3or4Yf",
        "colab_type": "code",
        "colab": {}
      },
      "source": [
        "# DATASET\n",
        "DATASET_COLUMNS = [\"target\", \"ids\", \"date\", \"flag\", \"user\", \"text\"]\n",
        "DATASET_ENCODING = \"ISO-8859-1\"\n",
        "TRAIN_SIZE = 0.8\n",
        "\n",
        "# TEXT CLENAING\n",
        "TEXT_CLEANING_RE = \"@\\S+|https?:\\S+|http?:\\S|[^A-Za-z0-9]+\"\n",
        "\n",
        "# WORD2VEC \n",
        "W2V_SIZE = 300\n",
        "W2V_WINDOW = 7\n",
        "W2V_EPOCH = 32\n",
        "W2V_MIN_COUNT = 10\n",
        "\n",
        "# KERAS\n",
        "SEQUENCE_LENGTH = 300\n",
        "EPOCHS = 8\n",
        "BATCH_SIZE = 1024\n",
        "\n",
        "# SENTIMENT\n",
        "POSITIVE = \"POSITIVE\"\n",
        "NEGATIVE = \"NEGATIVE\"\n",
        "NEUTRAL = \"NEUTRAL\"\n",
        "SENTIMENT_THRESHOLDS = (0.4, 0.7)\n",
        "\n",
        "# EXPORT\n",
        "KERAS_MODEL = \"model.h5\"\n",
        "WORD2VEC_MODEL = \"model.w2v\"\n",
        "TOKENIZER_MODEL = \"tokenizer.pkl\"\n",
        "ENCODER_MODEL = \"encoder.pkl\""
      ],
      "execution_count": 0,
      "outputs": []
    },
    {
      "cell_type": "code",
      "metadata": {
        "id": "ipEi9C0ysR7B",
        "colab_type": "code",
        "outputId": "14aede4c-b17e-4598-d509-02d49e38328b",
        "colab": {
          "base_uri": "https://localhost:8080/",
          "height": 124
        }
      },
      "source": [
        "from google.colab import drive\n",
        "drive.mount('/content/drive')"
      ],
      "execution_count": 0,
      "outputs": [
        {
          "output_type": "stream",
          "text": [
            "Go to this URL in a browser: https://accounts.google.com/o/oauth2/auth?client_id=947318989803-6bn6qk8qdgf4n4g3pfee6491hc0brc4i.apps.googleusercontent.com&redirect_uri=urn%3Aietf%3Awg%3Aoauth%3A2.0%3Aoob&scope=email%20https%3A%2F%2Fwww.googleapis.com%2Fauth%2Fdocs.test%20https%3A%2F%2Fwww.googleapis.com%2Fauth%2Fdrive%20https%3A%2F%2Fwww.googleapis.com%2Fauth%2Fdrive.photos.readonly%20https%3A%2F%2Fwww.googleapis.com%2Fauth%2Fpeopleapi.readonly&response_type=code\n",
            "\n",
            "Enter your authorization code:\n",
            "··········\n",
            "Mounted at /content/drive\n"
          ],
          "name": "stdout"
        }
      ]
    },
    {
      "cell_type": "code",
      "metadata": {
        "id": "EbW77C17tHGE",
        "colab_type": "code",
        "colab": {}
      },
      "source": [
        "# %cd My Drive/intel_hackfury"
      ],
      "execution_count": 0,
      "outputs": []
    },
    {
      "cell_type": "code",
      "metadata": {
        "id": "pueuKQektiJ9",
        "colab_type": "code",
        "outputId": "eee4351a-9f73-4433-a79a-c542e6410fba",
        "colab": {
          "base_uri": "https://localhost:8080/",
          "height": 34
        }
      },
      "source": [
        "!pwd"
      ],
      "execution_count": 0,
      "outputs": [
        {
          "output_type": "stream",
          "text": [
            "/content\n"
          ],
          "name": "stdout"
        }
      ]
    },
    {
      "cell_type": "code",
      "metadata": {
        "id": "k5RLmDkWsEXs",
        "colab_type": "code",
        "colab": {}
      },
      "source": [
        "# dataset_filename = os.listdir(\"../input\")[0]\n",
        "# dataset_path = os.path.join(\"..\",\"input\",dataset_filename)\n",
        "# print(\"Open file:\", dataset_path)\n",
        "df = pd.read_csv('./drive/My Drive/intel_hackfury/training.1600000.processed.noemoticon.csv', encoding =DATASET_ENCODING , names=DATASET_COLUMNS)"
      ],
      "execution_count": 0,
      "outputs": []
    },
    {
      "cell_type": "code",
      "metadata": {
        "id": "76qVN6itsP8h",
        "colab_type": "code",
        "outputId": "1b1be6d0-b402-487b-952a-e9d1ed111083",
        "colab": {
          "base_uri": "https://localhost:8080/",
          "height": 293
        }
      },
      "source": [
        "df.head(5)"
      ],
      "execution_count": 0,
      "outputs": [
        {
          "output_type": "execute_result",
          "data": {
            "text/html": [
              "<div>\n",
              "<style scoped>\n",
              "    .dataframe tbody tr th:only-of-type {\n",
              "        vertical-align: middle;\n",
              "    }\n",
              "\n",
              "    .dataframe tbody tr th {\n",
              "        vertical-align: top;\n",
              "    }\n",
              "\n",
              "    .dataframe thead th {\n",
              "        text-align: right;\n",
              "    }\n",
              "</style>\n",
              "<table border=\"1\" class=\"dataframe\">\n",
              "  <thead>\n",
              "    <tr style=\"text-align: right;\">\n",
              "      <th></th>\n",
              "      <th>target</th>\n",
              "      <th>ids</th>\n",
              "      <th>date</th>\n",
              "      <th>flag</th>\n",
              "      <th>user</th>\n",
              "      <th>text</th>\n",
              "    </tr>\n",
              "  </thead>\n",
              "  <tbody>\n",
              "    <tr>\n",
              "      <td>0</td>\n",
              "      <td>0</td>\n",
              "      <td>1467810369</td>\n",
              "      <td>Mon Apr 06 22:19:45 PDT 2009</td>\n",
              "      <td>NO_QUERY</td>\n",
              "      <td>_TheSpecialOne_</td>\n",
              "      <td>@switchfoot http://twitpic.com/2y1zl - Awww, t...</td>\n",
              "    </tr>\n",
              "    <tr>\n",
              "      <td>1</td>\n",
              "      <td>0</td>\n",
              "      <td>1467810672</td>\n",
              "      <td>Mon Apr 06 22:19:49 PDT 2009</td>\n",
              "      <td>NO_QUERY</td>\n",
              "      <td>scotthamilton</td>\n",
              "      <td>is upset that he can't update his Facebook by ...</td>\n",
              "    </tr>\n",
              "    <tr>\n",
              "      <td>2</td>\n",
              "      <td>0</td>\n",
              "      <td>1467810917</td>\n",
              "      <td>Mon Apr 06 22:19:53 PDT 2009</td>\n",
              "      <td>NO_QUERY</td>\n",
              "      <td>mattycus</td>\n",
              "      <td>@Kenichan I dived many times for the ball. Man...</td>\n",
              "    </tr>\n",
              "    <tr>\n",
              "      <td>3</td>\n",
              "      <td>0</td>\n",
              "      <td>1467811184</td>\n",
              "      <td>Mon Apr 06 22:19:57 PDT 2009</td>\n",
              "      <td>NO_QUERY</td>\n",
              "      <td>ElleCTF</td>\n",
              "      <td>my whole body feels itchy and like its on fire</td>\n",
              "    </tr>\n",
              "    <tr>\n",
              "      <td>4</td>\n",
              "      <td>0</td>\n",
              "      <td>1467811193</td>\n",
              "      <td>Mon Apr 06 22:19:57 PDT 2009</td>\n",
              "      <td>NO_QUERY</td>\n",
              "      <td>Karoli</td>\n",
              "      <td>@nationwideclass no, it's not behaving at all....</td>\n",
              "    </tr>\n",
              "  </tbody>\n",
              "</table>\n",
              "</div>"
            ],
            "text/plain": [
              "   target  ...                                               text\n",
              "0       0  ...  @switchfoot http://twitpic.com/2y1zl - Awww, t...\n",
              "1       0  ...  is upset that he can't update his Facebook by ...\n",
              "2       0  ...  @Kenichan I dived many times for the ball. Man...\n",
              "3       0  ...    my whole body feels itchy and like its on fire \n",
              "4       0  ...  @nationwideclass no, it's not behaving at all....\n",
              "\n",
              "[5 rows x 6 columns]"
            ]
          },
          "metadata": {
            "tags": []
          },
          "execution_count": 8
        }
      ]
    },
    {
      "cell_type": "code",
      "metadata": {
        "id": "d07JQvOpt0ef",
        "colab_type": "code",
        "colab": {}
      },
      "source": [
        "decode_map = {0: \"NEGATIVE\", 2: \"NEUTRAL\", 4: \"POSITIVE\"}\n",
        "def decode_sentiment(label):\n",
        "    return decode_map[int(label)]"
      ],
      "execution_count": 0,
      "outputs": []
    },
    {
      "cell_type": "code",
      "metadata": {
        "id": "2zDb3Vtnt22c",
        "colab_type": "code",
        "outputId": "c9ec6a2c-314c-4b75-cb97-afa8a84c34e7",
        "colab": {
          "base_uri": "https://localhost:8080/",
          "height": 52
        }
      },
      "source": [
        "\n",
        "\n",
        "%%time\n",
        "df.target = df.target.apply(lambda x: decode_sentiment(x))\n",
        "\n"
      ],
      "execution_count": 0,
      "outputs": [
        {
          "output_type": "stream",
          "text": [
            "CPU times: user 573 ms, sys: 2.19 ms, total: 575 ms\n",
            "Wall time: 581 ms\n"
          ],
          "name": "stdout"
        }
      ]
    },
    {
      "cell_type": "code",
      "metadata": {
        "id": "4AhW4cUyt6-1",
        "colab_type": "code",
        "outputId": "bfbe841c-b55c-4c1a-bb79-2229abf77064",
        "colab": {
          "base_uri": "https://localhost:8080/",
          "height": 536
        }
      },
      "source": [
        "target_cnt = Counter(df.target)\n",
        "\n",
        "plt.figure(figsize=(16,8))\n",
        "plt.bar(target_cnt.keys(), target_cnt.values())\n",
        "plt.title(\"Dataset labels distribuition\")"
      ],
      "execution_count": 0,
      "outputs": [
        {
          "output_type": "execute_result",
          "data": {
            "text/plain": [
              "Text(0.5, 1.0, 'Dataset labels distribuition')"
            ]
          },
          "metadata": {
            "tags": []
          },
          "execution_count": 11
        },
        {
          "output_type": "display_data",
          "data": {
            "image/png": "[encoded data removed]",
            "text/plain": [
              "<Figure size 1152x576 with 1 Axes>"
            ]
          },
          "metadata": {
            "tags": []
          }
        }
      ]
    },
    {
      "cell_type": "code",
      "metadata": {
        "id": "JBMGzJT2t9YG",
        "colab_type": "code",
        "colab": {}
      },
      "source": [
        "stop_words = stopwords.words(\"english\")\n",
        "stemmer = SnowballStemmer(\"english\")"
      ],
      "execution_count": 0,
      "outputs": []
    },
    {
      "cell_type": "code",
      "metadata": {
        "id": "-HOf1R1ct_1j",
        "colab_type": "code",
        "colab": {}
      },
      "source": [
        "def preprocess(text, stem=False):\n",
        "    # Remove link,user and special characters\n",
        "    text = re.sub(TEXT_CLEANING_RE, ' ', str(text).lower()).strip()\n",
        "    tokens = []\n",
        "    for token in text.split():\n",
        "        if token not in stop_words:\n",
        "            if stem:\n",
        "                tokens.append(stemmer.stem(token))\n",
        "            else:\n",
        "                tokens.append(token)\n",
        "    return \" \".join(tokens)"
      ],
      "execution_count": 0,
      "outputs": []
    },
    {
      "cell_type": "code",
      "metadata": {
        "id": "YxX_HKzmuCFM",
        "colab_type": "code",
        "outputId": "529772ae-7a72-4135-cb61-7c85965772bb",
        "colab": {
          "base_uri": "https://localhost:8080/",
          "height": 52
        }
      },
      "source": [
        "\n",
        "\n",
        "%%time\n",
        "df.text = df.text.apply(lambda x: preprocess(x))\n",
        "\n"
      ],
      "execution_count": 0,
      "outputs": [
        {
          "output_type": "stream",
          "text": [
            "CPU times: user 48.5 s, sys: 201 ms, total: 48.7 s\n",
            "Wall time: 48.8 s\n"
          ],
          "name": "stdout"
        }
      ]
    },
    {
      "cell_type": "code",
      "metadata": {
        "id": "UF85B6eDuEnk",
        "colab_type": "code",
        "outputId": "86578cef-db90-4912-eb93-4915f445bc0e",
        "colab": {
          "base_uri": "https://localhost:8080/",
          "height": 52
        }
      },
      "source": [
        "df_train, df_test = train_test_split(df, test_size=1-TRAIN_SIZE, random_state=42)\n",
        "print(\"TRAIN size:\", len(df_train))\n",
        "print(\"TEST size:\", len(df_test))"
      ],
      "execution_count": 0,
      "outputs": [
        {
          "output_type": "stream",
          "text": [
            "TRAIN size: 1280000\n",
            "TEST size: 320000\n"
          ],
          "name": "stdout"
        }
      ]
    },
    {
      "cell_type": "code",
      "metadata": {
        "id": "RqL7Tu2aucPY",
        "colab_type": "code",
        "outputId": "76f05a9a-314f-4ba3-dcfe-bb2fcdc0f102",
        "colab": {
          "base_uri": "https://localhost:8080/",
          "height": 52
        }
      },
      "source": [
        "\n",
        "\n",
        "%%time\n",
        "documents = [_text.split() for _text in df_train.text] \n",
        "\n"
      ],
      "execution_count": 0,
      "outputs": [
        {
          "output_type": "stream",
          "text": [
            "CPU times: user 2.74 s, sys: 319 ms, total: 3.06 s\n",
            "Wall time: 3.07 s\n"
          ],
          "name": "stdout"
        }
      ]
    },
    {
      "cell_type": "code",
      "metadata": {
        "id": "4uHuW1WEufwk",
        "colab_type": "code",
        "colab": {}
      },
      "source": [
        "\n",
        "\n",
        "w2v_model = gensim.models.word2vec.Word2Vec(size=W2V_SIZE, \n",
        "                                            window=W2V_WINDOW, \n",
        "                                            min_count=W2V_MIN_COUNT, \n",
        "                                            workers=8)\n",
        "\n"
      ],
      "execution_count": 0,
      "outputs": []
    },
    {
      "cell_type": "code",
      "metadata": {
        "id": "eoMZ33TruiOm",
        "colab_type": "code",
        "outputId": "f1dd4ee0-5496-4b1e-cdd4-1fef291302dd",
        "colab": {
          "base_uri": "https://localhost:8080/",
          "height": 1000
        }
      },
      "source": [
        "w2v_model.build_vocab(documents)"
      ],
      "execution_count": 0,
      "outputs": [
        {
          "output_type": "stream",
          "text": [
            "2019-09-15 07:01:43,821 : INFO : collecting all words and their counts\n",
            "2019-09-15 07:01:43,824 : INFO : PROGRESS: at sentence #0, processed 0 words, keeping 0 word types\n",
            "2019-09-15 07:01:43,858 : INFO : PROGRESS: at sentence #10000, processed 72565 words, keeping 14005 word types\n",
            "2019-09-15 07:01:43,881 : INFO : PROGRESS: at sentence #20000, processed 144393 words, keeping 21587 word types\n",
            "2019-09-15 07:01:43,905 : INFO : PROGRESS: at sentence #30000, processed 215826 words, keeping 27541 word types\n",
            "2019-09-15 07:01:43,928 : INFO : PROGRESS: at sentence #40000, processed 288271 words, keeping 32764 word types\n",
            "2019-09-15 07:01:43,951 : INFO : PROGRESS: at sentence #50000, processed 359772 words, keeping 37587 word types\n",
            "2019-09-15 07:01:43,975 : INFO : PROGRESS: at sentence #60000, processed 431431 words, keeping 42198 word types\n",
            "2019-09-15 07:01:43,999 : INFO : PROGRESS: at sentence #70000, processed 503103 words, keeping 46458 word types\n",
            "2019-09-15 07:01:44,021 : INFO : PROGRESS: at sentence #80000, processed 575709 words, keeping 50476 word types\n",
            "2019-09-15 07:01:44,045 : INFO : PROGRESS: at sentence #90000, processed 647100 words, keeping 54140 word types\n",
            "2019-09-15 07:01:44,067 : INFO : PROGRESS: at sentence #100000, processed 718681 words, keeping 57777 word types\n",
            "2019-09-15 07:01:44,090 : INFO : PROGRESS: at sentence #110000, processed 790696 words, keeping 61207 word types\n",
            "2019-09-15 07:01:44,113 : INFO : PROGRESS: at sentence #120000, processed 863134 words, keeping 64583 word types\n",
            "2019-09-15 07:01:44,137 : INFO : PROGRESS: at sentence #130000, processed 935111 words, keeping 67865 word types\n",
            "2019-09-15 07:01:44,159 : INFO : PROGRESS: at sentence #140000, processed 1006668 words, keeping 70966 word types\n",
            "2019-09-15 07:01:44,182 : INFO : PROGRESS: at sentence #150000, processed 1078512 words, keeping 74119 word types\n",
            "2019-09-15 07:01:44,205 : INFO : PROGRESS: at sentence #160000, processed 1149914 words, keeping 77187 word types\n",
            "2019-09-15 07:01:44,230 : INFO : PROGRESS: at sentence #170000, processed 1222145 words, keeping 80267 word types\n",
            "2019-09-15 07:01:44,252 : INFO : PROGRESS: at sentence #180000, processed 1294708 words, keeping 83393 word types\n",
            "2019-09-15 07:01:44,277 : INFO : PROGRESS: at sentence #190000, processed 1367608 words, keeping 86329 word types\n",
            "2019-09-15 07:01:44,303 : INFO : PROGRESS: at sentence #200000, processed 1439469 words, keeping 89103 word types\n",
            "2019-09-15 07:01:44,326 : INFO : PROGRESS: at sentence #210000, processed 1512099 words, keeping 91840 word types\n",
            "2019-09-15 07:01:44,349 : INFO : PROGRESS: at sentence #220000, processed 1584149 words, keeping 94636 word types\n",
            "2019-09-15 07:01:44,372 : INFO : PROGRESS: at sentence #230000, processed 1656354 words, keeping 97353 word types\n",
            "2019-09-15 07:01:44,396 : INFO : PROGRESS: at sentence #240000, processed 1728573 words, keeping 99975 word types\n",
            "2019-09-15 07:01:44,420 : INFO : PROGRESS: at sentence #250000, processed 1801102 words, keeping 102594 word types\n",
            "2019-09-15 07:01:44,450 : INFO : PROGRESS: at sentence #260000, processed 1873103 words, keeping 105162 word types\n",
            "2019-09-15 07:01:44,474 : INFO : PROGRESS: at sentence #270000, processed 1945245 words, keeping 107626 word types\n",
            "2019-09-15 07:01:44,497 : INFO : PROGRESS: at sentence #280000, processed 2017163 words, keeping 110141 word types\n",
            "2019-09-15 07:01:44,521 : INFO : PROGRESS: at sentence #290000, processed 2089574 words, keeping 112539 word types\n",
            "2019-09-15 07:01:44,545 : INFO : PROGRESS: at sentence #300000, processed 2160996 words, keeping 114893 word types\n",
            "2019-09-15 07:01:44,569 : INFO : PROGRESS: at sentence #310000, processed 2232913 words, keeping 117298 word types\n",
            "2019-09-15 07:01:44,592 : INFO : PROGRESS: at sentence #320000, processed 2305039 words, keeping 119693 word types\n",
            "2019-09-15 07:01:44,616 : INFO : PROGRESS: at sentence #330000, processed 2377119 words, keeping 122131 word types\n",
            "2019-09-15 07:01:44,639 : INFO : PROGRESS: at sentence #340000, processed 2449370 words, keeping 124416 word types\n",
            "2019-09-15 07:01:44,663 : INFO : PROGRESS: at sentence #350000, processed 2521564 words, keeping 126669 word types\n",
            "2019-09-15 07:01:44,686 : INFO : PROGRESS: at sentence #360000, processed 2593681 words, keeping 128912 word types\n",
            "2019-09-15 07:01:44,709 : INFO : PROGRESS: at sentence #370000, processed 2665692 words, keeping 131135 word types\n",
            "2019-09-15 07:01:44,733 : INFO : PROGRESS: at sentence #380000, processed 2737859 words, keeping 133403 word types\n",
            "2019-09-15 07:01:44,755 : INFO : PROGRESS: at sentence #390000, processed 2809848 words, keeping 135551 word types\n",
            "2019-09-15 07:01:44,779 : INFO : PROGRESS: at sentence #400000, processed 2882438 words, keeping 137742 word types\n",
            "2019-09-15 07:01:44,802 : INFO : PROGRESS: at sentence #410000, processed 2954075 words, keeping 139909 word types\n",
            "2019-09-15 07:01:44,829 : INFO : PROGRESS: at sentence #420000, processed 3026247 words, keeping 142144 word types\n",
            "2019-09-15 07:01:44,856 : INFO : PROGRESS: at sentence #430000, processed 3098659 words, keeping 144364 word types\n",
            "2019-09-15 07:01:44,880 : INFO : PROGRESS: at sentence #440000, processed 3170663 words, keeping 146439 word types\n",
            "2019-09-15 07:01:44,904 : INFO : PROGRESS: at sentence #450000, processed 3243344 words, keeping 148526 word types\n",
            "2019-09-15 07:01:44,927 : INFO : PROGRESS: at sentence #460000, processed 3315466 words, keeping 150610 word types\n",
            "2019-09-15 07:01:44,952 : INFO : PROGRESS: at sentence #470000, processed 3388295 words, keeping 152737 word types\n",
            "2019-09-15 07:01:44,977 : INFO : PROGRESS: at sentence #480000, processed 3460120 words, keeping 154757 word types\n",
            "2019-09-15 07:01:45,001 : INFO : PROGRESS: at sentence #490000, processed 3531883 words, keeping 156825 word types\n",
            "2019-09-15 07:01:45,026 : INFO : PROGRESS: at sentence #500000, processed 3604217 words, keeping 158859 word types\n",
            "2019-09-15 07:01:45,050 : INFO : PROGRESS: at sentence #510000, processed 3676427 words, keeping 160852 word types\n",
            "2019-09-15 07:01:45,074 : INFO : PROGRESS: at sentence #520000, processed 3749045 words, keeping 162863 word types\n",
            "2019-09-15 07:01:45,098 : INFO : PROGRESS: at sentence #530000, processed 3821622 words, keeping 164929 word types\n",
            "2019-09-15 07:01:45,125 : INFO : PROGRESS: at sentence #540000, processed 3893627 words, keeping 166840 word types\n",
            "2019-09-15 07:01:45,148 : INFO : PROGRESS: at sentence #550000, processed 3965477 words, keeping 168799 word types\n",
            "2019-09-15 07:01:45,174 : INFO : PROGRESS: at sentence #560000, processed 4038050 words, keeping 170802 word types\n",
            "2019-09-15 07:01:45,199 : INFO : PROGRESS: at sentence #570000, processed 4110296 words, keeping 172760 word types\n",
            "2019-09-15 07:01:45,225 : INFO : PROGRESS: at sentence #580000, processed 4182385 words, keeping 174635 word types\n",
            "2019-09-15 07:01:45,260 : INFO : PROGRESS: at sentence #590000, processed 4254632 words, keeping 176470 word types\n",
            "2019-09-15 07:01:45,283 : INFO : PROGRESS: at sentence #600000, processed 4326859 words, keeping 178350 word types\n",
            "2019-09-15 07:01:45,307 : INFO : PROGRESS: at sentence #610000, processed 4399183 words, keeping 180290 word types\n",
            "2019-09-15 07:01:45,332 : INFO : PROGRESS: at sentence #620000, processed 4471343 words, keeping 182129 word types\n",
            "2019-09-15 07:01:45,356 : INFO : PROGRESS: at sentence #630000, processed 4543286 words, keeping 184005 word types\n",
            "2019-09-15 07:01:45,381 : INFO : PROGRESS: at sentence #640000, processed 4615780 words, keeping 185835 word types\n",
            "2019-09-15 07:01:45,404 : INFO : PROGRESS: at sentence #650000, processed 4688481 words, keeping 187705 word types\n",
            "2019-09-15 07:01:45,430 : INFO : PROGRESS: at sentence #660000, processed 4760481 words, keeping 189439 word types\n",
            "2019-09-15 07:01:45,460 : INFO : PROGRESS: at sentence #670000, processed 4833024 words, keeping 191232 word types\n",
            "2019-09-15 07:01:45,487 : INFO : PROGRESS: at sentence #680000, processed 4904516 words, keeping 193177 word types\n",
            "2019-09-15 07:01:45,512 : INFO : PROGRESS: at sentence #690000, processed 4976968 words, keeping 194960 word types\n",
            "2019-09-15 07:01:45,537 : INFO : PROGRESS: at sentence #700000, processed 5049412 words, keeping 196725 word types\n",
            "2019-09-15 07:01:45,562 : INFO : PROGRESS: at sentence #710000, processed 5121976 words, keeping 198516 word types\n",
            "2019-09-15 07:01:45,586 : INFO : PROGRESS: at sentence #720000, processed 5193881 words, keeping 200325 word types\n",
            "2019-09-15 07:01:45,610 : INFO : PROGRESS: at sentence #730000, processed 5265467 words, keeping 202133 word types\n",
            "2019-09-15 07:01:45,635 : INFO : PROGRESS: at sentence #740000, processed 5337518 words, keeping 203818 word types\n",
            "2019-09-15 07:01:45,659 : INFO : PROGRESS: at sentence #750000, processed 5409321 words, keeping 205535 word types\n",
            "2019-09-15 07:01:45,684 : INFO : PROGRESS: at sentence #760000, processed 5481512 words, keeping 207282 word types\n",
            "2019-09-15 07:01:45,708 : INFO : PROGRESS: at sentence #770000, processed 5554093 words, keeping 209076 word types\n",
            "2019-09-15 07:01:45,733 : INFO : PROGRESS: at sentence #780000, processed 5625382 words, keeping 210805 word types\n",
            "2019-09-15 07:01:45,757 : INFO : PROGRESS: at sentence #790000, processed 5698066 words, keeping 212618 word types\n",
            "2019-09-15 07:01:45,781 : INFO : PROGRESS: at sentence #800000, processed 5770880 words, keeping 214374 word types\n",
            "2019-09-15 07:01:45,808 : INFO : PROGRESS: at sentence #810000, processed 5843418 words, keeping 216009 word types\n",
            "2019-09-15 07:01:45,836 : INFO : PROGRESS: at sentence #820000, processed 5915628 words, keeping 217804 word types\n",
            "2019-09-15 07:01:45,863 : INFO : PROGRESS: at sentence #830000, processed 5987499 words, keeping 219585 word types\n",
            "2019-09-15 07:01:45,887 : INFO : PROGRESS: at sentence #840000, processed 6058973 words, keeping 221344 word types\n",
            "2019-09-15 07:01:45,913 : INFO : PROGRESS: at sentence #850000, processed 6131125 words, keeping 223002 word types\n",
            "2019-09-15 07:01:45,937 : INFO : PROGRESS: at sentence #860000, processed 6202951 words, keeping 224643 word types\n",
            "2019-09-15 07:01:45,963 : INFO : PROGRESS: at sentence #870000, processed 6275461 words, keeping 226362 word types\n",
            "2019-09-15 07:01:45,989 : INFO : PROGRESS: at sentence #880000, processed 6347661 words, keeping 227986 word types\n",
            "2019-09-15 07:01:46,014 : INFO : PROGRESS: at sentence #890000, processed 6419806 words, keeping 229634 word types\n",
            "2019-09-15 07:01:46,039 : INFO : PROGRESS: at sentence #900000, processed 6491644 words, keeping 231389 word types\n",
            "2019-09-15 07:01:46,064 : INFO : PROGRESS: at sentence #910000, processed 6564022 words, keeping 233050 word types\n",
            "2019-09-15 07:01:46,090 : INFO : PROGRESS: at sentence #920000, processed 6636228 words, keeping 234686 word types\n",
            "2019-09-15 07:01:46,116 : INFO : PROGRESS: at sentence #930000, processed 6708573 words, keeping 236393 word types\n",
            "2019-09-15 07:01:46,141 : INFO : PROGRESS: at sentence #940000, processed 6779956 words, keeping 238052 word types\n",
            "2019-09-15 07:01:46,166 : INFO : PROGRESS: at sentence #950000, processed 6852599 words, keeping 239716 word types\n",
            "2019-09-15 07:01:46,192 : INFO : PROGRESS: at sentence #960000, processed 6924717 words, keeping 241354 word types\n",
            "2019-09-15 07:01:46,217 : INFO : PROGRESS: at sentence #970000, processed 6996992 words, keeping 242980 word types\n",
            "2019-09-15 07:01:46,244 : INFO : PROGRESS: at sentence #980000, processed 7068402 words, keeping 244646 word types\n",
            "2019-09-15 07:01:46,268 : INFO : PROGRESS: at sentence #990000, processed 7140346 words, keeping 246186 word types\n",
            "2019-09-15 07:01:46,293 : INFO : PROGRESS: at sentence #1000000, processed 7211757 words, keeping 247726 word types\n",
            "2019-09-15 07:01:46,317 : INFO : PROGRESS: at sentence #1010000, processed 7283267 words, keeping 249288 word types\n",
            "2019-09-15 07:01:46,343 : INFO : PROGRESS: at sentence #1020000, processed 7355299 words, keeping 250860 word types\n",
            "2019-09-15 07:01:46,368 : INFO : PROGRESS: at sentence #1030000, processed 7426918 words, keeping 252366 word types\n",
            "2019-09-15 07:01:46,392 : INFO : PROGRESS: at sentence #1040000, processed 7498815 words, keeping 253930 word types\n",
            "2019-09-15 07:01:46,417 : INFO : PROGRESS: at sentence #1050000, processed 7570499 words, keeping 255471 word types\n",
            "2019-09-15 07:01:46,444 : INFO : PROGRESS: at sentence #1060000, processed 7643251 words, keeping 257035 word types\n",
            "2019-09-15 07:01:46,476 : INFO : PROGRESS: at sentence #1070000, processed 7714721 words, keeping 258509 word types\n",
            "2019-09-15 07:01:46,504 : INFO : PROGRESS: at sentence #1080000, processed 7787371 words, keeping 260071 word types\n",
            "2019-09-15 07:01:46,530 : INFO : PROGRESS: at sentence #1090000, processed 7859336 words, keeping 261683 word types\n",
            "2019-09-15 07:01:46,556 : INFO : PROGRESS: at sentence #1100000, processed 7932029 words, keeping 263278 word types\n",
            "2019-09-15 07:01:46,580 : INFO : PROGRESS: at sentence #1110000, processed 8004146 words, keeping 264800 word types\n",
            "2019-09-15 07:01:46,606 : INFO : PROGRESS: at sentence #1120000, processed 8075880 words, keeping 266309 word types\n",
            "2019-09-15 07:01:46,630 : INFO : PROGRESS: at sentence #1130000, processed 8148163 words, keeping 267826 word types\n",
            "2019-09-15 07:01:46,656 : INFO : PROGRESS: at sentence #1140000, processed 8220487 words, keeping 269391 word types\n",
            "2019-09-15 07:01:46,681 : INFO : PROGRESS: at sentence #1150000, processed 8292498 words, keeping 270894 word types\n",
            "2019-09-15 07:01:46,705 : INFO : PROGRESS: at sentence #1160000, processed 8363838 words, keeping 272400 word types\n",
            "2019-09-15 07:01:46,731 : INFO : PROGRESS: at sentence #1170000, processed 8435510 words, keeping 273970 word types\n",
            "2019-09-15 07:01:46,758 : INFO : PROGRESS: at sentence #1180000, processed 8507795 words, keeping 275521 word types\n",
            "2019-09-15 07:01:46,783 : INFO : PROGRESS: at sentence #1190000, processed 8579080 words, keeping 277007 word types\n",
            "2019-09-15 07:01:46,809 : INFO : PROGRESS: at sentence #1200000, processed 8650606 words, keeping 278457 word types\n",
            "2019-09-15 07:01:46,838 : INFO : PROGRESS: at sentence #1210000, processed 8721893 words, keeping 279959 word types\n",
            "2019-09-15 07:01:46,864 : INFO : PROGRESS: at sentence #1220000, processed 8793795 words, keeping 281427 word types\n",
            "2019-09-15 07:01:46,889 : INFO : PROGRESS: at sentence #1230000, processed 8865726 words, keeping 282981 word types\n",
            "2019-09-15 07:01:46,915 : INFO : PROGRESS: at sentence #1240000, processed 8938173 words, keeping 284542 word types\n",
            "2019-09-15 07:01:46,939 : INFO : PROGRESS: at sentence #1250000, processed 9010842 words, keeping 286064 word types\n",
            "2019-09-15 07:01:46,965 : INFO : PROGRESS: at sentence #1260000, processed 9083261 words, keeping 287521 word types\n",
            "2019-09-15 07:01:46,990 : INFO : PROGRESS: at sentence #1270000, processed 9155616 words, keeping 288987 word types\n",
            "2019-09-15 07:01:47,014 : INFO : collected 290418 word types from a corpus of 9227204 raw words and 1280000 sentences\n",
            "2019-09-15 07:01:47,015 : INFO : Loading a fresh vocabulary\n",
            "2019-09-15 07:01:47,186 : INFO : effective_min_count=10 retains 30369 unique words (10% of original 290418, drops 260049)\n",
            "2019-09-15 07:01:47,187 : INFO : effective_min_count=10 leaves 8780739 word corpus (95% of original 9227204, drops 446465)\n",
            "2019-09-15 07:01:47,296 : INFO : deleting the raw counts dictionary of 290418 items\n",
            "2019-09-15 07:01:47,305 : INFO : sample=0.001 downsamples 45 most-common words\n",
            "2019-09-15 07:01:47,306 : INFO : downsampling leaves estimated 8222658 word corpus (93.6% of prior 8780739)\n",
            "2019-09-15 07:01:47,385 : INFO : estimated required memory for 30369 words and 300 dimensions: 88070100 bytes\n",
            "2019-09-15 07:01:47,387 : INFO : resetting layer weights\n"
          ],
          "name": "stderr"
        }
      ]
    },
    {
      "cell_type": "code",
      "metadata": {
        "id": "KgG-lMtouj4i",
        "colab_type": "code",
        "outputId": "95fb89ce-7283-4fdb-b4ab-6fbd4f845972",
        "colab": {
          "base_uri": "https://localhost:8080/",
          "height": 1000
        }
      },
      "source": [
        "%%time\n",
        "w2v_model.train(documents, total_examples=len(documents), epochs=W2V_EPOCH)"
      ],
      "execution_count": 0,
      "outputs": [
        {
          "output_type": "stream",
          "text": [
            "2019-09-15 07:02:07,999 : INFO : training model with 8 workers on 30369 vocabulary and 300 features, using sg=0 hs=0 sample=0.001 negative=5 window=7\n",
            "2019-09-15 07:02:09,033 : INFO : EPOCH 1 - PROGRESS: at 3.80% examples, 308099 words/s, in_qsize 14, out_qsize 1\n",
            "2019-09-15 07:02:10,084 : INFO : EPOCH 1 - PROGRESS: at 8.15% examples, 323811 words/s, in_qsize 15, out_qsize 0\n",
            "2019-09-15 07:02:11,085 : INFO : EPOCH 1 - PROGRESS: at 12.60% examples, 337241 words/s, in_qsize 15, out_qsize 0\n",
            "2019-09-15 07:02:12,098 : INFO : EPOCH 1 - PROGRESS: at 16.81% examples, 338648 words/s, in_qsize 16, out_qsize 0\n",
            "2019-09-15 07:02:13,148 : INFO : EPOCH 1 - PROGRESS: at 21.03% examples, 337064 words/s, in_qsize 14, out_qsize 1\n",
            "2019-09-15 07:02:14,160 : INFO : EPOCH 1 - PROGRESS: at 25.59% examples, 342502 words/s, in_qsize 15, out_qsize 0\n",
            "2019-09-15 07:02:15,200 : INFO : EPOCH 1 - PROGRESS: at 29.80% examples, 341308 words/s, in_qsize 16, out_qsize 0\n",
            "2019-09-15 07:02:16,239 : INFO : EPOCH 1 - PROGRESS: at 34.13% examples, 341521 words/s, in_qsize 14, out_qsize 1\n",
            "2019-09-15 07:02:17,244 : INFO : EPOCH 1 - PROGRESS: at 38.89% examples, 346772 words/s, in_qsize 15, out_qsize 0\n",
            "2019-09-15 07:02:18,291 : INFO : EPOCH 1 - PROGRESS: at 42.89% examples, 343523 words/s, in_qsize 14, out_qsize 1\n",
            "2019-09-15 07:02:19,296 : INFO : EPOCH 1 - PROGRESS: at 47.32% examples, 345260 words/s, in_qsize 15, out_qsize 0\n",
            "2019-09-15 07:02:20,311 : INFO : EPOCH 1 - PROGRESS: at 51.64% examples, 345764 words/s, in_qsize 15, out_qsize 0\n",
            "2019-09-15 07:02:21,345 : INFO : EPOCH 1 - PROGRESS: at 55.97% examples, 345688 words/s, in_qsize 14, out_qsize 1\n",
            "2019-09-15 07:02:22,420 : INFO : EPOCH 1 - PROGRESS: at 60.52% examples, 345886 words/s, in_qsize 15, out_qsize 0\n",
            "2019-09-15 07:02:23,427 : INFO : EPOCH 1 - PROGRESS: at 65.06% examples, 347616 words/s, in_qsize 16, out_qsize 0\n",
            "2019-09-15 07:02:24,500 : INFO : EPOCH 1 - PROGRESS: at 69.39% examples, 346559 words/s, in_qsize 15, out_qsize 0\n",
            "2019-09-15 07:02:25,523 : INFO : EPOCH 1 - PROGRESS: at 73.83% examples, 347144 words/s, in_qsize 15, out_qsize 0\n",
            "2019-09-15 07:02:26,593 : INFO : EPOCH 1 - PROGRESS: at 78.29% examples, 346805 words/s, in_qsize 13, out_qsize 2\n",
            "2019-09-15 07:02:27,605 : INFO : EPOCH 1 - PROGRESS: at 82.74% examples, 347516 words/s, in_qsize 15, out_qsize 0\n",
            "2019-09-15 07:02:28,651 : INFO : EPOCH 1 - PROGRESS: at 87.07% examples, 347144 words/s, in_qsize 15, out_qsize 0\n",
            "2019-09-15 07:02:29,788 : INFO : EPOCH 1 - PROGRESS: at 91.96% examples, 347401 words/s, in_qsize 15, out_qsize 0\n",
            "2019-09-15 07:02:30,792 : INFO : EPOCH 1 - PROGRESS: at 96.42% examples, 348122 words/s, in_qsize 14, out_qsize 1\n",
            "2019-09-15 07:02:31,426 : INFO : worker thread finished; awaiting finish of 7 more threads\n",
            "2019-09-15 07:02:31,436 : INFO : worker thread finished; awaiting finish of 6 more threads\n",
            "2019-09-15 07:02:31,437 : INFO : worker thread finished; awaiting finish of 5 more threads\n",
            "2019-09-15 07:02:31,501 : INFO : worker thread finished; awaiting finish of 4 more threads\n",
            "2019-09-15 07:02:31,508 : INFO : worker thread finished; awaiting finish of 3 more threads\n",
            "2019-09-15 07:02:31,513 : INFO : worker thread finished; awaiting finish of 2 more threads\n",
            "2019-09-15 07:02:31,519 : INFO : worker thread finished; awaiting finish of 1 more threads\n",
            "2019-09-15 07:02:31,526 : INFO : worker thread finished; awaiting finish of 0 more threads\n",
            "2019-09-15 07:02:31,527 : INFO : EPOCH - 1 : training on 9227204 raw words (8222007 effective words) took 23.5s, 349787 effective words/s\n",
            "2019-09-15 07:02:32,541 : INFO : EPOCH 2 - PROGRESS: at 3.91% examples, 320807 words/s, in_qsize 15, out_qsize 0\n",
            "2019-09-15 07:02:33,552 : INFO : EPOCH 2 - PROGRESS: at 8.15% examples, 332289 words/s, in_qsize 15, out_qsize 0\n",
            "2019-09-15 07:02:34,609 : INFO : EPOCH 2 - PROGRESS: at 12.60% examples, 336877 words/s, in_qsize 15, out_qsize 0\n",
            "2019-09-15 07:02:35,696 : INFO : EPOCH 2 - PROGRESS: at 17.13% examples, 338748 words/s, in_qsize 15, out_qsize 1\n",
            "2019-09-15 07:02:36,700 : INFO : EPOCH 2 - PROGRESS: at 21.46% examples, 341904 words/s, in_qsize 15, out_qsize 0\n",
            "2019-09-15 07:02:37,734 : INFO : EPOCH 2 - PROGRESS: at 26.12% examples, 346631 words/s, in_qsize 15, out_qsize 0\n",
            "2019-09-15 07:02:38,772 : INFO : EPOCH 2 - PROGRESS: at 30.35% examples, 344956 words/s, in_qsize 15, out_qsize 0\n",
            "2019-09-15 07:02:39,782 : INFO : EPOCH 2 - PROGRESS: at 34.78% examples, 346961 words/s, in_qsize 15, out_qsize 0\n",
            "2019-09-15 07:02:40,808 : INFO : EPOCH 2 - PROGRESS: at 39.33% examples, 348948 words/s, in_qsize 16, out_qsize 0\n",
            "2019-09-15 07:02:41,812 : INFO : EPOCH 2 - PROGRESS: at 43.86% examples, 351212 words/s, in_qsize 15, out_qsize 0\n",
            "2019-09-15 07:02:42,815 : INFO : EPOCH 2 - PROGRESS: at 48.08% examples, 350799 words/s, in_qsize 15, out_qsize 0\n",
            "2019-09-15 07:02:43,848 : INFO : EPOCH 2 - PROGRESS: at 52.40% examples, 350360 words/s, in_qsize 16, out_qsize 1\n",
            "2019-09-15 07:02:44,892 : INFO : EPOCH 2 - PROGRESS: at 56.73% examples, 349676 words/s, in_qsize 15, out_qsize 0\n",
            "2019-09-15 07:02:45,962 : INFO : EPOCH 2 - PROGRESS: at 61.17% examples, 349049 words/s, in_qsize 16, out_qsize 0\n",
            "2019-09-15 07:02:46,964 : INFO : EPOCH 2 - PROGRESS: at 65.50% examples, 349479 words/s, in_qsize 14, out_qsize 1\n",
            "2019-09-15 07:02:48,015 : INFO : EPOCH 2 - PROGRESS: at 69.94% examples, 350160 words/s, in_qsize 14, out_qsize 2\n",
            "2019-09-15 07:02:49,016 : INFO : EPOCH 2 - PROGRESS: at 74.37% examples, 350222 words/s, in_qsize 15, out_qsize 0\n",
            "2019-09-15 07:02:50,045 : INFO : EPOCH 2 - PROGRESS: at 78.95% examples, 350968 words/s, in_qsize 16, out_qsize 1\n",
            "2019-09-15 07:02:51,059 : INFO : EPOCH 2 - PROGRESS: at 83.62% examples, 352363 words/s, in_qsize 15, out_qsize 0\n",
            "2019-09-15 07:02:52,077 : INFO : EPOCH 2 - PROGRESS: at 87.51% examples, 350495 words/s, in_qsize 15, out_qsize 0\n",
            "2019-09-15 07:02:53,120 : INFO : EPOCH 2 - PROGRESS: at 92.39% examples, 352116 words/s, in_qsize 16, out_qsize 0\n",
            "2019-09-15 07:02:54,120 : INFO : EPOCH 2 - PROGRESS: at 96.64% examples, 351891 words/s, in_qsize 14, out_qsize 1\n",
            "2019-09-15 07:02:54,735 : INFO : worker thread finished; awaiting finish of 7 more threads\n",
            "2019-09-15 07:02:54,751 : INFO : worker thread finished; awaiting finish of 6 more threads\n",
            "2019-09-15 07:02:54,753 : INFO : worker thread finished; awaiting finish of 5 more threads\n",
            "2019-09-15 07:02:54,813 : INFO : worker thread finished; awaiting finish of 4 more threads\n",
            "2019-09-15 07:02:54,818 : INFO : worker thread finished; awaiting finish of 3 more threads\n",
            "2019-09-15 07:02:54,826 : INFO : worker thread finished; awaiting finish of 2 more threads\n",
            "2019-09-15 07:02:54,836 : INFO : worker thread finished; awaiting finish of 1 more threads\n",
            "2019-09-15 07:02:54,843 : INFO : worker thread finished; awaiting finish of 0 more threads\n",
            "2019-09-15 07:02:54,844 : INFO : EPOCH - 2 : training on 9227204 raw words (8222911 effective words) took 23.3s, 352865 effective words/s\n",
            "2019-09-15 07:02:55,869 : INFO : EPOCH 3 - PROGRESS: at 3.69% examples, 299308 words/s, in_qsize 13, out_qsize 2\n",
            "2019-09-15 07:02:56,878 : INFO : EPOCH 3 - PROGRESS: at 8.26% examples, 335155 words/s, in_qsize 13, out_qsize 2\n",
            "2019-09-15 07:02:57,880 : INFO : EPOCH 3 - PROGRESS: at 12.49% examples, 338983 words/s, in_qsize 15, out_qsize 0\n",
            "2019-09-15 07:02:58,912 : INFO : EPOCH 3 - PROGRESS: at 16.81% examples, 340472 words/s, in_qsize 16, out_qsize 0\n",
            "2019-09-15 07:02:59,932 : INFO : EPOCH 3 - PROGRESS: at 21.35% examples, 345770 words/s, in_qsize 14, out_qsize 3\n",
            "2019-09-15 07:03:01,018 : INFO : EPOCH 3 - PROGRESS: at 26.02% examples, 347044 words/s, in_qsize 15, out_qsize 0\n",
            "2019-09-15 07:03:02,076 : INFO : EPOCH 3 - PROGRESS: at 30.56% examples, 348013 words/s, in_qsize 15, out_qsize 0\n",
            "2019-09-15 07:03:03,145 : INFO : EPOCH 3 - PROGRESS: at 35.00% examples, 347209 words/s, in_qsize 13, out_qsize 4\n",
            "2019-09-15 07:03:04,149 : INFO : EPOCH 3 - PROGRESS: at 39.22% examples, 347068 words/s, in_qsize 16, out_qsize 2\n",
            "2019-09-15 07:03:05,175 : INFO : EPOCH 3 - PROGRESS: at 43.64% examples, 347940 words/s, in_qsize 14, out_qsize 1\n",
            "2019-09-15 07:03:06,207 : INFO : EPOCH 3 - PROGRESS: at 48.19% examples, 349260 words/s, in_qsize 15, out_qsize 0\n",
            "2019-09-15 07:03:07,234 : INFO : EPOCH 3 - PROGRESS: at 52.84% examples, 351271 words/s, in_qsize 14, out_qsize 0\n",
            "2019-09-15 07:03:08,257 : INFO : EPOCH 3 - PROGRESS: at 57.16% examples, 351057 words/s, in_qsize 15, out_qsize 0\n",
            "2019-09-15 07:03:09,298 : INFO : EPOCH 3 - PROGRESS: at 61.61% examples, 351051 words/s, in_qsize 16, out_qsize 0\n",
            "2019-09-15 07:03:10,346 : INFO : EPOCH 3 - PROGRESS: at 65.83% examples, 349795 words/s, in_qsize 15, out_qsize 2\n",
            "2019-09-15 07:03:11,397 : INFO : EPOCH 3 - PROGRESS: at 70.70% examples, 351754 words/s, in_qsize 15, out_qsize 0\n",
            "2019-09-15 07:03:12,402 : INFO : EPOCH 3 - PROGRESS: at 74.70% examples, 350384 words/s, in_qsize 15, out_qsize 0\n",
            "2019-09-15 07:03:13,409 : INFO : EPOCH 3 - PROGRESS: at 79.05% examples, 350561 words/s, in_qsize 15, out_qsize 0\n",
            "2019-09-15 07:03:14,444 : INFO : EPOCH 3 - PROGRESS: at 83.62% examples, 351136 words/s, in_qsize 15, out_qsize 0\n",
            "2019-09-15 07:03:15,503 : INFO : EPOCH 3 - PROGRESS: at 88.05% examples, 350805 words/s, in_qsize 15, out_qsize 0\n",
            "2019-09-15 07:03:16,509 : INFO : EPOCH 3 - PROGRESS: at 92.61% examples, 351759 words/s, in_qsize 16, out_qsize 1\n",
            "2019-09-15 07:03:17,546 : INFO : EPOCH 3 - PROGRESS: at 96.75% examples, 350612 words/s, in_qsize 15, out_qsize 0\n",
            "2019-09-15 07:03:17,990 : INFO : worker thread finished; awaiting finish of 7 more threads\n",
            "2019-09-15 07:03:18,036 : INFO : worker thread finished; awaiting finish of 6 more threads\n",
            "2019-09-15 07:03:18,042 : INFO : worker thread finished; awaiting finish of 5 more threads\n",
            "2019-09-15 07:03:18,091 : INFO : worker thread finished; awaiting finish of 4 more threads\n",
            "2019-09-15 07:03:18,113 : INFO : worker thread finished; awaiting finish of 3 more threads\n",
            "2019-09-15 07:03:18,117 : INFO : worker thread finished; awaiting finish of 2 more threads\n",
            "2019-09-15 07:03:18,121 : INFO : worker thread finished; awaiting finish of 1 more threads\n",
            "2019-09-15 07:03:18,123 : INFO : worker thread finished; awaiting finish of 0 more threads\n",
            "2019-09-15 07:03:18,124 : INFO : EPOCH - 3 : training on 9227204 raw words (8222943 effective words) took 23.3s, 353432 effective words/s\n",
            "2019-09-15 07:03:19,160 : INFO : EPOCH 4 - PROGRESS: at 4.13% examples, 331016 words/s, in_qsize 14, out_qsize 0\n",
            "2019-09-15 07:03:20,177 : INFO : EPOCH 4 - PROGRESS: at 8.26% examples, 332093 words/s, in_qsize 14, out_qsize 1\n",
            "2019-09-15 07:03:21,191 : INFO : EPOCH 4 - PROGRESS: at 12.71% examples, 341439 words/s, in_qsize 15, out_qsize 1\n",
            "2019-09-15 07:03:22,194 : INFO : EPOCH 4 - PROGRESS: at 16.92% examples, 342577 words/s, in_qsize 15, out_qsize 0\n",
            "2019-09-15 07:03:23,197 : INFO : EPOCH 4 - PROGRESS: at 21.03% examples, 341598 words/s, in_qsize 15, out_qsize 0\n",
            "2019-09-15 07:03:24,275 : INFO : EPOCH 4 - PROGRESS: at 25.48% examples, 341147 words/s, in_qsize 16, out_qsize 1\n",
            "2019-09-15 07:03:25,286 : INFO : EPOCH 4 - PROGRESS: at 30.13% examples, 346497 words/s, in_qsize 15, out_qsize 1\n",
            "2019-09-15 07:03:26,317 : INFO : EPOCH 4 - PROGRESS: at 34.35% examples, 345286 words/s, in_qsize 15, out_qsize 0\n",
            "2019-09-15 07:03:27,330 : INFO : EPOCH 4 - PROGRESS: at 38.89% examples, 347917 words/s, in_qsize 15, out_qsize 0\n",
            "2019-09-15 07:03:28,383 : INFO : EPOCH 4 - PROGRESS: at 43.11% examples, 346620 words/s, in_qsize 15, out_qsize 3\n",
            "2019-09-15 07:03:29,397 : INFO : EPOCH 4 - PROGRESS: at 47.97% examples, 350518 words/s, in_qsize 16, out_qsize 0\n",
            "2019-09-15 07:03:30,426 : INFO : EPOCH 4 - PROGRESS: at 52.29% examples, 350190 words/s, in_qsize 16, out_qsize 0\n",
            "2019-09-15 07:03:31,432 : INFO : EPOCH 4 - PROGRESS: at 56.29% examples, 348505 words/s, in_qsize 13, out_qsize 2\n",
            "2019-09-15 07:03:32,443 : INFO : EPOCH 4 - PROGRESS: at 60.85% examples, 350034 words/s, in_qsize 14, out_qsize 1\n",
            "2019-09-15 07:03:33,485 : INFO : EPOCH 4 - PROGRESS: at 65.06% examples, 348896 words/s, in_qsize 15, out_qsize 0\n",
            "2019-09-15 07:03:34,497 : INFO : EPOCH 4 - PROGRESS: at 69.40% examples, 349098 words/s, in_qsize 15, out_qsize 0\n",
            "2019-09-15 07:03:35,526 : INFO : EPOCH 4 - PROGRESS: at 73.51% examples, 347894 words/s, in_qsize 15, out_qsize 0\n",
            "2019-09-15 07:03:36,599 : INFO : EPOCH 4 - PROGRESS: at 78.07% examples, 347927 words/s, in_qsize 16, out_qsize 1\n",
            "2019-09-15 07:03:37,629 : INFO : EPOCH 4 - PROGRESS: at 82.53% examples, 348290 words/s, in_qsize 16, out_qsize 0\n",
            "2019-09-15 07:03:38,649 : INFO : EPOCH 4 - PROGRESS: at 86.75% examples, 347896 words/s, in_qsize 16, out_qsize 2\n",
            "2019-09-15 07:03:39,697 : INFO : EPOCH 4 - PROGRESS: at 91.20% examples, 347910 words/s, in_qsize 15, out_qsize 0\n",
            "2019-09-15 07:03:40,738 : INFO : EPOCH 4 - PROGRESS: at 96.10% examples, 349623 words/s, in_qsize 15, out_qsize 0\n",
            "2019-09-15 07:03:41,476 : INFO : worker thread finished; awaiting finish of 7 more threads\n",
            "2019-09-15 07:03:41,499 : INFO : worker thread finished; awaiting finish of 6 more threads\n",
            "2019-09-15 07:03:41,503 : INFO : worker thread finished; awaiting finish of 5 more threads\n",
            "2019-09-15 07:03:41,526 : INFO : worker thread finished; awaiting finish of 4 more threads\n",
            "2019-09-15 07:03:41,557 : INFO : worker thread finished; awaiting finish of 3 more threads\n",
            "2019-09-15 07:03:41,578 : INFO : worker thread finished; awaiting finish of 2 more threads\n",
            "2019-09-15 07:03:41,585 : INFO : worker thread finished; awaiting finish of 1 more threads\n",
            "2019-09-15 07:03:41,591 : INFO : worker thread finished; awaiting finish of 0 more threads\n",
            "2019-09-15 07:03:41,592 : INFO : EPOCH - 4 : training on 9227204 raw words (8223309 effective words) took 23.5s, 350609 effective words/s\n",
            "2019-09-15 07:03:42,651 : INFO : EPOCH 5 - PROGRESS: at 3.91% examples, 307013 words/s, in_qsize 15, out_qsize 0\n",
            "2019-09-15 07:03:43,706 : INFO : EPOCH 5 - PROGRESS: at 8.47% examples, 330902 words/s, in_qsize 14, out_qsize 1\n",
            "2019-09-15 07:03:44,720 : INFO : EPOCH 5 - PROGRESS: at 12.93% examples, 340472 words/s, in_qsize 15, out_qsize 0\n",
            "2019-09-15 07:03:45,769 : INFO : EPOCH 5 - PROGRESS: at 17.24% examples, 340226 words/s, in_qsize 16, out_qsize 0\n",
            "2019-09-15 07:03:46,776 : INFO : EPOCH 5 - PROGRESS: at 21.68% examples, 344637 words/s, in_qsize 15, out_qsize 0\n",
            "2019-09-15 07:03:47,788 : INFO : EPOCH 5 - PROGRESS: at 26.12% examples, 347312 words/s, in_qsize 14, out_qsize 0\n",
            "2019-09-15 07:03:48,801 : INFO : EPOCH 5 - PROGRESS: at 30.24% examples, 345499 words/s, in_qsize 15, out_qsize 2\n",
            "2019-09-15 07:03:49,806 : INFO : EPOCH 5 - PROGRESS: at 34.46% examples, 345520 words/s, in_qsize 15, out_qsize 0\n",
            "2019-09-15 07:03:50,857 : INFO : EPOCH 5 - PROGRESS: at 39.11% examples, 347661 words/s, in_qsize 13, out_qsize 2\n",
            "2019-09-15 07:03:51,876 : INFO : EPOCH 5 - PROGRESS: at 43.54% examples, 348690 words/s, in_qsize 15, out_qsize 0\n",
            "2019-09-15 07:03:52,880 : INFO : EPOCH 5 - PROGRESS: at 47.97% examples, 350065 words/s, in_qsize 15, out_qsize 0\n",
            "2019-09-15 07:03:53,897 : INFO : EPOCH 5 - PROGRESS: at 52.18% examples, 349387 words/s, in_qsize 15, out_qsize 0\n",
            "2019-09-15 07:03:54,926 : INFO : EPOCH 5 - PROGRESS: at 56.51% examples, 349144 words/s, in_qsize 14, out_qsize 1\n",
            "2019-09-15 07:03:55,947 : INFO : EPOCH 5 - PROGRESS: at 61.07% examples, 350391 words/s, in_qsize 14, out_qsize 1\n",
            "2019-09-15 07:03:56,948 : INFO : EPOCH 5 - PROGRESS: at 65.50% examples, 351327 words/s, in_qsize 14, out_qsize 1\n",
            "2019-09-15 07:03:57,953 : INFO : EPOCH 5 - PROGRESS: at 69.61% examples, 350441 words/s, in_qsize 11, out_qsize 4\n",
            "2019-09-15 07:03:58,983 : INFO : EPOCH 5 - PROGRESS: at 74.27% examples, 351713 words/s, in_qsize 16, out_qsize 0\n",
            "2019-09-15 07:03:59,992 : INFO : EPOCH 5 - PROGRESS: at 78.51% examples, 351310 words/s, in_qsize 14, out_qsize 1\n",
            "2019-09-15 07:04:01,042 : INFO : EPOCH 5 - PROGRESS: at 82.96% examples, 351137 words/s, in_qsize 16, out_qsize 0\n",
            "2019-09-15 07:04:02,045 : INFO : EPOCH 5 - PROGRESS: at 87.83% examples, 353499 words/s, in_qsize 15, out_qsize 0\n",
            "2019-09-15 07:04:03,079 : INFO : EPOCH 5 - PROGRESS: at 92.07% examples, 352626 words/s, in_qsize 15, out_qsize 0\n",
            "2019-09-15 07:04:04,130 : INFO : EPOCH 5 - PROGRESS: at 96.21% examples, 351487 words/s, in_qsize 15, out_qsize 2\n",
            "2019-09-15 07:04:04,738 : INFO : worker thread finished; awaiting finish of 7 more threads\n",
            "2019-09-15 07:04:04,752 : INFO : worker thread finished; awaiting finish of 6 more threads\n",
            "2019-09-15 07:04:04,772 : INFO : worker thread finished; awaiting finish of 5 more threads\n",
            "2019-09-15 07:04:04,776 : INFO : worker thread finished; awaiting finish of 4 more threads\n",
            "2019-09-15 07:04:04,795 : INFO : worker thread finished; awaiting finish of 3 more threads\n",
            "2019-09-15 07:04:04,801 : INFO : worker thread finished; awaiting finish of 2 more threads\n",
            "2019-09-15 07:04:04,810 : INFO : worker thread finished; awaiting finish of 1 more threads\n",
            "2019-09-15 07:04:04,825 : INFO : worker thread finished; awaiting finish of 0 more threads\n",
            "2019-09-15 07:04:04,826 : INFO : EPOCH - 5 : training on 9227204 raw words (8222572 effective words) took 23.2s, 354130 effective words/s\n",
            "2019-09-15 07:04:05,902 : INFO : EPOCH 6 - PROGRESS: at 4.02% examples, 310657 words/s, in_qsize 16, out_qsize 0\n",
            "2019-09-15 07:04:06,953 : INFO : EPOCH 6 - PROGRESS: at 8.58% examples, 333164 words/s, in_qsize 15, out_qsize 0\n",
            "2019-09-15 07:04:07,997 : INFO : EPOCH 6 - PROGRESS: at 13.04% examples, 338710 words/s, in_qsize 16, out_qsize 1\n",
            "2019-09-15 07:04:09,069 : INFO : EPOCH 6 - PROGRESS: at 17.68% examples, 343346 words/s, in_qsize 14, out_qsize 1\n",
            "2019-09-15 07:04:10,072 : INFO : EPOCH 6 - PROGRESS: at 22.12% examples, 347369 words/s, in_qsize 13, out_qsize 2\n",
            "2019-09-15 07:04:11,091 : INFO : EPOCH 6 - PROGRESS: at 26.78% examples, 352046 words/s, in_qsize 14, out_qsize 1\n",
            "2019-09-15 07:04:12,102 : INFO : EPOCH 6 - PROGRESS: at 31.21% examples, 353353 words/s, in_qsize 15, out_qsize 0\n",
            "2019-09-15 07:04:13,150 : INFO : EPOCH 6 - PROGRESS: at 35.43% examples, 350780 words/s, in_qsize 15, out_qsize 1\n",
            "2019-09-15 07:04:14,190 : INFO : EPOCH 6 - PROGRESS: at 39.97% examples, 351613 words/s, in_qsize 15, out_qsize 0\n",
            "2019-09-15 07:04:15,227 : INFO : EPOCH 6 - PROGRESS: at 44.40% examples, 351688 words/s, in_qsize 15, out_qsize 1\n",
            "2019-09-15 07:04:16,230 : INFO : EPOCH 6 - PROGRESS: at 48.62% examples, 351211 words/s, in_qsize 15, out_qsize 2\n",
            "2019-09-15 07:04:17,318 : INFO : EPOCH 6 - PROGRESS: at 53.48% examples, 352765 words/s, in_qsize 15, out_qsize 0\n",
            "2019-09-15 07:04:18,325 : INFO : EPOCH 6 - PROGRESS: at 57.71% examples, 352199 words/s, in_qsize 15, out_qsize 0\n",
            "2019-09-15 07:04:19,350 : INFO : EPOCH 6 - PROGRESS: at 62.46% examples, 354332 words/s, in_qsize 15, out_qsize 0\n",
            "2019-09-15 07:04:20,405 : INFO : EPOCH 6 - PROGRESS: at 66.69% examples, 352628 words/s, in_qsize 15, out_qsize 0\n",
            "2019-09-15 07:04:21,460 : INFO : EPOCH 6 - PROGRESS: at 71.24% examples, 352773 words/s, in_qsize 15, out_qsize 1\n",
            "2019-09-15 07:04:22,477 : INFO : EPOCH 6 - PROGRESS: at 75.67% examples, 353133 words/s, in_qsize 16, out_qsize 0\n",
            "2019-09-15 07:04:23,545 : INFO : EPOCH 6 - PROGRESS: at 80.25% examples, 352963 words/s, in_qsize 15, out_qsize 0\n",
            "2019-09-15 07:04:24,548 : INFO : EPOCH 6 - PROGRESS: at 85.02% examples, 354899 words/s, in_qsize 14, out_qsize 1\n",
            "2019-09-15 07:04:25,556 : INFO : EPOCH 6 - PROGRESS: at 88.91% examples, 353102 words/s, in_qsize 14, out_qsize 1\n",
            "2019-09-15 07:04:26,590 : INFO : EPOCH 6 - PROGRESS: at 93.48% examples, 353492 words/s, in_qsize 16, out_qsize 0\n",
            "2019-09-15 07:04:27,590 : INFO : EPOCH 6 - PROGRESS: at 97.93% examples, 353994 words/s, in_qsize 15, out_qsize 0\n",
            "2019-09-15 07:04:27,936 : INFO : worker thread finished; awaiting finish of 7 more threads\n",
            "2019-09-15 07:04:27,954 : INFO : worker thread finished; awaiting finish of 6 more threads\n",
            "2019-09-15 07:04:27,958 : INFO : worker thread finished; awaiting finish of 5 more threads\n",
            "2019-09-15 07:04:27,960 : INFO : worker thread finished; awaiting finish of 4 more threads\n",
            "2019-09-15 07:04:27,963 : INFO : worker thread finished; awaiting finish of 3 more threads\n",
            "2019-09-15 07:04:27,968 : INFO : worker thread finished; awaiting finish of 2 more threads\n",
            "2019-09-15 07:04:27,990 : INFO : worker thread finished; awaiting finish of 1 more threads\n",
            "2019-09-15 07:04:27,996 : INFO : worker thread finished; awaiting finish of 0 more threads\n",
            "2019-09-15 07:04:27,997 : INFO : EPOCH - 6 : training on 9227204 raw words (8223660 effective words) took 23.2s, 355139 effective words/s\n",
            "2019-09-15 07:04:29,032 : INFO : EPOCH 7 - PROGRESS: at 3.69% examples, 296986 words/s, in_qsize 15, out_qsize 0\n",
            "2019-09-15 07:04:30,055 : INFO : EPOCH 7 - PROGRESS: at 8.15% examples, 326939 words/s, in_qsize 14, out_qsize 3\n",
            "2019-09-15 07:04:31,116 : INFO : EPOCH 7 - PROGRESS: at 12.93% examples, 341460 words/s, in_qsize 15, out_qsize 0\n",
            "2019-09-15 07:04:32,139 : INFO : EPOCH 7 - PROGRESS: at 17.35% examples, 345248 words/s, in_qsize 15, out_qsize 0\n",
            "2019-09-15 07:04:33,151 : INFO : EPOCH 7 - PROGRESS: at 21.90% examples, 350116 words/s, in_qsize 15, out_qsize 1\n",
            "2019-09-15 07:04:34,326 : INFO : EPOCH 7 - PROGRESS: at 26.56% examples, 345659 words/s, in_qsize 15, out_qsize 0\n",
            "2019-09-15 07:04:35,333 : INFO : EPOCH 7 - PROGRESS: at 31.43% examples, 352857 words/s, in_qsize 15, out_qsize 0\n",
            "2019-09-15 07:04:36,362 : INFO : EPOCH 7 - PROGRESS: at 35.86% examples, 353097 words/s, in_qsize 14, out_qsize 1\n",
            "2019-09-15 07:04:37,385 : INFO : EPOCH 7 - PROGRESS: at 40.19% examples, 352595 words/s, in_qsize 16, out_qsize 1\n",
            "2019-09-15 07:04:38,399 : INFO : EPOCH 7 - PROGRESS: at 44.51% examples, 352459 words/s, in_qsize 15, out_qsize 0\n",
            "2019-09-15 07:04:39,400 : INFO : EPOCH 7 - PROGRESS: at 48.84% examples, 352808 words/s, in_qsize 15, out_qsize 0\n",
            "2019-09-15 07:04:40,400 : INFO : EPOCH 7 - PROGRESS: at 53.27% examples, 353836 words/s, in_qsize 14, out_qsize 1\n",
            "2019-09-15 07:04:41,491 : INFO : EPOCH 7 - PROGRESS: at 57.81% examples, 352990 words/s, in_qsize 15, out_qsize 0\n",
            "2019-09-15 07:04:42,525 : INFO : EPOCH 7 - PROGRESS: at 62.47% examples, 354225 words/s, in_qsize 13, out_qsize 2\n",
            "2019-09-15 07:04:43,537 : INFO : EPOCH 7 - PROGRESS: at 67.13% examples, 355808 words/s, in_qsize 15, out_qsize 0\n",
            "2019-09-15 07:04:44,550 : INFO : EPOCH 7 - PROGRESS: at 71.35% examples, 355025 words/s, in_qsize 15, out_qsize 0\n",
            "2019-09-15 07:04:45,667 : INFO : EPOCH 7 - PROGRESS: at 76.11% examples, 354734 words/s, in_qsize 15, out_qsize 0\n",
            "2019-09-15 07:04:46,754 : INFO : EPOCH 7 - PROGRESS: at 80.79% examples, 354599 words/s, in_qsize 15, out_qsize 0\n",
            "2019-09-15 07:04:47,762 : INFO : EPOCH 7 - PROGRESS: at 85.23% examples, 354999 words/s, in_qsize 15, out_qsize 1\n",
            "2019-09-15 07:04:48,771 : INFO : EPOCH 7 - PROGRESS: at 89.67% examples, 355320 words/s, in_qsize 12, out_qsize 3\n",
            "2019-09-15 07:04:49,775 : INFO : EPOCH 7 - PROGRESS: at 94.47% examples, 356918 words/s, in_qsize 16, out_qsize 0\n",
            "2019-09-15 07:04:50,785 : INFO : EPOCH 7 - PROGRESS: at 98.79% examples, 356728 words/s, in_qsize 12, out_qsize 0\n",
            "2019-09-15 07:04:50,952 : INFO : worker thread finished; awaiting finish of 7 more threads\n",
            "2019-09-15 07:04:50,957 : INFO : worker thread finished; awaiting finish of 6 more threads\n",
            "2019-09-15 07:04:50,958 : INFO : worker thread finished; awaiting finish of 5 more threads\n",
            "2019-09-15 07:04:50,970 : INFO : worker thread finished; awaiting finish of 4 more threads\n",
            "2019-09-15 07:04:50,976 : INFO : worker thread finished; awaiting finish of 3 more threads\n",
            "2019-09-15 07:04:50,980 : INFO : worker thread finished; awaiting finish of 2 more threads\n",
            "2019-09-15 07:04:51,006 : INFO : worker thread finished; awaiting finish of 1 more threads\n",
            "2019-09-15 07:04:51,017 : INFO : worker thread finished; awaiting finish of 0 more threads\n",
            "2019-09-15 07:04:51,018 : INFO : EPOCH - 7 : training on 9227204 raw words (8222829 effective words) took 23.0s, 357423 effective words/s\n",
            "2019-09-15 07:04:52,037 : INFO : EPOCH 8 - PROGRESS: at 4.01% examples, 327892 words/s, in_qsize 15, out_qsize 0\n",
            "2019-09-15 07:04:53,103 : INFO : EPOCH 8 - PROGRESS: at 8.47% examples, 335467 words/s, in_qsize 15, out_qsize 0\n",
            "2019-09-15 07:04:54,124 : INFO : EPOCH 8 - PROGRESS: at 13.25% examples, 351496 words/s, in_qsize 15, out_qsize 0\n",
            "2019-09-15 07:04:55,134 : INFO : EPOCH 8 - PROGRESS: at 17.57% examples, 351715 words/s, in_qsize 15, out_qsize 0\n",
            "2019-09-15 07:04:56,187 : INFO : EPOCH 8 - PROGRESS: at 21.79% examples, 347255 words/s, in_qsize 15, out_qsize 0\n",
            "2019-09-15 07:04:57,236 : INFO : EPOCH 8 - PROGRESS: at 26.34% examples, 348852 words/s, in_qsize 15, out_qsize 0\n",
            "2019-09-15 07:04:58,279 : INFO : EPOCH 8 - PROGRESS: at 30.99% examples, 351540 words/s, in_qsize 15, out_qsize 0\n",
            "2019-09-15 07:04:59,331 : INFO : EPOCH 8 - PROGRESS: at 35.54% examples, 352040 words/s, in_qsize 15, out_qsize 0\n",
            "2019-09-15 07:05:00,358 : INFO : EPOCH 8 - PROGRESS: at 39.76% examples, 350506 words/s, in_qsize 13, out_qsize 2\n",
            "2019-09-15 07:05:01,370 : INFO : EPOCH 8 - PROGRESS: at 44.51% examples, 354130 words/s, in_qsize 15, out_qsize 0\n",
            "2019-09-15 07:05:02,411 : INFO : EPOCH 8 - PROGRESS: at 48.84% examples, 353081 words/s, in_qsize 15, out_qsize 0\n",
            "2019-09-15 07:05:03,421 : INFO : EPOCH 8 - PROGRESS: at 53.48% examples, 355210 words/s, in_qsize 15, out_qsize 0\n",
            "2019-09-15 07:05:04,446 : INFO : EPOCH 8 - PROGRESS: at 57.81% examples, 354654 words/s, in_qsize 16, out_qsize 0\n",
            "2019-09-15 07:05:05,589 : INFO : EPOCH 8 - PROGRESS: at 62.36% examples, 352521 words/s, in_qsize 15, out_qsize 0\n",
            "2019-09-15 07:05:06,642 : INFO : EPOCH 8 - PROGRESS: at 67.34% examples, 354981 words/s, in_qsize 15, out_qsize 0\n",
            "2019-09-15 07:05:07,674 : INFO : EPOCH 8 - PROGRESS: at 71.56% examples, 353849 words/s, in_qsize 15, out_qsize 0\n",
            "2019-09-15 07:05:08,736 : INFO : EPOCH 8 - PROGRESS: at 76.11% examples, 353744 words/s, in_qsize 14, out_qsize 1\n",
            "2019-09-15 07:05:09,803 : INFO : EPOCH 8 - PROGRESS: at 81.01% examples, 354985 words/s, in_qsize 15, out_qsize 0\n",
            "2019-09-15 07:05:10,805 : INFO : EPOCH 8 - PROGRESS: at 85.55% examples, 355913 words/s, in_qsize 15, out_qsize 0\n",
            "2019-09-15 07:05:11,807 : INFO : EPOCH 8 - PROGRESS: at 89.78% examples, 355449 words/s, in_qsize 15, out_qsize 0\n",
            "2019-09-15 07:05:12,823 : INFO : EPOCH 8 - PROGRESS: at 94.14% examples, 355212 words/s, in_qsize 15, out_qsize 0\n",
            "2019-09-15 07:05:13,884 : INFO : EPOCH 8 - PROGRESS: at 98.79% examples, 355494 words/s, in_qsize 12, out_qsize 0\n",
            "2019-09-15 07:05:13,966 : INFO : worker thread finished; awaiting finish of 7 more threads\n",
            "2019-09-15 07:05:13,977 : INFO : worker thread finished; awaiting finish of 6 more threads\n",
            "2019-09-15 07:05:13,982 : INFO : worker thread finished; awaiting finish of 5 more threads\n",
            "2019-09-15 07:05:13,986 : INFO : worker thread finished; awaiting finish of 4 more threads\n",
            "2019-09-15 07:05:14,026 : INFO : worker thread finished; awaiting finish of 3 more threads\n",
            "2019-09-15 07:05:14,033 : INFO : worker thread finished; awaiting finish of 2 more threads\n",
            "2019-09-15 07:05:14,044 : INFO : worker thread finished; awaiting finish of 1 more threads\n",
            "2019-09-15 07:05:14,049 : INFO : worker thread finished; awaiting finish of 0 more threads\n",
            "2019-09-15 07:05:14,049 : INFO : EPOCH - 8 : training on 9227204 raw words (8222911 effective words) took 23.0s, 357244 effective words/s\n",
            "2019-09-15 07:05:15,102 : INFO : EPOCH 9 - PROGRESS: at 4.02% examples, 316897 words/s, in_qsize 15, out_qsize 0\n",
            "2019-09-15 07:05:16,116 : INFO : EPOCH 9 - PROGRESS: at 8.58% examples, 342576 words/s, in_qsize 15, out_qsize 0\n",
            "2019-09-15 07:05:17,130 : INFO : EPOCH 9 - PROGRESS: at 12.82% examples, 342632 words/s, in_qsize 15, out_qsize 0\n",
            "2019-09-15 07:05:18,200 : INFO : EPOCH 9 - PROGRESS: at 17.68% examples, 350794 words/s, in_qsize 15, out_qsize 0\n",
            "2019-09-15 07:05:19,301 : INFO : EPOCH 9 - PROGRESS: at 22.33% examples, 350234 words/s, in_qsize 15, out_qsize 0\n",
            "2019-09-15 07:05:20,369 : INFO : EPOCH 9 - PROGRESS: at 27.10% examples, 353060 words/s, in_qsize 15, out_qsize 0\n",
            "2019-09-15 07:05:21,435 : INFO : EPOCH 9 - PROGRESS: at 31.75% examples, 353967 words/s, in_qsize 14, out_qsize 1\n",
            "2019-09-15 07:05:22,511 : INFO : EPOCH 9 - PROGRESS: at 36.40% examples, 354194 words/s, in_qsize 15, out_qsize 1\n",
            "2019-09-15 07:05:23,517 : INFO : EPOCH 9 - PROGRESS: at 41.16% examples, 357949 words/s, in_qsize 13, out_qsize 1\n",
            "2019-09-15 07:05:24,626 : INFO : EPOCH 9 - PROGRESS: at 45.81% examples, 356620 words/s, in_qsize 15, out_qsize 0\n",
            "2019-09-15 07:05:25,638 : INFO : EPOCH 9 - PROGRESS: at 50.46% examples, 358551 words/s, in_qsize 15, out_qsize 0\n",
            "2019-09-15 07:05:26,655 : INFO : EPOCH 9 - PROGRESS: at 54.78% examples, 357902 words/s, in_qsize 13, out_qsize 2\n",
            "2019-09-15 07:05:27,669 : INFO : EPOCH 9 - PROGRESS: at 59.22% examples, 358089 words/s, in_qsize 15, out_qsize 0\n",
            "2019-09-15 07:05:28,694 : INFO : EPOCH 9 - PROGRESS: at 63.87% examples, 359171 words/s, in_qsize 15, out_qsize 0\n",
            "2019-09-15 07:05:29,726 : INFO : EPOCH 9 - PROGRESS: at 68.21% examples, 358265 words/s, in_qsize 14, out_qsize 1\n",
            "2019-09-15 07:05:30,750 : INFO : EPOCH 9 - PROGRESS: at 72.64% examples, 358161 words/s, in_qsize 15, out_qsize 0\n",
            "2019-09-15 07:05:31,776 : INFO : EPOCH 9 - PROGRESS: at 77.20% examples, 358528 words/s, in_qsize 16, out_qsize 1\n",
            "2019-09-15 07:05:32,816 : INFO : EPOCH 9 - PROGRESS: at 81.66% examples, 358130 words/s, in_qsize 15, out_qsize 0\n",
            "2019-09-15 07:05:33,828 : INFO : EPOCH 9 - PROGRESS: at 86.21% examples, 358715 words/s, in_qsize 15, out_qsize 0\n",
            "2019-09-15 07:05:34,840 : INFO : EPOCH 9 - PROGRESS: at 90.54% examples, 358374 words/s, in_qsize 15, out_qsize 0\n",
            "2019-09-15 07:05:35,865 : INFO : EPOCH 9 - PROGRESS: at 94.69% examples, 357035 words/s, in_qsize 14, out_qsize 1\n",
            "2019-09-15 07:05:36,840 : INFO : worker thread finished; awaiting finish of 7 more threads\n",
            "2019-09-15 07:05:36,849 : INFO : worker thread finished; awaiting finish of 6 more threads\n",
            "2019-09-15 07:05:36,868 : INFO : EPOCH 9 - PROGRESS: at 99.45% examples, 358551 words/s, in_qsize 5, out_qsize 1\n",
            "2019-09-15 07:05:36,871 : INFO : worker thread finished; awaiting finish of 5 more threads\n",
            "2019-09-15 07:05:36,890 : INFO : worker thread finished; awaiting finish of 4 more threads\n",
            "2019-09-15 07:05:36,905 : INFO : worker thread finished; awaiting finish of 3 more threads\n",
            "2019-09-15 07:05:36,911 : INFO : worker thread finished; awaiting finish of 2 more threads\n",
            "2019-09-15 07:05:36,923 : INFO : worker thread finished; awaiting finish of 1 more threads\n",
            "2019-09-15 07:05:36,924 : INFO : worker thread finished; awaiting finish of 0 more threads\n",
            "2019-09-15 07:05:36,925 : INFO : EPOCH - 9 : training on 9227204 raw words (8221806 effective words) took 22.9s, 359602 effective words/s\n",
            "2019-09-15 07:05:37,962 : INFO : EPOCH 10 - PROGRESS: at 3.91% examples, 314145 words/s, in_qsize 14, out_qsize 1\n",
            "2019-09-15 07:05:38,969 : INFO : EPOCH 10 - PROGRESS: at 8.47% examples, 342669 words/s, in_qsize 16, out_qsize 0\n",
            "2019-09-15 07:05:40,015 : INFO : EPOCH 10 - PROGRESS: at 12.93% examples, 344923 words/s, in_qsize 14, out_qsize 1\n",
            "2019-09-15 07:05:41,028 : INFO : EPOCH 10 - PROGRESS: at 17.35% examples, 348719 words/s, in_qsize 15, out_qsize 0\n",
            "2019-09-15 07:05:42,046 : INFO : EPOCH 10 - PROGRESS: at 21.68% examples, 349059 words/s, in_qsize 14, out_qsize 1\n",
            "2019-09-15 07:05:43,065 : INFO : EPOCH 10 - PROGRESS: at 26.45% examples, 354946 words/s, in_qsize 15, out_qsize 0\n",
            "2019-09-15 07:05:44,078 : INFO : EPOCH 10 - PROGRESS: at 30.78% examples, 354540 words/s, in_qsize 14, out_qsize 1\n",
            "2019-09-15 07:05:45,100 : INFO : EPOCH 10 - PROGRESS: at 35.00% examples, 352697 words/s, in_qsize 14, out_qsize 1\n",
            "2019-09-15 07:05:46,119 : INFO : EPOCH 10 - PROGRESS: at 39.33% examples, 352331 words/s, in_qsize 15, out_qsize 1\n",
            "2019-09-15 07:05:47,140 : INFO : EPOCH 10 - PROGRESS: at 44.07% examples, 355493 words/s, in_qsize 14, out_qsize 1\n",
            "2019-09-15 07:05:48,156 : INFO : EPOCH 10 - PROGRESS: at 48.73% examples, 357437 words/s, in_qsize 15, out_qsize 0\n",
            "2019-09-15 07:05:49,171 : INFO : EPOCH 10 - PROGRESS: at 52.84% examples, 355491 words/s, in_qsize 15, out_qsize 0\n",
            "2019-09-15 07:05:50,227 : INFO : EPOCH 10 - PROGRESS: at 57.16% examples, 354068 words/s, in_qsize 12, out_qsize 3\n",
            "2019-09-15 07:05:51,240 : INFO : EPOCH 10 - PROGRESS: at 61.71% examples, 355161 words/s, in_qsize 16, out_qsize 1\n",
            "2019-09-15 07:05:52,261 : INFO : EPOCH 10 - PROGRESS: at 66.15% examples, 355332 words/s, in_qsize 14, out_qsize 0\n",
            "2019-09-15 07:05:53,282 : INFO : EPOCH 10 - PROGRESS: at 70.37% examples, 354383 words/s, in_qsize 15, out_qsize 0\n",
            "2019-09-15 07:05:54,315 : INFO : EPOCH 10 - PROGRESS: at 74.81% examples, 354313 words/s, in_qsize 15, out_qsize 0\n",
            "2019-09-15 07:05:55,322 : INFO : EPOCH 10 - PROGRESS: at 79.71% examples, 356701 words/s, in_qsize 14, out_qsize 0\n",
            "2019-09-15 07:05:56,327 : INFO : EPOCH 10 - PROGRESS: at 84.05% examples, 356598 words/s, in_qsize 15, out_qsize 0\n",
            "2019-09-15 07:05:57,348 : INFO : EPOCH 10 - PROGRESS: at 88.48% examples, 356646 words/s, in_qsize 14, out_qsize 0\n",
            "2019-09-15 07:05:58,354 : INFO : EPOCH 10 - PROGRESS: at 92.83% examples, 356512 words/s, in_qsize 12, out_qsize 1\n",
            "2019-09-15 07:05:59,374 : INFO : EPOCH 10 - PROGRESS: at 97.18% examples, 356159 words/s, in_qsize 15, out_qsize 0\n",
            "2019-09-15 07:05:59,863 : INFO : worker thread finished; awaiting finish of 7 more threads\n",
            "2019-09-15 07:05:59,867 : INFO : worker thread finished; awaiting finish of 6 more threads\n",
            "2019-09-15 07:05:59,954 : INFO : worker thread finished; awaiting finish of 5 more threads\n",
            "2019-09-15 07:05:59,956 : INFO : worker thread finished; awaiting finish of 4 more threads\n",
            "2019-09-15 07:05:59,970 : INFO : worker thread finished; awaiting finish of 3 more threads\n",
            "2019-09-15 07:05:59,971 : INFO : worker thread finished; awaiting finish of 2 more threads\n",
            "2019-09-15 07:05:59,973 : INFO : worker thread finished; awaiting finish of 1 more threads\n",
            "2019-09-15 07:05:59,982 : INFO : worker thread finished; awaiting finish of 0 more threads\n",
            "2019-09-15 07:05:59,983 : INFO : EPOCH - 10 : training on 9227204 raw words (8222832 effective words) took 23.0s, 356858 effective words/s\n",
            "2019-09-15 07:06:00,998 : INFO : EPOCH 11 - PROGRESS: at 3.80% examples, 310150 words/s, in_qsize 16, out_qsize 0\n",
            "2019-09-15 07:06:02,038 : INFO : EPOCH 11 - PROGRESS: at 8.36% examples, 335576 words/s, in_qsize 15, out_qsize 0\n",
            "2019-09-15 07:06:03,044 : INFO : EPOCH 11 - PROGRESS: at 12.71% examples, 341813 words/s, in_qsize 15, out_qsize 0\n",
            "2019-09-15 07:06:04,052 : INFO : EPOCH 11 - PROGRESS: at 17.35% examples, 351232 words/s, in_qsize 16, out_qsize 1\n",
            "2019-09-15 07:06:05,059 : INFO : EPOCH 11 - PROGRESS: at 21.57% examples, 349973 words/s, in_qsize 15, out_qsize 0\n",
            "2019-09-15 07:06:06,073 : INFO : EPOCH 11 - PROGRESS: at 26.23% examples, 354667 words/s, in_qsize 15, out_qsize 0\n",
            "2019-09-15 07:06:07,133 : INFO : EPOCH 11 - PROGRESS: at 30.35% examples, 349482 words/s, in_qsize 15, out_qsize 0\n",
            "2019-09-15 07:06:08,248 : INFO : EPOCH 11 - PROGRESS: at 35.10% examples, 349704 words/s, in_qsize 13, out_qsize 2\n",
            "2019-09-15 07:06:09,293 : INFO : EPOCH 11 - PROGRESS: at 39.76% examples, 351586 words/s, in_qsize 14, out_qsize 1\n",
            "2019-09-15 07:06:10,314 : INFO : EPOCH 11 - PROGRESS: at 44.29% examples, 353037 words/s, in_qsize 15, out_qsize 0\n",
            "2019-09-15 07:06:11,402 : INFO : EPOCH 11 - PROGRESS: at 48.84% examples, 352205 words/s, in_qsize 15, out_qsize 0\n",
            "2019-09-15 07:06:12,417 : INFO : EPOCH 11 - PROGRESS: at 53.38% examples, 353588 words/s, in_qsize 15, out_qsize 0\n",
            "2019-09-15 07:06:13,440 : INFO : EPOCH 11 - PROGRESS: at 57.60% examples, 352527 words/s, in_qsize 13, out_qsize 2\n",
            "2019-09-15 07:06:14,473 : INFO : EPOCH 11 - PROGRESS: at 62.57% examples, 355689 words/s, in_qsize 15, out_qsize 0\n",
            "2019-09-15 07:06:15,489 : INFO : EPOCH 11 - PROGRESS: at 66.58% examples, 353629 words/s, in_qsize 13, out_qsize 2\n",
            "2019-09-15 07:06:16,641 : INFO : EPOCH 11 - PROGRESS: at 71.56% examples, 353803 words/s, in_qsize 15, out_qsize 0\n",
            "2019-09-15 07:06:17,741 : INFO : EPOCH 11 - PROGRESS: at 76.55% examples, 354938 words/s, in_qsize 15, out_qsize 1\n",
            "2019-09-15 07:06:18,782 : INFO : EPOCH 11 - PROGRESS: at 81.12% examples, 355201 words/s, in_qsize 16, out_qsize 0\n",
            "2019-09-15 07:06:19,808 : INFO : EPOCH 11 - PROGRESS: at 85.34% examples, 354317 words/s, in_qsize 13, out_qsize 2\n",
            "2019-09-15 07:06:20,819 : INFO : EPOCH 11 - PROGRESS: at 90.00% examples, 355509 words/s, in_qsize 15, out_qsize 0\n",
            "2019-09-15 07:06:21,854 : INFO : EPOCH 11 - PROGRESS: at 94.25% examples, 354533 words/s, in_qsize 15, out_qsize 0\n",
            "2019-09-15 07:06:22,864 : INFO : EPOCH 11 - PROGRESS: at 98.79% examples, 355232 words/s, in_qsize 10, out_qsize 2\n",
            "2019-09-15 07:06:22,990 : INFO : worker thread finished; awaiting finish of 7 more threads\n",
            "2019-09-15 07:06:22,994 : INFO : worker thread finished; awaiting finish of 6 more threads\n",
            "2019-09-15 07:06:23,006 : INFO : worker thread finished; awaiting finish of 5 more threads\n",
            "2019-09-15 07:06:23,010 : INFO : worker thread finished; awaiting finish of 4 more threads\n",
            "2019-09-15 07:06:23,021 : INFO : worker thread finished; awaiting finish of 3 more threads\n",
            "2019-09-15 07:06:23,035 : INFO : worker thread finished; awaiting finish of 2 more threads\n",
            "2019-09-15 07:06:23,044 : INFO : worker thread finished; awaiting finish of 1 more threads\n",
            "2019-09-15 07:06:23,057 : INFO : worker thread finished; awaiting finish of 0 more threads\n",
            "2019-09-15 07:06:23,058 : INFO : EPOCH - 11 : training on 9227204 raw words (8223281 effective words) took 23.1s, 356546 effective words/s\n",
            "2019-09-15 07:06:24,101 : INFO : EPOCH 12 - PROGRESS: at 3.80% examples, 302920 words/s, in_qsize 15, out_qsize 0\n",
            "2019-09-15 07:06:25,166 : INFO : EPOCH 12 - PROGRESS: at 8.69% examples, 340285 words/s, in_qsize 15, out_qsize 0\n",
            "2019-09-15 07:06:26,231 : INFO : EPOCH 12 - PROGRESS: at 12.93% examples, 335622 words/s, in_qsize 13, out_qsize 2\n",
            "2019-09-15 07:06:27,231 : INFO : EPOCH 12 - PROGRESS: at 17.46% examples, 344761 words/s, in_qsize 14, out_qsize 1\n",
            "2019-09-15 07:06:28,236 : INFO : EPOCH 12 - PROGRESS: at 21.79% examples, 346698 words/s, in_qsize 15, out_qsize 1\n",
            "2019-09-15 07:06:29,253 : INFO : EPOCH 12 - PROGRESS: at 26.45% examples, 351670 words/s, in_qsize 15, out_qsize 0\n",
            "2019-09-15 07:06:30,255 : INFO : EPOCH 12 - PROGRESS: at 30.67% examples, 351009 words/s, in_qsize 16, out_qsize 0\n",
            "2019-09-15 07:06:31,301 : INFO : EPOCH 12 - PROGRESS: at 35.00% examples, 349713 words/s, in_qsize 15, out_qsize 0\n",
            "2019-09-15 07:06:32,334 : INFO : EPOCH 12 - PROGRESS: at 39.65% examples, 352065 words/s, in_qsize 15, out_qsize 0\n",
            "2019-09-15 07:06:33,346 : INFO : EPOCH 12 - PROGRESS: at 43.96% examples, 352063 words/s, in_qsize 15, out_qsize 2\n",
            "2019-09-15 07:06:34,465 : INFO : EPOCH 12 - PROGRESS: at 48.62% examples, 351118 words/s, in_qsize 13, out_qsize 2\n",
            "2019-09-15 07:06:35,488 : INFO : EPOCH 12 - PROGRESS: at 53.05% examples, 351595 words/s, in_qsize 15, out_qsize 0\n",
            "2019-09-15 07:06:36,539 : INFO : EPOCH 12 - PROGRESS: at 57.59% examples, 351957 words/s, in_qsize 12, out_qsize 3\n",
            "2019-09-15 07:06:37,545 : INFO : EPOCH 12 - PROGRESS: at 62.14% examples, 353349 words/s, in_qsize 15, out_qsize 0\n",
            "2019-09-15 07:06:38,593 : INFO : EPOCH 12 - PROGRESS: at 66.58% examples, 353006 words/s, in_qsize 15, out_qsize 0\n",
            "2019-09-15 07:06:39,597 : INFO : EPOCH 12 - PROGRESS: at 70.91% examples, 353121 words/s, in_qsize 16, out_qsize 0\n",
            "2019-09-15 07:06:40,695 : INFO : EPOCH 12 - PROGRESS: at 75.46% examples, 352349 words/s, in_qsize 15, out_qsize 0\n",
            "2019-09-15 07:06:41,699 : INFO : EPOCH 12 - PROGRESS: at 79.81% examples, 352469 words/s, in_qsize 15, out_qsize 0\n",
            "2019-09-15 07:06:42,703 : INFO : EPOCH 12 - PROGRESS: at 84.26% examples, 353029 words/s, in_qsize 15, out_qsize 1\n",
            "2019-09-15 07:06:43,728 : INFO : EPOCH 12 - PROGRESS: at 88.69% examples, 353187 words/s, in_qsize 16, out_qsize 0\n",
            "2019-09-15 07:06:44,732 : INFO : EPOCH 12 - PROGRESS: at 93.05% examples, 353252 words/s, in_qsize 16, out_qsize 0\n",
            "2019-09-15 07:06:45,746 : INFO : EPOCH 12 - PROGRESS: at 97.18% examples, 352373 words/s, in_qsize 14, out_qsize 6\n",
            "2019-09-15 07:06:46,150 : INFO : worker thread finished; awaiting finish of 7 more threads\n",
            "2019-09-15 07:06:46,161 : INFO : worker thread finished; awaiting finish of 6 more threads\n",
            "2019-09-15 07:06:46,164 : INFO : worker thread finished; awaiting finish of 5 more threads\n",
            "2019-09-15 07:06:46,167 : INFO : worker thread finished; awaiting finish of 4 more threads\n",
            "2019-09-15 07:06:46,183 : INFO : worker thread finished; awaiting finish of 3 more threads\n",
            "2019-09-15 07:06:46,185 : INFO : worker thread finished; awaiting finish of 2 more threads\n",
            "2019-09-15 07:06:46,208 : INFO : worker thread finished; awaiting finish of 1 more threads\n",
            "2019-09-15 07:06:46,216 : INFO : worker thread finished; awaiting finish of 0 more threads\n",
            "2019-09-15 07:06:46,217 : INFO : EPOCH - 12 : training on 9227204 raw words (8222541 effective words) took 23.1s, 355250 effective words/s\n",
            "2019-09-15 07:06:47,250 : INFO : EPOCH 13 - PROGRESS: at 3.80% examples, 306356 words/s, in_qsize 15, out_qsize 0\n",
            "2019-09-15 07:06:48,380 : INFO : EPOCH 13 - PROGRESS: at 8.58% examples, 327800 words/s, in_qsize 14, out_qsize 1\n",
            "2019-09-15 07:06:49,385 : INFO : EPOCH 13 - PROGRESS: at 12.93% examples, 336434 words/s, in_qsize 13, out_qsize 2\n",
            "2019-09-15 07:06:50,425 : INFO : EPOCH 13 - PROGRESS: at 17.46% examples, 342077 words/s, in_qsize 14, out_qsize 1\n",
            "2019-09-15 07:06:51,464 : INFO : EPOCH 13 - PROGRESS: at 22.01% examples, 345699 words/s, in_qsize 15, out_qsize 0\n",
            "2019-09-15 07:06:52,483 : INFO : EPOCH 13 - PROGRESS: at 26.34% examples, 346386 words/s, in_qsize 15, out_qsize 0\n",
            "2019-09-15 07:06:53,498 : INFO : EPOCH 13 - PROGRESS: at 31.10% examples, 351928 words/s, in_qsize 15, out_qsize 0\n",
            "2019-09-15 07:06:54,527 : INFO : EPOCH 13 - PROGRESS: at 35.21% examples, 349080 words/s, in_qsize 14, out_qsize 1\n",
            "2019-09-15 07:06:55,533 : INFO : EPOCH 13 - PROGRESS: at 39.76% examples, 351558 words/s, in_qsize 15, out_qsize 0\n",
            "2019-09-15 07:06:56,534 : INFO : EPOCH 13 - PROGRESS: at 44.07% examples, 351961 words/s, in_qsize 14, out_qsize 0\n",
            "2019-09-15 07:06:57,655 : INFO : EPOCH 13 - PROGRESS: at 48.62% examples, 350183 words/s, in_qsize 15, out_qsize 0\n",
            "2019-09-15 07:06:58,685 : INFO : EPOCH 13 - PROGRESS: at 53.05% examples, 350559 words/s, in_qsize 15, out_qsize 0\n",
            "2019-09-15 07:06:59,702 : INFO : EPOCH 13 - PROGRESS: at 57.81% examples, 353202 words/s, in_qsize 14, out_qsize 1\n",
            "2019-09-15 07:07:00,703 : INFO : EPOCH 13 - PROGRESS: at 61.82% examples, 351547 words/s, in_qsize 16, out_qsize 0\n",
            "2019-09-15 07:07:01,746 : INFO : EPOCH 13 - PROGRESS: at 66.37% examples, 352013 words/s, in_qsize 15, out_qsize 0\n",
            "2019-09-15 07:07:02,780 : INFO : EPOCH 13 - PROGRESS: at 70.91% examples, 352640 words/s, in_qsize 15, out_qsize 0\n",
            "2019-09-15 07:07:03,809 : INFO : EPOCH 13 - PROGRESS: at 75.14% examples, 351751 words/s, in_qsize 15, out_qsize 0\n",
            "2019-09-15 07:07:04,831 : INFO : EPOCH 13 - PROGRESS: at 79.60% examples, 352044 words/s, in_qsize 15, out_qsize 0\n",
            "2019-09-15 07:07:05,842 : INFO : EPOCH 13 - PROGRESS: at 84.05% examples, 352519 words/s, in_qsize 15, out_qsize 0\n",
            "2019-09-15 07:07:06,961 : INFO : EPOCH 13 - PROGRESS: at 88.59% examples, 351528 words/s, in_qsize 14, out_qsize 3\n",
            "2019-09-15 07:07:07,980 : INFO : EPOCH 13 - PROGRESS: at 93.37% examples, 353056 words/s, in_qsize 15, out_qsize 0\n",
            "2019-09-15 07:07:09,018 : INFO : EPOCH 13 - PROGRESS: at 98.04% examples, 353794 words/s, in_qsize 15, out_qsize 0\n",
            "2019-09-15 07:07:09,371 : INFO : worker thread finished; awaiting finish of 7 more threads\n",
            "2019-09-15 07:07:09,378 : INFO : worker thread finished; awaiting finish of 6 more threads\n",
            "2019-09-15 07:07:09,381 : INFO : worker thread finished; awaiting finish of 5 more threads\n",
            "2019-09-15 07:07:09,386 : INFO : worker thread finished; awaiting finish of 4 more threads\n",
            "2019-09-15 07:07:09,396 : INFO : worker thread finished; awaiting finish of 3 more threads\n",
            "2019-09-15 07:07:09,402 : INFO : worker thread finished; awaiting finish of 2 more threads\n",
            "2019-09-15 07:07:09,419 : INFO : worker thread finished; awaiting finish of 1 more threads\n",
            "2019-09-15 07:07:09,421 : INFO : worker thread finished; awaiting finish of 0 more threads\n",
            "2019-09-15 07:07:09,424 : INFO : EPOCH - 13 : training on 9227204 raw words (8222503 effective words) took 23.2s, 354546 effective words/s\n",
            "2019-09-15 07:07:10,461 : INFO : EPOCH 14 - PROGRESS: at 3.91% examples, 314117 words/s, in_qsize 14, out_qsize 1\n",
            "2019-09-15 07:07:11,467 : INFO : EPOCH 14 - PROGRESS: at 8.36% examples, 338551 words/s, in_qsize 15, out_qsize 0\n",
            "2019-09-15 07:07:12,540 : INFO : EPOCH 14 - PROGRESS: at 12.82% examples, 339200 words/s, in_qsize 16, out_qsize 0\n",
            "2019-09-15 07:07:13,549 : INFO : EPOCH 14 - PROGRESS: at 17.13% examples, 342532 words/s, in_qsize 16, out_qsize 1\n",
            "2019-09-15 07:07:14,622 : INFO : EPOCH 14 - PROGRESS: at 21.90% examples, 348265 words/s, in_qsize 15, out_qsize 2\n",
            "2019-09-15 07:07:15,626 : INFO : EPOCH 14 - PROGRESS: at 26.34% examples, 349920 words/s, in_qsize 14, out_qsize 1\n",
            "2019-09-15 07:07:16,642 : INFO : EPOCH 14 - PROGRESS: at 30.89% examples, 352524 words/s, in_qsize 14, out_qsize 2\n",
            "2019-09-15 07:07:17,687 : INFO : EPOCH 14 - PROGRESS: at 35.32% examples, 352132 words/s, in_qsize 15, out_qsize 0\n",
            "2019-09-15 07:07:18,696 : INFO : EPOCH 14 - PROGRESS: at 39.76% examples, 353171 words/s, in_qsize 16, out_qsize 1\n",
            "2019-09-15 07:07:19,750 : INFO : EPOCH 14 - PROGRESS: at 44.07% examples, 351622 words/s, in_qsize 15, out_qsize 0\n",
            "2019-09-15 07:07:20,771 : INFO : EPOCH 14 - PROGRESS: at 48.40% examples, 351418 words/s, in_qsize 16, out_qsize 2\n",
            "2019-09-15 07:07:21,798 : INFO : EPOCH 14 - PROGRESS: at 53.05% examples, 353212 words/s, in_qsize 15, out_qsize 0\n",
            "2019-09-15 07:07:22,830 : INFO : EPOCH 14 - PROGRESS: at 57.38% examples, 352629 words/s, in_qsize 15, out_qsize 0\n",
            "2019-09-15 07:07:23,895 : INFO : EPOCH 14 - PROGRESS: at 61.82% examples, 351903 words/s, in_qsize 15, out_qsize 0\n",
            "2019-09-15 07:07:24,901 : INFO : EPOCH 14 - PROGRESS: at 66.69% examples, 354944 words/s, in_qsize 15, out_qsize 0\n",
            "2019-09-15 07:07:25,917 : INFO : EPOCH 14 - PROGRESS: at 70.91% examples, 354126 words/s, in_qsize 14, out_qsize 1\n",
            "2019-09-15 07:07:26,952 : INFO : EPOCH 14 - PROGRESS: at 75.13% examples, 353038 words/s, in_qsize 14, out_qsize 1\n",
            "2019-09-15 07:07:27,988 : INFO : EPOCH 14 - PROGRESS: at 79.49% examples, 352535 words/s, in_qsize 15, out_qsize 0\n",
            "2019-09-15 07:07:28,989 : INFO : EPOCH 14 - PROGRESS: at 84.04% examples, 353621 words/s, in_qsize 15, out_qsize 0\n",
            "2019-09-15 07:07:30,024 : INFO : EPOCH 14 - PROGRESS: at 88.80% examples, 354860 words/s, in_qsize 15, out_qsize 0\n",
            "2019-09-15 07:07:31,025 : INFO : EPOCH 14 - PROGRESS: at 92.82% examples, 353654 words/s, in_qsize 12, out_qsize 3\n",
            "2019-09-15 07:07:32,080 : INFO : EPOCH 14 - PROGRESS: at 97.50% examples, 354087 words/s, in_qsize 14, out_qsize 1\n",
            "2019-09-15 07:07:32,459 : INFO : worker thread finished; awaiting finish of 7 more threads\n",
            "2019-09-15 07:07:32,483 : INFO : worker thread finished; awaiting finish of 6 more threads\n",
            "2019-09-15 07:07:32,488 : INFO : worker thread finished; awaiting finish of 5 more threads\n",
            "2019-09-15 07:07:32,492 : INFO : worker thread finished; awaiting finish of 4 more threads\n",
            "2019-09-15 07:07:32,530 : INFO : worker thread finished; awaiting finish of 3 more threads\n",
            "2019-09-15 07:07:32,543 : INFO : worker thread finished; awaiting finish of 2 more threads\n",
            "2019-09-15 07:07:32,548 : INFO : worker thread finished; awaiting finish of 1 more threads\n",
            "2019-09-15 07:07:32,557 : INFO : worker thread finished; awaiting finish of 0 more threads\n",
            "2019-09-15 07:07:32,558 : INFO : EPOCH - 14 : training on 9227204 raw words (8222234 effective words) took 23.1s, 355679 effective words/s\n",
            "2019-09-15 07:07:33,587 : INFO : EPOCH 15 - PROGRESS: at 3.69% examples, 297719 words/s, in_qsize 16, out_qsize 0\n",
            "2019-09-15 07:07:34,614 : INFO : EPOCH 15 - PROGRESS: at 8.15% examples, 326592 words/s, in_qsize 15, out_qsize 0\n",
            "2019-09-15 07:07:35,666 : INFO : EPOCH 15 - PROGRESS: at 12.93% examples, 342326 words/s, in_qsize 15, out_qsize 0\n",
            "2019-09-15 07:07:36,689 : INFO : EPOCH 15 - PROGRESS: at 17.35% examples, 345914 words/s, in_qsize 15, out_qsize 0\n",
            "2019-09-15 07:07:37,750 : INFO : EPOCH 15 - PROGRESS: at 21.79% examples, 345598 words/s, in_qsize 15, out_qsize 0\n",
            "2019-09-15 07:07:38,831 : INFO : EPOCH 15 - PROGRESS: at 26.56% examples, 348598 words/s, in_qsize 15, out_qsize 0\n",
            "2019-09-15 07:07:39,851 : INFO : EPOCH 15 - PROGRESS: at 31.00% examples, 349928 words/s, in_qsize 15, out_qsize 0\n",
            "2019-09-15 07:07:40,872 : INFO : EPOCH 15 - PROGRESS: at 35.32% examples, 349807 words/s, in_qsize 16, out_qsize 0\n",
            "2019-09-15 07:07:41,908 : INFO : EPOCH 15 - PROGRESS: at 39.86% examples, 351077 words/s, in_qsize 15, out_qsize 0\n",
            "2019-09-15 07:07:42,961 : INFO : EPOCH 15 - PROGRESS: at 44.29% examples, 350619 words/s, in_qsize 14, out_qsize 1\n",
            "2019-09-15 07:07:43,980 : INFO : EPOCH 15 - PROGRESS: at 48.84% examples, 352130 words/s, in_qsize 14, out_qsize 1\n",
            "2019-09-15 07:07:44,987 : INFO : EPOCH 15 - PROGRESS: at 53.05% examples, 351559 words/s, in_qsize 15, out_qsize 0\n",
            "2019-09-15 07:07:46,067 : INFO : EPOCH 15 - PROGRESS: at 57.71% examples, 351841 words/s, in_qsize 14, out_qsize 1\n",
            "2019-09-15 07:07:47,119 : INFO : EPOCH 15 - PROGRESS: at 62.14% examples, 351507 words/s, in_qsize 13, out_qsize 2\n",
            "2019-09-15 07:07:48,129 : INFO : EPOCH 15 - PROGRESS: at 66.58% examples, 352125 words/s, in_qsize 14, out_qsize 1\n",
            "2019-09-15 07:07:49,139 : INFO : EPOCH 15 - PROGRESS: at 71.02% examples, 352726 words/s, in_qsize 15, out_qsize 0\n",
            "2019-09-15 07:07:50,169 : INFO : EPOCH 15 - PROGRESS: at 75.46% examples, 352818 words/s, in_qsize 16, out_qsize 0\n",
            "2019-09-15 07:07:51,293 : INFO : EPOCH 15 - PROGRESS: at 80.36% examples, 353030 words/s, in_qsize 15, out_qsize 0\n",
            "2019-09-15 07:07:52,313 : INFO : EPOCH 15 - PROGRESS: at 85.02% examples, 354188 words/s, in_qsize 15, out_qsize 0\n",
            "2019-09-15 07:07:53,331 : INFO : EPOCH 15 - PROGRESS: at 89.45% examples, 354418 words/s, in_qsize 15, out_qsize 0\n",
            "2019-09-15 07:07:54,365 : INFO : EPOCH 15 - PROGRESS: at 93.92% examples, 354339 words/s, in_qsize 16, out_qsize 2\n",
            "2019-09-15 07:07:55,378 : INFO : EPOCH 15 - PROGRESS: at 98.47% examples, 355008 words/s, in_qsize 15, out_qsize 0\n",
            "2019-09-15 07:07:55,559 : INFO : worker thread finished; awaiting finish of 7 more threads\n",
            "2019-09-15 07:07:55,563 : INFO : worker thread finished; awaiting finish of 6 more threads\n",
            "2019-09-15 07:07:55,600 : INFO : worker thread finished; awaiting finish of 5 more threads\n",
            "2019-09-15 07:07:55,606 : INFO : worker thread finished; awaiting finish of 4 more threads\n",
            "2019-09-15 07:07:55,610 : INFO : worker thread finished; awaiting finish of 3 more threads\n",
            "2019-09-15 07:07:55,615 : INFO : worker thread finished; awaiting finish of 2 more threads\n",
            "2019-09-15 07:07:55,618 : INFO : worker thread finished; awaiting finish of 1 more threads\n",
            "2019-09-15 07:07:55,624 : INFO : worker thread finished; awaiting finish of 0 more threads\n",
            "2019-09-15 07:07:55,625 : INFO : EPOCH - 15 : training on 9227204 raw words (8223033 effective words) took 23.1s, 356656 effective words/s\n",
            "2019-09-15 07:07:56,648 : INFO : EPOCH 16 - PROGRESS: at 4.13% examples, 335132 words/s, in_qsize 16, out_qsize 0\n",
            "2019-09-15 07:07:57,668 : INFO : EPOCH 16 - PROGRESS: at 8.04% examples, 325372 words/s, in_qsize 16, out_qsize 4\n",
            "2019-09-15 07:07:58,678 : INFO : EPOCH 16 - PROGRESS: at 12.71% examples, 342899 words/s, in_qsize 15, out_qsize 0\n",
            "2019-09-15 07:07:59,690 : INFO : EPOCH 16 - PROGRESS: at 17.13% examples, 347565 words/s, in_qsize 15, out_qsize 1\n",
            "2019-09-15 07:08:00,727 : INFO : EPOCH 16 - PROGRESS: at 21.57% examples, 348384 words/s, in_qsize 14, out_qsize 1\n",
            "2019-09-15 07:08:01,733 : INFO : EPOCH 16 - PROGRESS: at 25.91% examples, 349320 words/s, in_qsize 15, out_qsize 0\n",
            "2019-09-15 07:08:02,758 : INFO : EPOCH 16 - PROGRESS: at 30.67% examples, 354132 words/s, in_qsize 15, out_qsize 0\n",
            "2019-09-15 07:08:03,792 : INFO : EPOCH 16 - PROGRESS: at 35.21% examples, 355722 words/s, in_qsize 15, out_qsize 0\n",
            "2019-09-15 07:08:04,780 : INFO : EPOCH 16 - PROGRESS: at 39.33% examples, 353721 words/s, in_qsize 14, out_qsize 1\n",
            "2019-09-15 07:08:05,805 : INFO : EPOCH 16 - PROGRESS: at 43.75% examples, 353995 words/s, in_qsize 15, out_qsize 1\n",
            "2019-09-15 07:08:06,825 : INFO : EPOCH 16 - PROGRESS: at 48.08% examples, 353599 words/s, in_qsize 15, out_qsize 0\n",
            "2019-09-15 07:08:07,828 : INFO : EPOCH 16 - PROGRESS: at 52.51% examples, 354461 words/s, in_qsize 15, out_qsize 0\n",
            "2019-09-15 07:08:08,932 : INFO : EPOCH 16 - PROGRESS: at 57.27% examples, 354479 words/s, in_qsize 15, out_qsize 0\n",
            "2019-09-15 07:08:09,934 : INFO : EPOCH 16 - PROGRESS: at 61.82% examples, 355835 words/s, in_qsize 15, out_qsize 0\n",
            "2019-09-15 07:08:11,002 : INFO : EPOCH 16 - PROGRESS: at 66.15% examples, 354266 words/s, in_qsize 15, out_qsize 2\n",
            "2019-09-15 07:08:12,037 : INFO : EPOCH 16 - PROGRESS: at 71.13% examples, 356920 words/s, in_qsize 16, out_qsize 0\n",
            "2019-09-15 07:08:13,083 : INFO : EPOCH 16 - PROGRESS: at 75.35% examples, 355428 words/s, in_qsize 15, out_qsize 0\n",
            "2019-09-15 07:08:14,138 : INFO : EPOCH 16 - PROGRESS: at 79.92% examples, 355734 words/s, in_qsize 15, out_qsize 1\n",
            "2019-09-15 07:08:15,163 : INFO : EPOCH 16 - PROGRESS: at 84.37% examples, 355435 words/s, in_qsize 14, out_qsize 3\n",
            "2019-09-15 07:08:16,280 : INFO : EPOCH 16 - PROGRESS: at 89.34% examples, 356045 words/s, in_qsize 15, out_qsize 0\n",
            "2019-09-15 07:08:17,300 : INFO : EPOCH 16 - PROGRESS: at 93.81% examples, 356134 words/s, in_qsize 13, out_qsize 2\n",
            "2019-09-15 07:08:18,302 : INFO : EPOCH 16 - PROGRESS: at 98.15% examples, 356087 words/s, in_qsize 15, out_qsize 0\n",
            "2019-09-15 07:08:18,520 : INFO : worker thread finished; awaiting finish of 7 more threads\n",
            "2019-09-15 07:08:18,522 : INFO : worker thread finished; awaiting finish of 6 more threads\n",
            "2019-09-15 07:08:18,526 : INFO : worker thread finished; awaiting finish of 5 more threads\n",
            "2019-09-15 07:08:18,530 : INFO : worker thread finished; awaiting finish of 4 more threads\n",
            "2019-09-15 07:08:18,542 : INFO : worker thread finished; awaiting finish of 3 more threads\n",
            "2019-09-15 07:08:18,561 : INFO : worker thread finished; awaiting finish of 2 more threads\n",
            "2019-09-15 07:08:18,567 : INFO : worker thread finished; awaiting finish of 1 more threads\n",
            "2019-09-15 07:08:18,576 : INFO : worker thread finished; awaiting finish of 0 more threads\n",
            "2019-09-15 07:08:18,577 : INFO : EPOCH - 16 : training on 9227204 raw words (8222884 effective words) took 22.9s, 358469 effective words/s\n",
            "2019-09-15 07:08:19,595 : INFO : EPOCH 17 - PROGRESS: at 3.91% examples, 319498 words/s, in_qsize 16, out_qsize 0\n",
            "2019-09-15 07:08:20,615 : INFO : EPOCH 17 - PROGRESS: at 8.80% examples, 356641 words/s, in_qsize 15, out_qsize 0\n",
            "2019-09-15 07:08:21,667 : INFO : EPOCH 17 - PROGRESS: at 13.04% examples, 347572 words/s, in_qsize 15, out_qsize 0\n",
            "2019-09-15 07:08:22,739 : INFO : EPOCH 17 - PROGRESS: at 17.46% examples, 345667 words/s, in_qsize 14, out_qsize 1\n",
            "2019-09-15 07:08:23,747 : INFO : EPOCH 17 - PROGRESS: at 22.43% examples, 357588 words/s, in_qsize 16, out_qsize 0\n",
            "2019-09-15 07:08:24,753 : INFO : EPOCH 17 - PROGRESS: at 26.45% examples, 352716 words/s, in_qsize 15, out_qsize 0\n",
            "2019-09-15 07:08:25,757 : INFO : EPOCH 17 - PROGRESS: at 30.99% examples, 355529 words/s, in_qsize 15, out_qsize 0\n",
            "2019-09-15 07:08:26,765 : INFO : EPOCH 17 - PROGRESS: at 35.32% examples, 355254 words/s, in_qsize 15, out_qsize 1\n",
            "2019-09-15 07:08:27,933 : INFO : EPOCH 17 - PROGRESS: at 40.19% examples, 353728 words/s, in_qsize 15, out_qsize 1\n",
            "2019-09-15 07:08:28,957 : INFO : EPOCH 17 - PROGRESS: at 44.84% examples, 355723 words/s, in_qsize 15, out_qsize 1\n",
            "2019-09-15 07:08:29,998 : INFO : EPOCH 17 - PROGRESS: at 49.70% examples, 358436 words/s, in_qsize 16, out_qsize 0\n",
            "2019-09-15 07:08:31,026 : INFO : EPOCH 17 - PROGRESS: at 53.81% examples, 356049 words/s, in_qsize 15, out_qsize 0\n",
            "2019-09-15 07:08:32,058 : INFO : EPOCH 17 - PROGRESS: at 58.47% examples, 357244 words/s, in_qsize 15, out_qsize 0\n",
            "2019-09-15 07:08:33,098 : INFO : EPOCH 17 - PROGRESS: at 62.89% examples, 356794 words/s, in_qsize 15, out_qsize 0\n",
            "2019-09-15 07:08:34,149 : INFO : EPOCH 17 - PROGRESS: at 67.55% examples, 357308 words/s, in_qsize 14, out_qsize 1\n",
            "2019-09-15 07:08:35,216 : INFO : EPOCH 17 - PROGRESS: at 72.21% examples, 357426 words/s, in_qsize 14, out_qsize 1\n",
            "2019-09-15 07:08:36,343 : INFO : EPOCH 17 - PROGRESS: at 76.87% examples, 356304 words/s, in_qsize 15, out_qsize 0\n",
            "2019-09-15 07:08:37,350 : INFO : EPOCH 17 - PROGRESS: at 81.56% examples, 357578 words/s, in_qsize 14, out_qsize 1\n",
            "2019-09-15 07:08:38,419 : INFO : EPOCH 17 - PROGRESS: at 86.31% examples, 358056 words/s, in_qsize 15, out_qsize 0\n",
            "2019-09-15 07:08:39,467 : INFO : EPOCH 17 - PROGRESS: at 90.65% examples, 357160 words/s, in_qsize 15, out_qsize 0\n",
            "2019-09-15 07:08:40,472 : INFO : EPOCH 17 - PROGRESS: at 95.12% examples, 357426 words/s, in_qsize 16, out_qsize 4\n",
            "2019-09-15 07:08:41,314 : INFO : worker thread finished; awaiting finish of 7 more threads\n",
            "2019-09-15 07:08:41,316 : INFO : worker thread finished; awaiting finish of 6 more threads\n",
            "2019-09-15 07:08:41,328 : INFO : worker thread finished; awaiting finish of 5 more threads\n",
            "2019-09-15 07:08:41,342 : INFO : worker thread finished; awaiting finish of 4 more threads\n",
            "2019-09-15 07:08:41,410 : INFO : worker thread finished; awaiting finish of 3 more threads\n",
            "2019-09-15 07:08:41,417 : INFO : worker thread finished; awaiting finish of 2 more threads\n",
            "2019-09-15 07:08:41,431 : INFO : worker thread finished; awaiting finish of 1 more threads\n",
            "2019-09-15 07:08:41,436 : INFO : worker thread finished; awaiting finish of 0 more threads\n",
            "2019-09-15 07:08:41,437 : INFO : EPOCH - 17 : training on 9227204 raw words (8222264 effective words) took 22.8s, 359910 effective words/s\n",
            "2019-09-15 07:08:42,460 : INFO : EPOCH 18 - PROGRESS: at 3.69% examples, 300009 words/s, in_qsize 13, out_qsize 2\n",
            "2019-09-15 07:08:43,476 : INFO : EPOCH 18 - PROGRESS: at 8.26% examples, 334234 words/s, in_qsize 15, out_qsize 0\n",
            "2019-09-15 07:08:44,523 : INFO : EPOCH 18 - PROGRESS: at 12.71% examples, 339369 words/s, in_qsize 15, out_qsize 0\n",
            "2019-09-15 07:08:45,547 : INFO : EPOCH 18 - PROGRESS: at 17.13% examples, 343606 words/s, in_qsize 16, out_qsize 0\n",
            "2019-09-15 07:08:46,617 : INFO : EPOCH 18 - PROGRESS: at 21.35% examples, 339715 words/s, in_qsize 15, out_qsize 0\n",
            "2019-09-15 07:08:47,621 : INFO : EPOCH 18 - PROGRESS: at 25.69% examples, 342171 words/s, in_qsize 15, out_qsize 0\n",
            "2019-09-15 07:08:48,630 : INFO : EPOCH 18 - PROGRESS: at 30.35% examples, 347461 words/s, in_qsize 15, out_qsize 1\n",
            "2019-09-15 07:08:49,669 : INFO : EPOCH 18 - PROGRESS: at 34.67% examples, 346877 words/s, in_qsize 13, out_qsize 2\n",
            "2019-09-15 07:08:50,670 : INFO : EPOCH 18 - PROGRESS: at 38.78% examples, 345944 words/s, in_qsize 15, out_qsize 1\n",
            "2019-09-15 07:08:51,678 : INFO : EPOCH 18 - PROGRESS: at 43.21% examples, 347553 words/s, in_qsize 15, out_qsize 0\n",
            "2019-09-15 07:08:52,702 : INFO : EPOCH 18 - PROGRESS: at 47.54% examples, 347592 words/s, in_qsize 15, out_qsize 2\n",
            "2019-09-15 07:08:53,709 : INFO : EPOCH 18 - PROGRESS: at 52.40% examples, 351776 words/s, in_qsize 15, out_qsize 0\n",
            "2019-09-15 07:08:54,761 : INFO : EPOCH 18 - PROGRESS: at 56.73% examples, 350754 words/s, in_qsize 16, out_qsize 0\n",
            "2019-09-15 07:08:55,766 : INFO : EPOCH 18 - PROGRESS: at 61.60% examples, 354123 words/s, in_qsize 15, out_qsize 0\n",
            "2019-09-15 07:08:56,845 : INFO : EPOCH 18 - PROGRESS: at 65.72% examples, 351273 words/s, in_qsize 16, out_qsize 2\n",
            "2019-09-15 07:08:57,848 : INFO : EPOCH 18 - PROGRESS: at 70.37% examples, 353153 words/s, in_qsize 15, out_qsize 0\n",
            "2019-09-15 07:08:58,863 : INFO : EPOCH 18 - PROGRESS: at 74.92% examples, 354053 words/s, in_qsize 15, out_qsize 0\n",
            "2019-09-15 07:08:59,881 : INFO : EPOCH 18 - PROGRESS: at 79.49% examples, 354775 words/s, in_qsize 15, out_qsize 0\n",
            "2019-09-15 07:09:00,927 : INFO : EPOCH 18 - PROGRESS: at 83.83% examples, 354021 words/s, in_qsize 15, out_qsize 0\n",
            "2019-09-15 07:09:01,929 : INFO : EPOCH 18 - PROGRESS: at 87.94% examples, 353216 words/s, in_qsize 15, out_qsize 0\n",
            "2019-09-15 07:09:02,952 : INFO : EPOCH 18 - PROGRESS: at 93.05% examples, 355866 words/s, in_qsize 15, out_qsize 0\n",
            "2019-09-15 07:09:03,974 : INFO : EPOCH 18 - PROGRESS: at 97.29% examples, 355131 words/s, in_qsize 15, out_qsize 0\n",
            "2019-09-15 07:09:04,391 : INFO : worker thread finished; awaiting finish of 7 more threads\n",
            "2019-09-15 07:09:04,416 : INFO : worker thread finished; awaiting finish of 6 more threads\n",
            "2019-09-15 07:09:04,426 : INFO : worker thread finished; awaiting finish of 5 more threads\n",
            "2019-09-15 07:09:04,453 : INFO : worker thread finished; awaiting finish of 4 more threads\n",
            "2019-09-15 07:09:04,460 : INFO : worker thread finished; awaiting finish of 3 more threads\n",
            "2019-09-15 07:09:04,479 : INFO : worker thread finished; awaiting finish of 2 more threads\n",
            "2019-09-15 07:09:04,482 : INFO : worker thread finished; awaiting finish of 1 more threads\n",
            "2019-09-15 07:09:04,484 : INFO : worker thread finished; awaiting finish of 0 more threads\n",
            "2019-09-15 07:09:04,485 : INFO : EPOCH - 18 : training on 9227204 raw words (8222372 effective words) took 23.0s, 356974 effective words/s\n",
            "2019-09-15 07:09:05,563 : INFO : EPOCH 19 - PROGRESS: at 4.02% examples, 310386 words/s, in_qsize 15, out_qsize 1\n",
            "2019-09-15 07:09:06,623 : INFO : EPOCH 19 - PROGRESS: at 8.80% examples, 340079 words/s, in_qsize 15, out_qsize 0\n",
            "2019-09-15 07:09:07,643 : INFO : EPOCH 19 - PROGRESS: at 13.14% examples, 343129 words/s, in_qsize 15, out_qsize 0\n",
            "2019-09-15 07:09:08,696 : INFO : EPOCH 19 - PROGRESS: at 17.68% examples, 346091 words/s, in_qsize 15, out_qsize 0\n",
            "2019-09-15 07:09:09,721 : INFO : EPOCH 19 - PROGRESS: at 22.33% examples, 351535 words/s, in_qsize 14, out_qsize 1\n",
            "2019-09-15 07:09:10,740 : INFO : EPOCH 19 - PROGRESS: at 26.88% examples, 354103 words/s, in_qsize 15, out_qsize 0\n",
            "2019-09-15 07:09:11,803 : INFO : EPOCH 19 - PROGRESS: at 31.21% examples, 351386 words/s, in_qsize 15, out_qsize 0\n",
            "2019-09-15 07:09:12,815 : INFO : EPOCH 19 - PROGRESS: at 35.86% examples, 354686 words/s, in_qsize 14, out_qsize 1\n",
            "2019-09-15 07:09:13,872 : INFO : EPOCH 19 - PROGRESS: at 40.73% examples, 357415 words/s, in_qsize 15, out_qsize 0\n",
            "2019-09-15 07:09:14,875 : INFO : EPOCH 19 - PROGRESS: at 44.94% examples, 356376 words/s, in_qsize 15, out_qsize 0\n",
            "2019-09-15 07:09:15,890 : INFO : EPOCH 19 - PROGRESS: at 49.38% examples, 356680 words/s, in_qsize 15, out_qsize 0\n",
            "2019-09-15 07:09:16,901 : INFO : EPOCH 19 - PROGRESS: at 53.92% examples, 357801 words/s, in_qsize 15, out_qsize 0\n",
            "2019-09-15 07:09:17,908 : INFO : EPOCH 19 - PROGRESS: at 58.03% examples, 356209 words/s, in_qsize 16, out_qsize 0\n",
            "2019-09-15 07:09:19,000 : INFO : EPOCH 19 - PROGRESS: at 62.89% examples, 357047 words/s, in_qsize 15, out_qsize 0\n",
            "2019-09-15 07:09:20,017 : INFO : EPOCH 19 - PROGRESS: at 67.35% examples, 357164 words/s, in_qsize 15, out_qsize 0\n",
            "2019-09-15 07:09:21,019 : INFO : EPOCH 19 - PROGRESS: at 71.78% examples, 357611 words/s, in_qsize 14, out_qsize 1\n",
            "2019-09-15 07:09:22,037 : INFO : EPOCH 19 - PROGRESS: at 76.44% examples, 358681 words/s, in_qsize 15, out_qsize 0\n",
            "2019-09-15 07:09:23,054 : INFO : EPOCH 19 - PROGRESS: at 80.36% examples, 356323 words/s, in_qsize 14, out_qsize 4\n",
            "2019-09-15 07:09:24,064 : INFO : EPOCH 19 - PROGRESS: at 84.59% examples, 355699 words/s, in_qsize 14, out_qsize 2\n",
            "2019-09-15 07:09:25,069 : INFO : EPOCH 19 - PROGRESS: at 88.91% examples, 355623 words/s, in_qsize 13, out_qsize 2\n",
            "2019-09-15 07:09:26,106 : INFO : EPOCH 19 - PROGRESS: at 93.37% examples, 355444 words/s, in_qsize 16, out_qsize 0\n",
            "2019-09-15 07:09:27,117 : INFO : EPOCH 19 - PROGRESS: at 97.50% examples, 354515 words/s, in_qsize 15, out_qsize 0\n",
            "2019-09-15 07:09:27,520 : INFO : worker thread finished; awaiting finish of 7 more threads\n",
            "2019-09-15 07:09:27,558 : INFO : worker thread finished; awaiting finish of 6 more threads\n",
            "2019-09-15 07:09:27,568 : INFO : worker thread finished; awaiting finish of 5 more threads\n",
            "2019-09-15 07:09:27,581 : INFO : worker thread finished; awaiting finish of 4 more threads\n",
            "2019-09-15 07:09:27,617 : INFO : worker thread finished; awaiting finish of 3 more threads\n",
            "2019-09-15 07:09:27,625 : INFO : worker thread finished; awaiting finish of 2 more threads\n",
            "2019-09-15 07:09:27,631 : INFO : worker thread finished; awaiting finish of 1 more threads\n",
            "2019-09-15 07:09:27,637 : INFO : worker thread finished; awaiting finish of 0 more threads\n",
            "2019-09-15 07:09:27,638 : INFO : EPOCH - 19 : training on 9227204 raw words (8223757 effective words) took 23.1s, 355428 effective words/s\n",
            "2019-09-15 07:09:28,716 : INFO : EPOCH 20 - PROGRESS: at 3.58% examples, 276408 words/s, in_qsize 12, out_qsize 3\n",
            "2019-09-15 07:09:29,721 : INFO : EPOCH 20 - PROGRESS: at 7.71% examples, 305744 words/s, in_qsize 12, out_qsize 3\n",
            "2019-09-15 07:09:30,725 : INFO : EPOCH 20 - PROGRESS: at 12.17% examples, 324791 words/s, in_qsize 14, out_qsize 1\n",
            "2019-09-15 07:09:31,738 : INFO : EPOCH 20 - PROGRESS: at 16.37% examples, 329286 words/s, in_qsize 14, out_qsize 1\n",
            "2019-09-15 07:09:32,739 : INFO : EPOCH 20 - PROGRESS: at 20.92% examples, 337953 words/s, in_qsize 16, out_qsize 0\n",
            "2019-09-15 07:09:33,741 : INFO : EPOCH 20 - PROGRESS: at 25.26% examples, 340896 words/s, in_qsize 14, out_qsize 1\n",
            "2019-09-15 07:09:34,766 : INFO : EPOCH 20 - PROGRESS: at 29.80% examples, 344433 words/s, in_qsize 15, out_qsize 0\n",
            "2019-09-15 07:09:35,776 : INFO : EPOCH 20 - PROGRESS: at 34.24% examples, 346556 words/s, in_qsize 15, out_qsize 0\n",
            "2019-09-15 07:09:36,809 : INFO : EPOCH 20 - PROGRESS: at 38.57% examples, 346365 words/s, in_qsize 15, out_qsize 0\n",
            "2019-09-15 07:09:37,837 : INFO : EPOCH 20 - PROGRESS: at 43.00% examples, 347262 words/s, in_qsize 16, out_qsize 0\n",
            "2019-09-15 07:09:38,845 : INFO : EPOCH 20 - PROGRESS: at 47.65% examples, 350216 words/s, in_qsize 16, out_qsize 0\n",
            "2019-09-15 07:09:39,850 : INFO : EPOCH 20 - PROGRESS: at 51.75% examples, 349118 words/s, in_qsize 13, out_qsize 2\n",
            "2019-09-15 07:09:40,886 : INFO : EPOCH 20 - PROGRESS: at 56.29% examples, 350082 words/s, in_qsize 14, out_qsize 1\n",
            "2019-09-15 07:09:41,908 : INFO : EPOCH 20 - PROGRESS: at 60.85% examples, 351233 words/s, in_qsize 15, out_qsize 0\n",
            "2019-09-15 07:09:42,919 : INFO : EPOCH 20 - PROGRESS: at 65.17% examples, 351279 words/s, in_qsize 15, out_qsize 0\n",
            "2019-09-15 07:09:43,948 : INFO : EPOCH 20 - PROGRESS: at 69.61% examples, 351523 words/s, in_qsize 16, out_qsize 0\n",
            "2019-09-15 07:09:44,950 : INFO : EPOCH 20 - PROGRESS: at 74.26% examples, 353279 words/s, in_qsize 14, out_qsize 1\n",
            "2019-09-15 07:09:45,957 : INFO : EPOCH 20 - PROGRESS: at 78.62% examples, 353317 words/s, in_qsize 15, out_qsize 0\n",
            "2019-09-15 07:09:46,963 : INFO : EPOCH 20 - PROGRESS: at 82.97% examples, 353364 words/s, in_qsize 15, out_qsize 2\n",
            "2019-09-15 07:09:47,980 : INFO : EPOCH 20 - PROGRESS: at 87.51% examples, 354089 words/s, in_qsize 15, out_qsize 0\n",
            "2019-09-15 07:09:48,997 : INFO : EPOCH 20 - PROGRESS: at 92.07% examples, 354712 words/s, in_qsize 14, out_qsize 1\n",
            "2019-09-15 07:09:50,002 : INFO : EPOCH 20 - PROGRESS: at 96.53% examples, 355095 words/s, in_qsize 16, out_qsize 0\n",
            "2019-09-15 07:09:50,643 : INFO : worker thread finished; awaiting finish of 7 more threads\n",
            "2019-09-15 07:09:50,647 : INFO : worker thread finished; awaiting finish of 6 more threads\n",
            "2019-09-15 07:09:50,660 : INFO : worker thread finished; awaiting finish of 5 more threads\n",
            "2019-09-15 07:09:50,699 : INFO : worker thread finished; awaiting finish of 4 more threads\n",
            "2019-09-15 07:09:50,707 : INFO : worker thread finished; awaiting finish of 3 more threads\n",
            "2019-09-15 07:09:50,722 : INFO : worker thread finished; awaiting finish of 2 more threads\n",
            "2019-09-15 07:09:50,725 : INFO : worker thread finished; awaiting finish of 1 more threads\n",
            "2019-09-15 07:09:50,729 : INFO : worker thread finished; awaiting finish of 0 more threads\n",
            "2019-09-15 07:09:50,730 : INFO : EPOCH - 20 : training on 9227204 raw words (8222167 effective words) took 23.1s, 356284 effective words/s\n",
            "2019-09-15 07:09:51,771 : INFO : EPOCH 21 - PROGRESS: at 4.13% examples, 329658 words/s, in_qsize 15, out_qsize 1\n",
            "2019-09-15 07:09:52,789 : INFO : EPOCH 21 - PROGRESS: at 8.58% examples, 344260 words/s, in_qsize 15, out_qsize 0\n",
            "2019-09-15 07:09:53,850 : INFO : EPOCH 21 - PROGRESS: at 12.93% examples, 341443 words/s, in_qsize 15, out_qsize 0\n",
            "2019-09-15 07:09:54,855 : INFO : EPOCH 21 - PROGRESS: at 17.35% examples, 346746 words/s, in_qsize 16, out_qsize 0\n",
            "2019-09-15 07:09:55,893 : INFO : EPOCH 21 - PROGRESS: at 21.68% examples, 346136 words/s, in_qsize 15, out_qsize 0\n",
            "2019-09-15 07:09:56,931 : INFO : EPOCH 21 - PROGRESS: at 26.34% examples, 350007 words/s, in_qsize 15, out_qsize 1\n",
            "2019-09-15 07:09:57,970 : INFO : EPOCH 21 - PROGRESS: at 30.56% examples, 347825 words/s, in_qsize 15, out_qsize 0\n",
            "2019-09-15 07:09:58,972 : INFO : EPOCH 21 - PROGRESS: at 35.10% examples, 350924 words/s, in_qsize 15, out_qsize 0\n",
            "2019-09-15 07:09:59,978 : INFO : EPOCH 21 - PROGRESS: at 39.33% examples, 350304 words/s, in_qsize 16, out_qsize 0\n",
            "2019-09-15 07:10:01,007 : INFO : EPOCH 21 - PROGRESS: at 43.32% examples, 347301 words/s, in_qsize 14, out_qsize 1\n",
            "2019-09-15 07:10:02,043 : INFO : EPOCH 21 - PROGRESS: at 47.75% examples, 347770 words/s, in_qsize 16, out_qsize 0\n",
            "2019-09-15 07:10:03,101 : INFO : EPOCH 21 - PROGRESS: at 52.40% examples, 349039 words/s, in_qsize 15, out_qsize 0\n",
            "2019-09-15 07:10:04,108 : INFO : EPOCH 21 - PROGRESS: at 57.06% examples, 351409 words/s, in_qsize 16, out_qsize 0\n",
            "2019-09-15 07:10:05,147 : INFO : EPOCH 21 - PROGRESS: at 61.07% examples, 348972 words/s, in_qsize 15, out_qsize 0\n",
            "2019-09-15 07:10:06,233 : INFO : EPOCH 21 - PROGRESS: at 65.72% examples, 349213 words/s, in_qsize 15, out_qsize 0\n",
            "2019-09-15 07:10:07,280 : INFO : EPOCH 21 - PROGRESS: at 70.27% examples, 349726 words/s, in_qsize 14, out_qsize 1\n",
            "2019-09-15 07:10:08,306 : INFO : EPOCH 21 - PROGRESS: at 74.81% examples, 350605 words/s, in_qsize 15, out_qsize 0\n",
            "2019-09-15 07:10:09,311 : INFO : EPOCH 21 - PROGRESS: at 79.49% examples, 352238 words/s, in_qsize 14, out_qsize 0\n",
            "2019-09-15 07:10:10,383 : INFO : EPOCH 21 - PROGRESS: at 83.83% examples, 351151 words/s, in_qsize 15, out_qsize 0\n",
            "2019-09-15 07:10:11,386 : INFO : EPOCH 21 - PROGRESS: at 88.37% examples, 352207 words/s, in_qsize 15, out_qsize 0\n",
            "2019-09-15 07:10:12,390 : INFO : EPOCH 21 - PROGRESS: at 92.39% examples, 351069 words/s, in_qsize 15, out_qsize 0\n",
            "2019-09-15 07:10:13,441 : INFO : EPOCH 21 - PROGRESS: at 96.74% examples, 350787 words/s, in_qsize 15, out_qsize 5\n",
            "2019-09-15 07:10:13,907 : INFO : worker thread finished; awaiting finish of 7 more threads\n",
            "2019-09-15 07:10:13,909 : INFO : worker thread finished; awaiting finish of 6 more threads\n",
            "2019-09-15 07:10:13,938 : INFO : worker thread finished; awaiting finish of 5 more threads\n",
            "2019-09-15 07:10:13,992 : INFO : worker thread finished; awaiting finish of 4 more threads\n",
            "2019-09-15 07:10:14,005 : INFO : worker thread finished; awaiting finish of 3 more threads\n",
            "2019-09-15 07:10:14,013 : INFO : worker thread finished; awaiting finish of 2 more threads\n",
            "2019-09-15 07:10:14,019 : INFO : worker thread finished; awaiting finish of 1 more threads\n",
            "2019-09-15 07:10:14,021 : INFO : worker thread finished; awaiting finish of 0 more threads\n",
            "2019-09-15 07:10:14,023 : INFO : EPOCH - 21 : training on 9227204 raw words (8223358 effective words) took 23.3s, 353267 effective words/s\n",
            "2019-09-15 07:10:15,039 : INFO : EPOCH 22 - PROGRESS: at 3.91% examples, 319365 words/s, in_qsize 15, out_qsize 0\n",
            "2019-09-15 07:10:16,089 : INFO : EPOCH 22 - PROGRESS: at 7.93% examples, 318257 words/s, in_qsize 15, out_qsize 5\n",
            "2019-09-15 07:10:17,102 : INFO : EPOCH 22 - PROGRESS: at 12.82% examples, 342845 words/s, in_qsize 16, out_qsize 0\n",
            "2019-09-15 07:10:18,114 : INFO : EPOCH 22 - PROGRESS: at 16.59% examples, 334154 words/s, in_qsize 15, out_qsize 3\n",
            "2019-09-15 07:10:19,123 : INFO : EPOCH 22 - PROGRESS: at 20.92% examples, 337964 words/s, in_qsize 12, out_qsize 3\n",
            "2019-09-15 07:10:20,136 : INFO : EPOCH 22 - PROGRESS: at 25.48% examples, 343205 words/s, in_qsize 16, out_qsize 0\n",
            "2019-09-15 07:10:21,139 : INFO : EPOCH 22 - PROGRESS: at 29.59% examples, 342416 words/s, in_qsize 12, out_qsize 3\n",
            "2019-09-15 07:10:22,163 : INFO : EPOCH 22 - PROGRESS: at 33.81% examples, 341993 words/s, in_qsize 15, out_qsize 0\n",
            "2019-09-15 07:10:23,179 : INFO : EPOCH 22 - PROGRESS: at 38.14% examples, 342954 words/s, in_qsize 15, out_qsize 0\n",
            "2019-09-15 07:10:24,222 : INFO : EPOCH 22 - PROGRESS: at 42.57% examples, 344416 words/s, in_qsize 15, out_qsize 0\n",
            "2019-09-15 07:10:25,211 : INFO : EPOCH 22 - PROGRESS: at 47.21% examples, 347535 words/s, in_qsize 15, out_qsize 0\n",
            "2019-09-15 07:10:26,212 : INFO : EPOCH 22 - PROGRESS: at 51.10% examples, 345326 words/s, in_qsize 15, out_qsize 0\n",
            "2019-09-15 07:10:27,240 : INFO : EPOCH 22 - PROGRESS: at 55.42% examples, 345453 words/s, in_qsize 14, out_qsize 1\n",
            "2019-09-15 07:10:28,256 : INFO : EPOCH 22 - PROGRESS: at 60.19% examples, 348371 words/s, in_qsize 15, out_qsize 0\n",
            "2019-09-15 07:10:29,331 : INFO : EPOCH 22 - PROGRESS: at 64.30% examples, 346005 words/s, in_qsize 15, out_qsize 0\n",
            "2019-09-15 07:10:30,390 : INFO : EPOCH 22 - PROGRESS: at 68.75% examples, 345956 words/s, in_qsize 14, out_qsize 1\n",
            "2019-09-15 07:10:31,510 : INFO : EPOCH 22 - PROGRESS: at 73.30% examples, 345179 words/s, in_qsize 15, out_qsize 3\n",
            "2019-09-15 07:10:32,533 : INFO : EPOCH 22 - PROGRESS: at 78.18% examples, 347764 words/s, in_qsize 15, out_qsize 0\n",
            "2019-09-15 07:10:33,554 : INFO : EPOCH 22 - PROGRESS: at 82.42% examples, 347365 words/s, in_qsize 16, out_qsize 0\n",
            "2019-09-15 07:10:34,589 : INFO : EPOCH 22 - PROGRESS: at 86.53% examples, 346339 words/s, in_qsize 14, out_qsize 1\n",
            "2019-09-15 07:10:35,601 : INFO : EPOCH 22 - PROGRESS: at 90.76% examples, 346176 words/s, in_qsize 15, out_qsize 0\n",
            "2019-09-15 07:10:36,605 : INFO : EPOCH 22 - PROGRESS: at 95.12% examples, 346539 words/s, in_qsize 14, out_qsize 3\n",
            "2019-09-15 07:10:37,495 : INFO : worker thread finished; awaiting finish of 7 more threads\n",
            "2019-09-15 07:10:37,502 : INFO : worker thread finished; awaiting finish of 6 more threads\n",
            "2019-09-15 07:10:37,513 : INFO : worker thread finished; awaiting finish of 5 more threads\n",
            "2019-09-15 07:10:37,533 : INFO : worker thread finished; awaiting finish of 4 more threads\n",
            "2019-09-15 07:10:37,539 : INFO : worker thread finished; awaiting finish of 3 more threads\n",
            "2019-09-15 07:10:37,556 : INFO : worker thread finished; awaiting finish of 2 more threads\n",
            "2019-09-15 07:10:37,571 : INFO : worker thread finished; awaiting finish of 1 more threads\n",
            "2019-09-15 07:10:37,573 : INFO : worker thread finished; awaiting finish of 0 more threads\n",
            "2019-09-15 07:10:37,574 : INFO : EPOCH - 22 : training on 9227204 raw words (8223140 effective words) took 23.5s, 349344 effective words/s\n",
            "2019-09-15 07:10:38,590 : INFO : EPOCH 23 - PROGRESS: at 3.58% examples, 293496 words/s, in_qsize 15, out_qsize 0\n",
            "2019-09-15 07:10:39,640 : INFO : EPOCH 23 - PROGRESS: at 8.26% examples, 329910 words/s, in_qsize 15, out_qsize 0\n",
            "2019-09-15 07:10:40,641 : INFO : EPOCH 23 - PROGRESS: at 12.71% examples, 341343 words/s, in_qsize 15, out_qsize 0\n",
            "2019-09-15 07:10:41,665 : INFO : EPOCH 23 - PROGRESS: at 17.13% examples, 345097 words/s, in_qsize 15, out_qsize 0\n",
            "2019-09-15 07:10:42,672 : INFO : EPOCH 23 - PROGRESS: at 21.57% examples, 348564 words/s, in_qsize 15, out_qsize 0\n",
            "2019-09-15 07:10:43,676 : INFO : EPOCH 23 - PROGRESS: at 25.91% examples, 349634 words/s, in_qsize 16, out_qsize 1\n",
            "2019-09-15 07:10:44,681 : INFO : EPOCH 23 - PROGRESS: at 30.35% examples, 351598 words/s, in_qsize 15, out_qsize 0\n",
            "2019-09-15 07:10:45,683 : INFO : EPOCH 23 - PROGRESS: at 34.57% examples, 350988 words/s, in_qsize 15, out_qsize 0\n",
            "2019-09-15 07:10:46,738 : INFO : EPOCH 23 - PROGRESS: at 39.00% examples, 350433 words/s, in_qsize 15, out_qsize 0\n",
            "2019-09-15 07:10:47,795 : INFO : EPOCH 23 - PROGRESS: at 43.54% examples, 350800 words/s, in_qsize 15, out_qsize 0\n",
            "2019-09-15 07:10:48,833 : INFO : EPOCH 23 - PROGRESS: at 47.54% examples, 348464 words/s, in_qsize 15, out_qsize 5\n",
            "2019-09-15 07:10:49,832 : INFO : EPOCH 23 - PROGRESS: at 52.18% examples, 350689 words/s, in_qsize 14, out_qsize 1\n",
            "2019-09-15 07:10:50,839 : INFO : EPOCH 23 - PROGRESS: at 56.29% examples, 349578 words/s, in_qsize 15, out_qsize 0\n",
            "2019-09-15 07:10:51,846 : INFO : EPOCH 23 - PROGRESS: at 60.85% examples, 351127 words/s, in_qsize 15, out_qsize 0\n",
            "2019-09-15 07:10:52,930 : INFO : EPOCH 23 - PROGRESS: at 65.27% examples, 350119 words/s, in_qsize 15, out_qsize 1\n",
            "2019-09-15 07:10:53,940 : INFO : EPOCH 23 - PROGRESS: at 69.72% examples, 351024 words/s, in_qsize 12, out_qsize 4\n",
            "2019-09-15 07:10:54,937 : INFO : EPOCH 23 - PROGRESS: at 74.26% examples, 352218 words/s, in_qsize 14, out_qsize 0\n",
            "2019-09-15 07:10:55,961 : INFO : EPOCH 23 - PROGRESS: at 78.73% examples, 352481 words/s, in_qsize 16, out_qsize 0\n",
            "2019-09-15 07:10:56,981 : INFO : EPOCH 23 - PROGRESS: at 83.07% examples, 352309 words/s, in_qsize 15, out_qsize 0\n",
            "2019-09-15 07:10:58,022 : INFO : EPOCH 23 - PROGRESS: at 87.07% examples, 350478 words/s, in_qsize 14, out_qsize 1\n",
            "2019-09-15 07:10:59,049 : INFO : EPOCH 23 - PROGRESS: at 91.31% examples, 349880 words/s, in_qsize 15, out_qsize 0\n",
            "2019-09-15 07:11:00,049 : INFO : EPOCH 23 - PROGRESS: at 95.45% examples, 349363 words/s, in_qsize 14, out_qsize 1\n",
            "2019-09-15 07:11:00,884 : INFO : worker thread finished; awaiting finish of 7 more threads\n",
            "2019-09-15 07:11:00,931 : INFO : worker thread finished; awaiting finish of 6 more threads\n",
            "2019-09-15 07:11:00,972 : INFO : worker thread finished; awaiting finish of 5 more threads\n",
            "2019-09-15 07:11:00,979 : INFO : worker thread finished; awaiting finish of 4 more threads\n",
            "2019-09-15 07:11:01,018 : INFO : worker thread finished; awaiting finish of 3 more threads\n",
            "2019-09-15 07:11:01,022 : INFO : worker thread finished; awaiting finish of 2 more threads\n",
            "2019-09-15 07:11:01,036 : INFO : worker thread finished; awaiting finish of 1 more threads\n",
            "2019-09-15 07:11:01,044 : INFO : worker thread finished; awaiting finish of 0 more threads\n",
            "2019-09-15 07:11:01,045 : INFO : EPOCH - 23 : training on 9227204 raw words (8222182 effective words) took 23.5s, 350510 effective words/s\n",
            "2019-09-15 07:11:02,099 : INFO : EPOCH 24 - PROGRESS: at 3.47% examples, 274442 words/s, in_qsize 15, out_qsize 3\n",
            "2019-09-15 07:11:03,100 : INFO : EPOCH 24 - PROGRESS: at 7.82% examples, 314423 words/s, in_qsize 14, out_qsize 1\n",
            "2019-09-15 07:11:04,116 : INFO : EPOCH 24 - PROGRESS: at 11.95% examples, 320704 words/s, in_qsize 13, out_qsize 2\n",
            "2019-09-15 07:11:05,119 : INFO : EPOCH 24 - PROGRESS: at 16.48% examples, 333425 words/s, in_qsize 14, out_qsize 0\n",
            "2019-09-15 07:11:06,135 : INFO : EPOCH 24 - PROGRESS: at 20.70% examples, 335148 words/s, in_qsize 15, out_qsize 0\n",
            "2019-09-15 07:11:07,145 : INFO : EPOCH 24 - PROGRESS: at 24.83% examples, 335228 words/s, in_qsize 15, out_qsize 0\n",
            "2019-09-15 07:11:08,237 : INFO : EPOCH 24 - PROGRESS: at 29.26% examples, 335120 words/s, in_qsize 14, out_qsize 1\n",
            "2019-09-15 07:11:09,243 : INFO : EPOCH 24 - PROGRESS: at 33.59% examples, 337429 words/s, in_qsize 16, out_qsize 0\n",
            "2019-09-15 07:11:10,260 : INFO : EPOCH 24 - PROGRESS: at 38.03% examples, 340052 words/s, in_qsize 15, out_qsize 1\n",
            "2019-09-15 07:11:11,279 : INFO : EPOCH 24 - PROGRESS: at 42.35% examples, 340815 words/s, in_qsize 15, out_qsize 0\n",
            "2019-09-15 07:11:12,287 : INFO : EPOCH 24 - PROGRESS: at 46.67% examples, 341987 words/s, in_qsize 15, out_qsize 1\n",
            "2019-09-15 07:11:13,303 : INFO : EPOCH 24 - PROGRESS: at 51.32% examples, 344918 words/s, in_qsize 15, out_qsize 1\n",
            "2019-09-15 07:11:14,335 : INFO : EPOCH 24 - PROGRESS: at 55.64% examples, 344968 words/s, in_qsize 15, out_qsize 0\n",
            "2019-09-15 07:11:15,414 : INFO : EPOCH 24 - PROGRESS: at 60.52% examples, 346974 words/s, in_qsize 15, out_qsize 0\n",
            "2019-09-15 07:11:16,495 : INFO : EPOCH 24 - PROGRESS: at 64.95% examples, 346309 words/s, in_qsize 14, out_qsize 1\n",
            "2019-09-15 07:11:17,531 : INFO : EPOCH 24 - PROGRESS: at 69.50% examples, 347264 words/s, in_qsize 15, out_qsize 0\n",
            "2019-09-15 07:11:18,533 : INFO : EPOCH 24 - PROGRESS: at 73.84% examples, 347732 words/s, in_qsize 16, out_qsize 2\n",
            "2019-09-15 07:11:19,554 : INFO : EPOCH 24 - PROGRESS: at 78.18% examples, 347799 words/s, in_qsize 12, out_qsize 3\n",
            "2019-09-15 07:11:20,564 : INFO : EPOCH 24 - PROGRESS: at 82.64% examples, 348508 words/s, in_qsize 16, out_qsize 2\n",
            "2019-09-15 07:11:21,567 : INFO : EPOCH 24 - PROGRESS: at 87.07% examples, 349270 words/s, in_qsize 15, out_qsize 0\n",
            "2019-09-15 07:11:22,630 : INFO : EPOCH 24 - PROGRESS: at 91.63% examples, 349378 words/s, in_qsize 14, out_qsize 1\n",
            "2019-09-15 07:11:23,632 : INFO : EPOCH 24 - PROGRESS: at 95.88% examples, 349255 words/s, in_qsize 14, out_qsize 3\n",
            "2019-09-15 07:11:24,300 : INFO : worker thread finished; awaiting finish of 7 more threads\n",
            "2019-09-15 07:11:24,312 : INFO : worker thread finished; awaiting finish of 6 more threads\n",
            "2019-09-15 07:11:24,337 : INFO : worker thread finished; awaiting finish of 5 more threads\n",
            "2019-09-15 07:11:24,377 : INFO : worker thread finished; awaiting finish of 4 more threads\n",
            "2019-09-15 07:11:24,400 : INFO : worker thread finished; awaiting finish of 3 more threads\n",
            "2019-09-15 07:11:24,412 : INFO : worker thread finished; awaiting finish of 2 more threads\n",
            "2019-09-15 07:11:24,430 : INFO : worker thread finished; awaiting finish of 1 more threads\n",
            "2019-09-15 07:11:24,433 : INFO : worker thread finished; awaiting finish of 0 more threads\n",
            "2019-09-15 07:11:24,434 : INFO : EPOCH - 24 : training on 9227204 raw words (8223363 effective words) took 23.4s, 351805 effective words/s\n",
            "2019-09-15 07:11:25,494 : INFO : EPOCH 25 - PROGRESS: at 3.91% examples, 306767 words/s, in_qsize 15, out_qsize 0\n",
            "2019-09-15 07:11:26,511 : INFO : EPOCH 25 - PROGRESS: at 8.37% examples, 334156 words/s, in_qsize 14, out_qsize 3\n",
            "2019-09-15 07:11:27,507 : INFO : EPOCH 25 - PROGRESS: at 12.82% examples, 343899 words/s, in_qsize 15, out_qsize 0\n",
            "2019-09-15 07:11:28,524 : INFO : EPOCH 25 - PROGRESS: at 17.24% examples, 347521 words/s, in_qsize 16, out_qsize 1\n",
            "2019-09-15 07:11:29,526 : INFO : EPOCH 25 - PROGRESS: at 21.68% examples, 350953 words/s, in_qsize 15, out_qsize 0\n",
            "2019-09-15 07:11:30,563 : INFO : EPOCH 25 - PROGRESS: at 26.12% examples, 351181 words/s, in_qsize 15, out_qsize 0\n",
            "2019-09-15 07:11:31,622 : INFO : EPOCH 25 - PROGRESS: at 30.56% examples, 350414 words/s, in_qsize 15, out_qsize 1\n",
            "2019-09-15 07:11:32,652 : INFO : EPOCH 25 - PROGRESS: at 35.00% examples, 350803 words/s, in_qsize 12, out_qsize 3\n",
            "2019-09-15 07:11:33,662 : INFO : EPOCH 25 - PROGRESS: at 39.21% examples, 349993 words/s, in_qsize 12, out_qsize 3\n",
            "2019-09-15 07:11:34,698 : INFO : EPOCH 25 - PROGRESS: at 43.86% examples, 351992 words/s, in_qsize 15, out_qsize 0\n",
            "2019-09-15 07:11:35,771 : INFO : EPOCH 25 - PROGRESS: at 48.30% examples, 350886 words/s, in_qsize 12, out_qsize 3\n",
            "2019-09-15 07:11:36,786 : INFO : EPOCH 25 - PROGRESS: at 53.05% examples, 353807 words/s, in_qsize 15, out_qsize 0\n",
            "2019-09-15 07:11:37,826 : INFO : EPOCH 25 - PROGRESS: at 57.27% examples, 352289 words/s, in_qsize 16, out_qsize 0\n",
            "2019-09-15 07:11:38,862 : INFO : EPOCH 25 - PROGRESS: at 61.61% examples, 351678 words/s, in_qsize 13, out_qsize 5\n",
            "2019-09-15 07:11:39,895 : INFO : EPOCH 25 - PROGRESS: at 66.26% examples, 352946 words/s, in_qsize 15, out_qsize 0\n",
            "2019-09-15 07:11:40,901 : INFO : EPOCH 25 - PROGRESS: at 70.91% examples, 354645 words/s, in_qsize 16, out_qsize 0\n",
            "2019-09-15 07:11:41,922 : INFO : EPOCH 25 - PROGRESS: at 75.02% examples, 353296 words/s, in_qsize 15, out_qsize 0\n",
            "2019-09-15 07:11:42,959 : INFO : EPOCH 25 - PROGRESS: at 78.84% examples, 350331 words/s, in_qsize 15, out_qsize 0\n",
            "2019-09-15 07:11:43,978 : INFO : EPOCH 25 - PROGRESS: at 83.29% examples, 350759 words/s, in_qsize 15, out_qsize 0\n",
            "2019-09-15 07:11:44,987 : INFO : EPOCH 25 - PROGRESS: at 87.18% examples, 349124 words/s, in_qsize 16, out_qsize 0\n",
            "2019-09-15 07:11:46,066 : INFO : EPOCH 25 - PROGRESS: at 91.63% examples, 348578 words/s, in_qsize 12, out_qsize 3\n",
            "2019-09-15 07:11:47,079 : INFO : EPOCH 25 - PROGRESS: at 96.10% examples, 349110 words/s, in_qsize 15, out_qsize 0\n",
            "2019-09-15 07:11:47,828 : INFO : worker thread finished; awaiting finish of 7 more threads\n",
            "2019-09-15 07:11:47,854 : INFO : worker thread finished; awaiting finish of 6 more threads\n",
            "2019-09-15 07:11:47,889 : INFO : worker thread finished; awaiting finish of 5 more threads\n",
            "2019-09-15 07:11:47,911 : INFO : worker thread finished; awaiting finish of 4 more threads\n",
            "2019-09-15 07:11:47,919 : INFO : worker thread finished; awaiting finish of 3 more threads\n",
            "2019-09-15 07:11:47,923 : INFO : worker thread finished; awaiting finish of 2 more threads\n",
            "2019-09-15 07:11:47,929 : INFO : worker thread finished; awaiting finish of 1 more threads\n",
            "2019-09-15 07:11:47,932 : INFO : worker thread finished; awaiting finish of 0 more threads\n",
            "2019-09-15 07:11:47,933 : INFO : EPOCH - 25 : training on 9227204 raw words (8222413 effective words) took 23.5s, 350119 effective words/s\n",
            "2019-09-15 07:11:48,986 : INFO : EPOCH 26 - PROGRESS: at 3.69% examples, 291014 words/s, in_qsize 15, out_qsize 0\n",
            "2019-09-15 07:11:50,024 : INFO : EPOCH 26 - PROGRESS: at 8.04% examples, 317078 words/s, in_qsize 16, out_qsize 0\n",
            "2019-09-15 07:11:51,042 : INFO : EPOCH 26 - PROGRESS: at 12.17% examples, 322102 words/s, in_qsize 15, out_qsize 0\n",
            "2019-09-15 07:11:52,044 : INFO : EPOCH 26 - PROGRESS: at 16.37% examples, 327982 words/s, in_qsize 12, out_qsize 3\n",
            "2019-09-15 07:11:53,080 : INFO : EPOCH 26 - PROGRESS: at 20.92% examples, 334717 words/s, in_qsize 16, out_qsize 0\n",
            "2019-09-15 07:11:54,161 : INFO : EPOCH 26 - PROGRESS: at 24.94% examples, 329541 words/s, in_qsize 13, out_qsize 2\n",
            "2019-09-15 07:11:55,172 : INFO : EPOCH 26 - PROGRESS: at 29.05% examples, 330302 words/s, in_qsize 15, out_qsize 1\n",
            "2019-09-15 07:11:56,192 : INFO : EPOCH 26 - PROGRESS: at 33.38% examples, 332632 words/s, in_qsize 16, out_qsize 0\n",
            "2019-09-15 07:11:57,213 : INFO : EPOCH 26 - PROGRESS: at 37.59% examples, 333448 words/s, in_qsize 16, out_qsize 0\n",
            "2019-09-15 07:11:58,253 : INFO : EPOCH 26 - PROGRESS: at 41.92% examples, 334404 words/s, in_qsize 15, out_qsize 0\n",
            "2019-09-15 07:11:59,266 : INFO : EPOCH 26 - PROGRESS: at 46.24% examples, 335942 words/s, in_qsize 15, out_qsize 0\n",
            "2019-09-15 07:12:00,271 : INFO : EPOCH 26 - PROGRESS: at 50.46% examples, 336740 words/s, in_qsize 15, out_qsize 0\n",
            "2019-09-15 07:12:01,304 : INFO : EPOCH 26 - PROGRESS: at 54.14% examples, 333374 words/s, in_qsize 16, out_qsize 2\n",
            "2019-09-15 07:12:02,333 : INFO : EPOCH 26 - PROGRESS: at 58.47% examples, 334322 words/s, in_qsize 14, out_qsize 1\n",
            "2019-09-15 07:12:03,393 : INFO : EPOCH 26 - PROGRESS: at 62.79% examples, 334951 words/s, in_qsize 15, out_qsize 1\n",
            "2019-09-15 07:12:04,504 : INFO : EPOCH 26 - PROGRESS: at 67.13% examples, 333512 words/s, in_qsize 14, out_qsize 5\n",
            "2019-09-15 07:12:05,517 : INFO : EPOCH 26 - PROGRESS: at 71.45% examples, 334582 words/s, in_qsize 16, out_qsize 0\n",
            "2019-09-15 07:12:06,612 : INFO : EPOCH 26 - PROGRESS: at 76.11% examples, 335461 words/s, in_qsize 15, out_qsize 0\n",
            "2019-09-15 07:12:07,632 : INFO : EPOCH 26 - PROGRESS: at 80.25% examples, 335261 words/s, in_qsize 15, out_qsize 0\n",
            "2019-09-15 07:12:08,670 : INFO : EPOCH 26 - PROGRESS: at 84.69% examples, 336097 words/s, in_qsize 14, out_qsize 2\n",
            "2019-09-15 07:12:09,740 : INFO : EPOCH 26 - PROGRESS: at 89.02% examples, 335937 words/s, in_qsize 15, out_qsize 0\n",
            "2019-09-15 07:12:10,878 : INFO : EPOCH 26 - PROGRESS: at 93.48% examples, 335170 words/s, in_qsize 16, out_qsize 0\n",
            "2019-09-15 07:12:11,885 : INFO : EPOCH 26 - PROGRESS: at 97.93% examples, 336316 words/s, in_qsize 16, out_qsize 2\n",
            "2019-09-15 07:12:12,163 : INFO : worker thread finished; awaiting finish of 7 more threads\n",
            "2019-09-15 07:12:12,181 : INFO : worker thread finished; awaiting finish of 6 more threads\n",
            "2019-09-15 07:12:12,227 : INFO : worker thread finished; awaiting finish of 5 more threads\n",
            "2019-09-15 07:12:12,240 : INFO : worker thread finished; awaiting finish of 4 more threads\n",
            "2019-09-15 07:12:12,248 : INFO : worker thread finished; awaiting finish of 3 more threads\n",
            "2019-09-15 07:12:12,273 : INFO : worker thread finished; awaiting finish of 2 more threads\n",
            "2019-09-15 07:12:12,279 : INFO : worker thread finished; awaiting finish of 1 more threads\n",
            "2019-09-15 07:12:12,280 : INFO : worker thread finished; awaiting finish of 0 more threads\n",
            "2019-09-15 07:12:12,281 : INFO : EPOCH - 26 : training on 9227204 raw words (8221901 effective words) took 24.3s, 337846 effective words/s\n",
            "2019-09-15 07:12:13,372 : INFO : EPOCH 27 - PROGRESS: at 3.69% examples, 282330 words/s, in_qsize 15, out_qsize 1\n",
            "2019-09-15 07:12:14,465 : INFO : EPOCH 27 - PROGRESS: at 8.15% examples, 308005 words/s, in_qsize 15, out_qsize 0\n",
            "2019-09-15 07:12:15,534 : INFO : EPOCH 27 - PROGRESS: at 12.71% examples, 321949 words/s, in_qsize 13, out_qsize 2\n",
            "2019-09-15 07:12:16,569 : INFO : EPOCH 27 - PROGRESS: at 17.02% examples, 327289 words/s, in_qsize 13, out_qsize 2\n",
            "2019-09-15 07:12:17,595 : INFO : EPOCH 27 - PROGRESS: at 21.35% examples, 331181 words/s, in_qsize 15, out_qsize 0\n",
            "2019-09-15 07:12:18,641 : INFO : EPOCH 27 - PROGRESS: at 25.69% examples, 332795 words/s, in_qsize 16, out_qsize 1\n",
            "2019-09-15 07:12:19,646 : INFO : EPOCH 27 - PROGRESS: at 29.80% examples, 333380 words/s, in_qsize 15, out_qsize 0\n",
            "2019-09-15 07:12:20,688 : INFO : EPOCH 27 - PROGRESS: at 34.03% examples, 333395 words/s, in_qsize 15, out_qsize 0\n",
            "2019-09-15 07:12:21,711 : INFO : EPOCH 27 - PROGRESS: at 38.35% examples, 335042 words/s, in_qsize 15, out_qsize 0\n",
            "2019-09-15 07:12:22,746 : INFO : EPOCH 27 - PROGRESS: at 42.46% examples, 334208 words/s, in_qsize 16, out_qsize 0\n",
            "2019-09-15 07:12:23,762 : INFO : EPOCH 27 - PROGRESS: at 46.57% examples, 334128 words/s, in_qsize 15, out_qsize 0\n",
            "2019-09-15 07:12:24,809 : INFO : EPOCH 27 - PROGRESS: at 50.78% examples, 333937 words/s, in_qsize 14, out_qsize 1\n",
            "2019-09-15 07:12:25,840 : INFO : EPOCH 27 - PROGRESS: at 55.32% examples, 336160 words/s, in_qsize 15, out_qsize 0\n",
            "2019-09-15 07:12:26,939 : INFO : EPOCH 27 - PROGRESS: at 59.66% examples, 335261 words/s, in_qsize 15, out_qsize 0\n",
            "2019-09-15 07:12:27,995 : INFO : EPOCH 27 - PROGRESS: at 64.08% examples, 335978 words/s, in_qsize 15, out_qsize 0\n",
            "2019-09-15 07:12:29,066 : INFO : EPOCH 27 - PROGRESS: at 68.42% examples, 335769 words/s, in_qsize 15, out_qsize 0\n",
            "2019-09-15 07:12:30,158 : INFO : EPOCH 27 - PROGRESS: at 72.86% examples, 335675 words/s, in_qsize 15, out_qsize 0\n",
            "2019-09-15 07:12:31,214 : INFO : EPOCH 27 - PROGRESS: at 77.20% examples, 335769 words/s, in_qsize 15, out_qsize 0\n",
            "2019-09-15 07:12:32,247 : INFO : EPOCH 27 - PROGRESS: at 81.45% examples, 335805 words/s, in_qsize 15, out_qsize 1\n",
            "2019-09-15 07:12:33,257 : INFO : EPOCH 27 - PROGRESS: at 85.77% examples, 336615 words/s, in_qsize 15, out_qsize 0\n",
            "2019-09-15 07:12:34,286 : INFO : EPOCH 27 - PROGRESS: at 89.78% examples, 336023 words/s, in_qsize 15, out_qsize 2\n",
            "2019-09-15 07:12:35,284 : INFO : EPOCH 27 - PROGRESS: at 94.36% examples, 337527 words/s, in_qsize 15, out_qsize 0\n",
            "2019-09-15 07:12:36,290 : INFO : EPOCH 27 - PROGRESS: at 98.47% examples, 337480 words/s, in_qsize 15, out_qsize 0\n",
            "2019-09-15 07:12:36,466 : INFO : worker thread finished; awaiting finish of 7 more threads\n",
            "2019-09-15 07:12:36,488 : INFO : worker thread finished; awaiting finish of 6 more threads\n",
            "2019-09-15 07:12:36,511 : INFO : worker thread finished; awaiting finish of 5 more threads\n",
            "2019-09-15 07:12:36,514 : INFO : worker thread finished; awaiting finish of 4 more threads\n",
            "2019-09-15 07:12:36,550 : INFO : worker thread finished; awaiting finish of 3 more threads\n",
            "2019-09-15 07:12:36,568 : INFO : worker thread finished; awaiting finish of 2 more threads\n",
            "2019-09-15 07:12:36,585 : INFO : worker thread finished; awaiting finish of 1 more threads\n",
            "2019-09-15 07:12:36,589 : INFO : worker thread finished; awaiting finish of 0 more threads\n",
            "2019-09-15 07:12:36,591 : INFO : EPOCH - 27 : training on 9227204 raw words (8222992 effective words) took 24.3s, 338469 effective words/s\n",
            "2019-09-15 07:12:37,610 : INFO : EPOCH 28 - PROGRESS: at 3.69% examples, 302513 words/s, in_qsize 15, out_qsize 1\n",
            "2019-09-15 07:12:38,634 : INFO : EPOCH 28 - PROGRESS: at 7.93% examples, 324475 words/s, in_qsize 15, out_qsize 1\n",
            "2019-09-15 07:12:39,627 : INFO : EPOCH 28 - PROGRESS: at 12.17% examples, 330581 words/s, in_qsize 15, out_qsize 0\n",
            "2019-09-15 07:12:40,630 : INFO : EPOCH 28 - PROGRESS: at 16.16% examples, 330018 words/s, in_qsize 15, out_qsize 0\n",
            "2019-09-15 07:12:41,655 : INFO : EPOCH 28 - PROGRESS: at 20.16% examples, 328275 words/s, in_qsize 14, out_qsize 1\n",
            "2019-09-15 07:12:42,683 : INFO : EPOCH 28 - PROGRESS: at 24.29% examples, 328525 words/s, in_qsize 14, out_qsize 1\n",
            "2019-09-15 07:12:43,707 : INFO : EPOCH 28 - PROGRESS: at 28.61% examples, 331342 words/s, in_qsize 13, out_qsize 2\n",
            "2019-09-15 07:12:44,727 : INFO : EPOCH 28 - PROGRESS: at 32.84% examples, 332528 words/s, in_qsize 14, out_qsize 1\n",
            "2019-09-15 07:12:45,773 : INFO : EPOCH 28 - PROGRESS: at 37.16% examples, 333439 words/s, in_qsize 15, out_qsize 0\n",
            "2019-09-15 07:12:46,782 : INFO : EPOCH 28 - PROGRESS: at 41.26% examples, 333628 words/s, in_qsize 14, out_qsize 1\n",
            "2019-09-15 07:12:47,798 : INFO : EPOCH 28 - PROGRESS: at 45.48% examples, 334393 words/s, in_qsize 15, out_qsize 0\n",
            "2019-09-15 07:12:48,859 : INFO : EPOCH 28 - PROGRESS: at 49.81% examples, 334505 words/s, in_qsize 15, out_qsize 0\n",
            "2019-09-15 07:12:49,933 : INFO : EPOCH 28 - PROGRESS: at 54.14% examples, 334299 words/s, in_qsize 14, out_qsize 1\n",
            "2019-09-15 07:12:50,953 : INFO : EPOCH 28 - PROGRESS: at 58.47% examples, 335378 words/s, in_qsize 15, out_qsize 0\n",
            "2019-09-15 07:12:51,957 : INFO : EPOCH 28 - PROGRESS: at 62.79% examples, 336675 words/s, in_qsize 15, out_qsize 0\n",
            "2019-09-15 07:12:52,983 : INFO : EPOCH 28 - PROGRESS: at 67.02% examples, 336789 words/s, in_qsize 15, out_qsize 0\n",
            "2019-09-15 07:12:53,988 : INFO : EPOCH 28 - PROGRESS: at 71.13% examples, 336779 words/s, in_qsize 14, out_qsize 0\n",
            "2019-09-15 07:12:55,121 : INFO : EPOCH 28 - PROGRESS: at 75.46% examples, 335421 words/s, in_qsize 15, out_qsize 0\n",
            "2019-09-15 07:12:56,219 : INFO : EPOCH 28 - PROGRESS: at 79.92% examples, 335249 words/s, in_qsize 14, out_qsize 1\n",
            "2019-09-15 07:12:57,248 : INFO : EPOCH 28 - PROGRESS: at 84.15% examples, 335375 words/s, in_qsize 15, out_qsize 0\n",
            "2019-09-15 07:12:58,286 : INFO : EPOCH 28 - PROGRESS: at 88.48% examples, 335750 words/s, in_qsize 15, out_qsize 0\n",
            "2019-09-15 07:12:59,310 : INFO : EPOCH 28 - PROGRESS: at 92.94% examples, 336674 words/s, in_qsize 14, out_qsize 1\n",
            "2019-09-15 07:13:00,338 : INFO : EPOCH 28 - PROGRESS: at 97.07% examples, 336341 words/s, in_qsize 15, out_qsize 0\n",
            "2019-09-15 07:13:00,905 : INFO : worker thread finished; awaiting finish of 7 more threads\n",
            "2019-09-15 07:13:00,908 : INFO : worker thread finished; awaiting finish of 6 more threads\n",
            "2019-09-15 07:13:00,911 : INFO : worker thread finished; awaiting finish of 5 more threads\n",
            "2019-09-15 07:13:00,913 : INFO : worker thread finished; awaiting finish of 4 more threads\n",
            "2019-09-15 07:13:00,926 : INFO : worker thread finished; awaiting finish of 3 more threads\n",
            "2019-09-15 07:13:00,928 : INFO : worker thread finished; awaiting finish of 2 more threads\n",
            "2019-09-15 07:13:00,933 : INFO : worker thread finished; awaiting finish of 1 more threads\n",
            "2019-09-15 07:13:00,960 : INFO : worker thread finished; awaiting finish of 0 more threads\n",
            "2019-09-15 07:13:00,961 : INFO : EPOCH - 28 : training on 9227204 raw words (8223050 effective words) took 24.4s, 337664 effective words/s\n",
            "2019-09-15 07:13:01,994 : INFO : EPOCH 29 - PROGRESS: at 3.69% examples, 296511 words/s, in_qsize 15, out_qsize 0\n",
            "2019-09-15 07:13:03,077 : INFO : EPOCH 29 - PROGRESS: at 8.04% examples, 313109 words/s, in_qsize 15, out_qsize 0\n",
            "2019-09-15 07:13:04,097 : INFO : EPOCH 29 - PROGRESS: at 12.28% examples, 322165 words/s, in_qsize 15, out_qsize 0\n",
            "2019-09-15 07:13:05,110 : INFO : EPOCH 29 - PROGRESS: at 16.48% examples, 327191 words/s, in_qsize 12, out_qsize 2\n",
            "2019-09-15 07:13:06,126 : INFO : EPOCH 29 - PROGRESS: at 20.60% examples, 328383 words/s, in_qsize 15, out_qsize 0\n",
            "2019-09-15 07:13:07,135 : INFO : EPOCH 29 - PROGRESS: at 24.94% examples, 332464 words/s, in_qsize 15, out_qsize 0\n",
            "2019-09-15 07:13:08,141 : INFO : EPOCH 29 - PROGRESS: at 28.94% examples, 331783 words/s, in_qsize 15, out_qsize 0\n",
            "2019-09-15 07:13:09,203 : INFO : EPOCH 29 - PROGRESS: at 33.27% examples, 332245 words/s, in_qsize 15, out_qsize 0\n",
            "2019-09-15 07:13:10,244 : INFO : EPOCH 29 - PROGRESS: at 37.59% examples, 333363 words/s, in_qsize 15, out_qsize 0\n",
            "2019-09-15 07:13:11,267 : INFO : EPOCH 29 - PROGRESS: at 41.81% examples, 333989 words/s, in_qsize 15, out_qsize 0\n",
            "2019-09-15 07:13:12,267 : INFO : EPOCH 29 - PROGRESS: at 46.02% examples, 335162 words/s, in_qsize 15, out_qsize 0\n",
            "2019-09-15 07:13:13,318 : INFO : EPOCH 29 - PROGRESS: at 50.13% examples, 334069 words/s, in_qsize 13, out_qsize 2\n",
            "2019-09-15 07:13:14,380 : INFO : EPOCH 29 - PROGRESS: at 54.56% examples, 334863 words/s, in_qsize 16, out_qsize 0\n",
            "2019-09-15 07:13:15,450 : INFO : EPOCH 29 - PROGRESS: at 58.79% examples, 334126 words/s, in_qsize 15, out_qsize 0\n",
            "2019-09-15 07:13:16,452 : INFO : EPOCH 29 - PROGRESS: at 63.00% examples, 334946 words/s, in_qsize 15, out_qsize 0\n",
            "2019-09-15 07:13:17,488 : INFO : EPOCH 29 - PROGRESS: at 67.24% examples, 334964 words/s, in_qsize 16, out_qsize 0\n",
            "2019-09-15 07:13:18,560 : INFO : EPOCH 29 - PROGRESS: at 71.67% examples, 335316 words/s, in_qsize 15, out_qsize 0\n",
            "2019-09-15 07:13:19,562 : INFO : EPOCH 29 - PROGRESS: at 75.57% examples, 334464 words/s, in_qsize 14, out_qsize 4\n",
            "2019-09-15 07:13:20,574 : INFO : EPOCH 29 - PROGRESS: at 79.92% examples, 335367 words/s, in_qsize 14, out_qsize 1\n",
            "2019-09-15 07:13:21,660 : INFO : EPOCH 29 - PROGRESS: at 84.15% examples, 334564 words/s, in_qsize 15, out_qsize 0\n",
            "2019-09-15 07:13:22,683 : INFO : EPOCH 29 - PROGRESS: at 88.37% examples, 334780 words/s, in_qsize 15, out_qsize 2\n",
            "2019-09-15 07:13:23,699 : INFO : EPOCH 29 - PROGRESS: at 92.61% examples, 335075 words/s, in_qsize 15, out_qsize 1\n",
            "2019-09-15 07:13:24,765 : INFO : EPOCH 29 - PROGRESS: at 97.07% examples, 335408 words/s, in_qsize 15, out_qsize 0\n",
            "2019-09-15 07:13:25,285 : INFO : worker thread finished; awaiting finish of 7 more threads\n",
            "2019-09-15 07:13:25,291 : INFO : worker thread finished; awaiting finish of 6 more threads\n",
            "2019-09-15 07:13:25,310 : INFO : worker thread finished; awaiting finish of 5 more threads\n",
            "2019-09-15 07:13:25,325 : INFO : worker thread finished; awaiting finish of 4 more threads\n",
            "2019-09-15 07:13:25,331 : INFO : worker thread finished; awaiting finish of 3 more threads\n",
            "2019-09-15 07:13:25,351 : INFO : worker thread finished; awaiting finish of 2 more threads\n",
            "2019-09-15 07:13:25,365 : INFO : worker thread finished; awaiting finish of 1 more threads\n",
            "2019-09-15 07:13:25,383 : INFO : worker thread finished; awaiting finish of 0 more threads\n",
            "2019-09-15 07:13:25,384 : INFO : EPOCH - 29 : training on 9227204 raw words (8221967 effective words) took 24.4s, 336806 effective words/s\n",
            "2019-09-15 07:13:26,408 : INFO : EPOCH 30 - PROGRESS: at 3.58% examples, 291235 words/s, in_qsize 15, out_qsize 0\n",
            "2019-09-15 07:13:27,435 : INFO : EPOCH 30 - PROGRESS: at 7.71% examples, 310403 words/s, in_qsize 13, out_qsize 2\n",
            "2019-09-15 07:13:28,466 : INFO : EPOCH 30 - PROGRESS: at 12.17% examples, 325210 words/s, in_qsize 15, out_qsize 1\n",
            "2019-09-15 07:13:29,480 : INFO : EPOCH 30 - PROGRESS: at 16.16% examples, 325077 words/s, in_qsize 14, out_qsize 1\n",
            "2019-09-15 07:13:30,494 : INFO : EPOCH 30 - PROGRESS: at 20.38% examples, 328534 words/s, in_qsize 16, out_qsize 0\n",
            "2019-09-15 07:13:31,511 : INFO : EPOCH 30 - PROGRESS: at 24.61% examples, 331068 words/s, in_qsize 15, out_qsize 2\n",
            "2019-09-15 07:13:32,516 : INFO : EPOCH 30 - PROGRESS: at 28.72% examples, 331627 words/s, in_qsize 15, out_qsize 0\n",
            "2019-09-15 07:13:33,535 : INFO : EPOCH 30 - PROGRESS: at 32.73% examples, 330601 words/s, in_qsize 15, out_qsize 0\n",
            "2019-09-15 07:13:34,574 : INFO : EPOCH 30 - PROGRESS: at 36.94% examples, 331557 words/s, in_qsize 15, out_qsize 2\n",
            "2019-09-15 07:13:35,565 : INFO : EPOCH 30 - PROGRESS: at 41.26% examples, 333795 words/s, in_qsize 15, out_qsize 0\n",
            "2019-09-15 07:13:36,604 : INFO : EPOCH 30 - PROGRESS: at 45.26% examples, 332248 words/s, in_qsize 15, out_qsize 0\n",
            "2019-09-15 07:13:37,666 : INFO : EPOCH 30 - PROGRESS: at 49.49% examples, 331829 words/s, in_qsize 14, out_qsize 1\n",
            "2019-09-15 07:13:38,685 : INFO : EPOCH 30 - PROGRESS: at 53.70% examples, 332531 words/s, in_qsize 15, out_qsize 0\n",
            "2019-09-15 07:13:39,696 : INFO : EPOCH 30 - PROGRESS: at 57.92% examples, 333342 words/s, in_qsize 15, out_qsize 0\n",
            "2019-09-15 07:13:40,776 : INFO : EPOCH 30 - PROGRESS: at 62.03% examples, 331947 words/s, in_qsize 15, out_qsize 0\n",
            "2019-09-15 07:13:41,799 : INFO : EPOCH 30 - PROGRESS: at 66.26% examples, 332417 words/s, in_qsize 13, out_qsize 2\n",
            "2019-09-15 07:13:42,813 : INFO : EPOCH 30 - PROGRESS: at 70.59% examples, 333519 words/s, in_qsize 15, out_qsize 0\n",
            "2019-09-15 07:13:43,858 : INFO : EPOCH 30 - PROGRESS: at 74.59% examples, 332483 words/s, in_qsize 16, out_qsize 0\n",
            "2019-09-15 07:13:44,916 : INFO : EPOCH 30 - PROGRESS: at 78.95% examples, 332711 words/s, in_qsize 14, out_qsize 1\n",
            "2019-09-15 07:13:45,968 : INFO : EPOCH 30 - PROGRESS: at 83.18% examples, 332633 words/s, in_qsize 15, out_qsize 1\n",
            "2019-09-15 07:13:47,017 : INFO : EPOCH 30 - PROGRESS: at 87.40% examples, 332603 words/s, in_qsize 15, out_qsize 2\n",
            "2019-09-15 07:13:48,016 : INFO : EPOCH 30 - PROGRESS: at 91.85% examples, 333938 words/s, in_qsize 15, out_qsize 0\n",
            "2019-09-15 07:13:49,054 : INFO : EPOCH 30 - PROGRESS: at 96.21% examples, 334348 words/s, in_qsize 14, out_qsize 1\n",
            "2019-09-15 07:13:49,781 : INFO : worker thread finished; awaiting finish of 7 more threads\n",
            "2019-09-15 07:13:49,828 : INFO : worker thread finished; awaiting finish of 6 more threads\n",
            "2019-09-15 07:13:49,861 : INFO : worker thread finished; awaiting finish of 5 more threads\n",
            "2019-09-15 07:13:49,865 : INFO : worker thread finished; awaiting finish of 4 more threads\n",
            "2019-09-15 07:13:49,883 : INFO : worker thread finished; awaiting finish of 3 more threads\n",
            "2019-09-15 07:13:49,897 : INFO : worker thread finished; awaiting finish of 2 more threads\n",
            "2019-09-15 07:13:49,905 : INFO : worker thread finished; awaiting finish of 1 more threads\n",
            "2019-09-15 07:13:49,906 : INFO : worker thread finished; awaiting finish of 0 more threads\n",
            "2019-09-15 07:13:49,909 : INFO : EPOCH - 30 : training on 9227204 raw words (8221998 effective words) took 24.5s, 335453 effective words/s\n",
            "2019-09-15 07:13:50,968 : INFO : EPOCH 31 - PROGRESS: at 3.91% examples, 306068 words/s, in_qsize 14, out_qsize 1\n",
            "2019-09-15 07:13:52,016 : INFO : EPOCH 31 - PROGRESS: at 7.93% examples, 310316 words/s, in_qsize 14, out_qsize 1\n",
            "2019-09-15 07:13:53,078 : INFO : EPOCH 31 - PROGRESS: at 12.17% examples, 316144 words/s, in_qsize 15, out_qsize 0\n",
            "2019-09-15 07:13:54,081 : INFO : EPOCH 31 - PROGRESS: at 16.59% examples, 327737 words/s, in_qsize 15, out_qsize 0\n",
            "2019-09-15 07:13:55,085 : INFO : EPOCH 31 - PROGRESS: at 20.38% examples, 324369 words/s, in_qsize 15, out_qsize 0\n",
            "2019-09-15 07:13:56,093 : INFO : EPOCH 31 - PROGRESS: at 24.50% examples, 326220 words/s, in_qsize 12, out_qsize 3\n",
            "2019-09-15 07:13:57,094 : INFO : EPOCH 31 - PROGRESS: at 28.83% examples, 330348 words/s, in_qsize 14, out_qsize 1\n",
            "2019-09-15 07:13:58,105 : INFO : EPOCH 31 - PROGRESS: at 32.84% examples, 329829 words/s, in_qsize 14, out_qsize 1\n",
            "2019-09-15 07:13:59,114 : INFO : EPOCH 31 - PROGRESS: at 37.27% examples, 333371 words/s, in_qsize 15, out_qsize 0\n",
            "2019-09-15 07:14:00,123 : INFO : EPOCH 31 - PROGRESS: at 41.05% examples, 330947 words/s, in_qsize 14, out_qsize 1\n",
            "2019-09-15 07:14:01,126 : INFO : EPOCH 31 - PROGRESS: at 45.16% examples, 331520 words/s, in_qsize 15, out_qsize 0\n",
            "2019-09-15 07:14:02,174 : INFO : EPOCH 31 - PROGRESS: at 49.38% examples, 331521 words/s, in_qsize 14, out_qsize 1\n",
            "2019-09-15 07:14:03,240 : INFO : EPOCH 31 - PROGRESS: at 53.48% examples, 330442 words/s, in_qsize 15, out_qsize 0\n",
            "2019-09-15 07:14:04,265 : INFO : EPOCH 31 - PROGRESS: at 58.26% examples, 334146 words/s, in_qsize 15, out_qsize 0\n",
            "2019-09-15 07:14:05,337 : INFO : EPOCH 31 - PROGRESS: at 62.46% examples, 333439 words/s, in_qsize 16, out_qsize 1\n",
            "2019-09-15 07:14:06,344 : INFO : EPOCH 31 - PROGRESS: at 66.26% examples, 331981 words/s, in_qsize 15, out_qsize 0\n",
            "2019-09-15 07:14:07,370 : INFO : EPOCH 31 - PROGRESS: at 70.48% examples, 332353 words/s, in_qsize 12, out_qsize 3\n",
            "2019-09-15 07:14:08,391 : INFO : EPOCH 31 - PROGRESS: at 74.69% examples, 332805 words/s, in_qsize 11, out_qsize 4\n",
            "2019-09-15 07:14:09,407 : INFO : EPOCH 31 - PROGRESS: at 78.84% examples, 333072 words/s, in_qsize 15, out_qsize 1\n",
            "2019-09-15 07:14:10,416 : INFO : EPOCH 31 - PROGRESS: at 83.07% examples, 333379 words/s, in_qsize 15, out_qsize 0\n",
            "2019-09-15 07:14:11,422 : INFO : EPOCH 31 - PROGRESS: at 87.29% examples, 333915 words/s, in_qsize 15, out_qsize 0\n",
            "2019-09-15 07:14:12,489 : INFO : EPOCH 31 - PROGRESS: at 91.63% examples, 333903 words/s, in_qsize 15, out_qsize 0\n",
            "2019-09-15 07:14:13,530 : INFO : EPOCH 31 - PROGRESS: at 95.99% examples, 334263 words/s, in_qsize 15, out_qsize 0\n",
            "2019-09-15 07:14:14,267 : INFO : worker thread finished; awaiting finish of 7 more threads\n",
            "2019-09-15 07:14:14,306 : INFO : worker thread finished; awaiting finish of 6 more threads\n",
            "2019-09-15 07:14:14,308 : INFO : worker thread finished; awaiting finish of 5 more threads\n",
            "2019-09-15 07:14:14,313 : INFO : worker thread finished; awaiting finish of 4 more threads\n",
            "2019-09-15 07:14:14,351 : INFO : worker thread finished; awaiting finish of 3 more threads\n",
            "2019-09-15 07:14:14,362 : INFO : worker thread finished; awaiting finish of 2 more threads\n",
            "2019-09-15 07:14:14,378 : INFO : worker thread finished; awaiting finish of 1 more threads\n",
            "2019-09-15 07:14:14,383 : INFO : worker thread finished; awaiting finish of 0 more threads\n",
            "2019-09-15 07:14:14,384 : INFO : EPOCH - 31 : training on 9227204 raw words (8222194 effective words) took 24.5s, 336113 effective words/s\n",
            "2019-09-15 07:14:15,407 : INFO : EPOCH 32 - PROGRESS: at 4.02% examples, 327569 words/s, in_qsize 13, out_qsize 1\n",
            "2019-09-15 07:14:16,440 : INFO : EPOCH 32 - PROGRESS: at 7.82% examples, 314530 words/s, in_qsize 12, out_qsize 3\n",
            "2019-09-15 07:14:17,447 : INFO : EPOCH 32 - PROGRESS: at 12.28% examples, 330553 words/s, in_qsize 15, out_qsize 0\n",
            "2019-09-15 07:14:18,529 : INFO : EPOCH 32 - PROGRESS: at 16.59% examples, 330171 words/s, in_qsize 14, out_qsize 1\n",
            "2019-09-15 07:14:19,548 : INFO : EPOCH 32 - PROGRESS: at 21.14% examples, 337497 words/s, in_qsize 14, out_qsize 0\n",
            "2019-09-15 07:14:20,574 : INFO : EPOCH 32 - PROGRESS: at 24.83% examples, 331824 words/s, in_qsize 15, out_qsize 4\n",
            "2019-09-15 07:14:21,556 : INFO : EPOCH 32 - PROGRESS: at 29.37% examples, 337451 words/s, in_qsize 15, out_qsize 0\n",
            "2019-09-15 07:14:22,561 : INFO : EPOCH 32 - PROGRESS: at 32.94% examples, 331935 words/s, in_qsize 16, out_qsize 1\n",
            "2019-09-15 07:14:23,582 : INFO : EPOCH 32 - PROGRESS: at 37.37% examples, 334807 words/s, in_qsize 16, out_qsize 0\n",
            "2019-09-15 07:14:24,690 : INFO : EPOCH 32 - PROGRESS: at 41.80% examples, 334264 words/s, in_qsize 15, out_qsize 0\n",
            "2019-09-15 07:14:25,716 : INFO : EPOCH 32 - PROGRESS: at 46.24% examples, 336214 words/s, in_qsize 14, out_qsize 2\n",
            "2019-09-15 07:14:26,760 : INFO : EPOCH 32 - PROGRESS: at 50.35% examples, 335245 words/s, in_qsize 15, out_qsize 0\n",
            "2019-09-15 07:14:27,760 : INFO : EPOCH 32 - PROGRESS: at 54.78% examples, 337495 words/s, in_qsize 14, out_qsize 1\n",
            "2019-09-15 07:14:28,803 : INFO : EPOCH 32 - PROGRESS: at 58.90% examples, 336590 words/s, in_qsize 16, out_qsize 1\n",
            "2019-09-15 07:14:29,895 : INFO : EPOCH 32 - PROGRESS: at 63.43% examples, 337007 words/s, in_qsize 15, out_qsize 0\n",
            "2019-09-15 07:14:30,918 : INFO : EPOCH 32 - PROGRESS: at 67.67% examples, 337145 words/s, in_qsize 14, out_qsize 1\n",
            "2019-09-15 07:14:31,945 : INFO : EPOCH 32 - PROGRESS: at 71.89% examples, 337202 words/s, in_qsize 15, out_qsize 0\n",
            "2019-09-15 07:14:33,002 : INFO : EPOCH 32 - PROGRESS: at 76.22% examples, 337187 words/s, in_qsize 15, out_qsize 0\n",
            "2019-09-15 07:14:34,071 : INFO : EPOCH 32 - PROGRESS: at 80.79% examples, 337867 words/s, in_qsize 15, out_qsize 0\n",
            "2019-09-15 07:14:35,079 : INFO : EPOCH 32 - PROGRESS: at 85.02% examples, 338195 words/s, in_qsize 15, out_qsize 0\n",
            "2019-09-15 07:14:36,189 : INFO : EPOCH 32 - PROGRESS: at 89.45% examples, 337728 words/s, in_qsize 15, out_qsize 0\n",
            "2019-09-15 07:14:37,195 : INFO : EPOCH 32 - PROGRESS: at 93.70% examples, 338051 words/s, in_qsize 15, out_qsize 0\n",
            "2019-09-15 07:14:38,232 : INFO : EPOCH 32 - PROGRESS: at 98.04% examples, 338288 words/s, in_qsize 15, out_qsize 0\n",
            "2019-09-15 07:14:38,527 : INFO : worker thread finished; awaiting finish of 7 more threads\n",
            "2019-09-15 07:14:38,536 : INFO : worker thread finished; awaiting finish of 6 more threads\n",
            "2019-09-15 07:14:38,549 : INFO : worker thread finished; awaiting finish of 5 more threads\n",
            "2019-09-15 07:14:38,556 : INFO : worker thread finished; awaiting finish of 4 more threads\n",
            "2019-09-15 07:14:38,560 : INFO : worker thread finished; awaiting finish of 3 more threads\n",
            "2019-09-15 07:14:38,588 : INFO : worker thread finished; awaiting finish of 2 more threads\n",
            "2019-09-15 07:14:38,597 : INFO : worker thread finished; awaiting finish of 1 more threads\n",
            "2019-09-15 07:14:38,609 : INFO : worker thread finished; awaiting finish of 0 more threads\n",
            "2019-09-15 07:14:38,610 : INFO : EPOCH - 32 : training on 9227204 raw words (8223669 effective words) took 24.2s, 339681 effective words/s\n",
            "2019-09-15 07:14:38,612 : INFO : training on a 295270528 raw words (263127043 effective words) took 750.6s, 350551 effective words/s\n"
          ],
          "name": "stderr"
        },
        {
          "output_type": "stream",
          "text": [
            "CPU times: user 24min 20s, sys: 4.95 s, total: 24min 25s\n",
            "Wall time: 12min 30s\n"
          ],
          "name": "stdout"
        },
        {
          "output_type": "execute_result",
          "data": {
            "text/plain": [
              "(263127043, 295270528)"
            ]
          },
          "metadata": {
            "tags": []
          },
          "execution_count": 19
        }
      ]
    },
    {
      "cell_type": "code",
      "metadata": {
        "id": "KwgFvmWKupxC",
        "colab_type": "code",
        "outputId": "08a059a9-d36c-4849-9119-e83037ed362b",
        "colab": {
          "base_uri": "https://localhost:8080/",
          "height": 263
        }
      },
      "source": [
        "w2v_model.most_similar(\"love\")"
      ],
      "execution_count": 0,
      "outputs": [
        {
          "output_type": "stream",
          "text": [
            "/usr/local/lib/python3.6/dist-packages/ipykernel_launcher.py:1: DeprecationWarning: Call to deprecated `most_similar` (Method will be removed in 4.0.0, use self.wv.most_similar() instead).\n",
            "  \"\"\"Entry point for launching an IPython kernel.\n",
            "2019-09-15 07:16:16,859 : INFO : precomputing L2-norms of word weight vectors\n"
          ],
          "name": "stderr"
        },
        {
          "output_type": "execute_result",
          "data": {
            "text/plain": [
              "[('luv', 0.5715070962905884),\n",
              " ('loves', 0.5545152425765991),\n",
              " ('loved', 0.5482584238052368),\n",
              " ('amazing', 0.5128120183944702),\n",
              " ('adore', 0.4985947608947754),\n",
              " ('looove', 0.486950546503067),\n",
              " ('lovee', 0.4678725302219391),\n",
              " ('awesome', 0.454730361700058),\n",
              " ('loooove', 0.4387950897216797),\n",
              " ('loveee', 0.4365871250629425)]"
            ]
          },
          "metadata": {
            "tags": []
          },
          "execution_count": 20
        }
      ]
    },
    {
      "cell_type": "code",
      "metadata": {
        "id": "8Hutp0emu1zx",
        "colab_type": "code",
        "outputId": "dfece035-5eb9-47dd-fcd1-0ca4ccd3c9e2",
        "colab": {
          "base_uri": "https://localhost:8080/",
          "height": 69
        }
      },
      "source": [
        "%%time\n",
        "tokenizer = Tokenizer()\n",
        "tokenizer.fit_on_texts(df_train.text)\n",
        "\n",
        "vocab_size = len(tokenizer.word_index) + 1\n",
        "print(\"Total words\", vocab_size)\n"
      ],
      "execution_count": 0,
      "outputs": [
        {
          "output_type": "stream",
          "text": [
            "Total words 290419\n",
            "CPU times: user 22.8 s, sys: 104 ms, total: 22.9 s\n",
            "Wall time: 23 s\n"
          ],
          "name": "stdout"
        }
      ]
    },
    {
      "cell_type": "code",
      "metadata": {
        "id": "tdreflcl1oOk",
        "colab_type": "code",
        "colab": {}
      },
      "source": [
        "import pickle\n",
        "\n",
        "# saving\n",
        "with open('tokenizer.pickle', 'wb') as handle:\n",
        "    pickle.dump(tokenizer, handle, protocol=pickle.HIGHEST_PROTOCOL)\n",
        "\n",
        "# loading\n",
        "with open('tokenizer.pickle', 'rb') as handle:\n",
        "    tokenizer = pickle.load(handle)"
      ],
      "execution_count": 0,
      "outputs": []
    },
    {
      "cell_type": "code",
      "metadata": {
        "id": "0rU5bwz4u41H",
        "colab_type": "code",
        "outputId": "b20d6c17-888d-40c0-9b0e-ccddd5c01db1",
        "colab": {
          "base_uri": "https://localhost:8080/",
          "height": 52
        }
      },
      "source": [
        "%%time\n",
        "x_train = pad_sequences(tokenizer.texts_to_sequences(df_train.text), maxlen=SEQUENCE_LENGTH)\n",
        "x_test = pad_sequences(tokenizer.texts_to_sequences(df_test.text), maxlen=SEQUENCE_LENGTH)"
      ],
      "execution_count": 0,
      "outputs": [
        {
          "output_type": "stream",
          "text": [
            "CPU times: user 32.3 s, sys: 624 ms, total: 32.9 s\n",
            "Wall time: 33 s\n"
          ],
          "name": "stdout"
        }
      ]
    },
    {
      "cell_type": "code",
      "metadata": {
        "id": "a0SD1Tnku7bp",
        "colab_type": "code",
        "outputId": "7177918e-c6ea-4e7f-e0e0-19f3da5b1ece",
        "colab": {
          "base_uri": "https://localhost:8080/",
          "height": 34
        }
      },
      "source": [
        "labels = df_train.target.unique().tolist()\n",
        "labels.append(NEUTRAL)\n",
        "labels"
      ],
      "execution_count": 0,
      "outputs": [
        {
          "output_type": "execute_result",
          "data": {
            "text/plain": [
              "['POSITIVE', 'NEGATIVE', 'NEUTRAL']"
            ]
          },
          "metadata": {
            "tags": []
          },
          "execution_count": 23
        }
      ]
    },
    {
      "cell_type": "code",
      "metadata": {
        "id": "mMCYXwM6u9zv",
        "colab_type": "code",
        "outputId": "d2b99dc2-ccb2-448b-e025-ec748057605d",
        "colab": {
          "base_uri": "https://localhost:8080/",
          "height": 52
        }
      },
      "source": [
        "encoder = LabelEncoder()\n",
        "encoder.fit(df_train.target.tolist())\n",
        "\n",
        "y_train = encoder.transform(df_train.target.tolist())\n",
        "y_test = encoder.transform(df_test.target.tolist())\n",
        "\n",
        "y_train = y_train.reshape(-1,1)\n",
        "y_test = y_test.reshape(-1,1)\n",
        "\n",
        "print(\"y_train\",y_train.shape)\n",
        "print(\"y_test\",y_test.shape)"
      ],
      "execution_count": 0,
      "outputs": [
        {
          "output_type": "stream",
          "text": [
            "y_train (1280000, 1)\n",
            "y_test (320000, 1)\n"
          ],
          "name": "stdout"
        }
      ]
    },
    {
      "cell_type": "code",
      "metadata": {
        "id": "dpDeD7gRu-uy",
        "colab_type": "code",
        "outputId": "27b8c4fd-e7f4-4b07-d28d-b531310dfc1c",
        "colab": {
          "base_uri": "https://localhost:8080/",
          "height": 104
        }
      },
      "source": [
        "print(\"x_train\", x_train.shape)\n",
        "print(\"y_train\", y_train.shape)\n",
        "print()\n",
        "print(\"x_test\", x_test.shape)\n",
        "print(\"y_test\", y_test.shape)"
      ],
      "execution_count": 0,
      "outputs": [
        {
          "output_type": "stream",
          "text": [
            "x_train (1280000, 300)\n",
            "y_train (1280000, 1)\n",
            "\n",
            "x_test (320000, 300)\n",
            "y_test (320000, 1)\n"
          ],
          "name": "stdout"
        }
      ]
    },
    {
      "cell_type": "code",
      "metadata": {
        "id": "FCgxJxKVvC0q",
        "colab_type": "code",
        "outputId": "21f8b679-521c-41b2-b3de-53fe85b6b627",
        "colab": {
          "base_uri": "https://localhost:8080/",
          "height": 191
        }
      },
      "source": [
        "y_train[:10]"
      ],
      "execution_count": 0,
      "outputs": [
        {
          "output_type": "execute_result",
          "data": {
            "text/plain": [
              "array([[1],\n",
              "       [1],\n",
              "       [1],\n",
              "       [0],\n",
              "       [1],\n",
              "       [1],\n",
              "       [1],\n",
              "       [1],\n",
              "       [1],\n",
              "       [1]])"
            ]
          },
          "metadata": {
            "tags": []
          },
          "execution_count": 26
        }
      ]
    },
    {
      "cell_type": "code",
      "metadata": {
        "id": "-Li_3IO3vFrg",
        "colab_type": "code",
        "outputId": "464161d0-6d61-430d-ae81-e5a82fad0809",
        "colab": {
          "base_uri": "https://localhost:8080/",
          "height": 34
        }
      },
      "source": [
        "embedding_matrix = np.zeros((vocab_size, W2V_SIZE))\n",
        "for word, i in tokenizer.word_index.items():\n",
        "  if word in w2v_model.wv:\n",
        "    embedding_matrix[i] = w2v_model.wv[word]\n",
        "print(embedding_matrix.shape)"
      ],
      "execution_count": 0,
      "outputs": [
        {
          "output_type": "stream",
          "text": [
            "(290419, 300)\n"
          ],
          "name": "stdout"
        }
      ]
    },
    {
      "cell_type": "code",
      "metadata": {
        "id": "JPQtuA1MvHy6",
        "colab_type": "code",
        "colab": {}
      },
      "source": [
        "embedding_layer = Embedding(vocab_size, W2V_SIZE, weights=[embedding_matrix], input_length=SEQUENCE_LENGTH, trainable=False)"
      ],
      "execution_count": 0,
      "outputs": []
    },
    {
      "cell_type": "code",
      "metadata": {
        "id": "j7tSaYyevI-a",
        "colab_type": "code",
        "outputId": "8cea589c-cf2c-44b4-d5e0-1ceedd469aef",
        "colab": {
          "base_uri": "https://localhost:8080/",
          "height": 295
        }
      },
      "source": [
        "model = Sequential()\n",
        "model.add(embedding_layer)\n",
        "model.add(Dropout(0.5))\n",
        "model.add(LSTM(100, dropout=0.2, recurrent_dropout=0.2))\n",
        "model.add(Dense(1, activation='sigmoid'))\n",
        "\n",
        "model.summary()"
      ],
      "execution_count": 0,
      "outputs": [
        {
          "output_type": "stream",
          "text": [
            "Model: \"sequential_3\"\n",
            "_________________________________________________________________\n",
            "Layer (type)                 Output Shape              Param #   \n",
            "=================================================================\n",
            "embedding_2 (Embedding)      (None, 300, 300)          87125700  \n",
            "_________________________________________________________________\n",
            "dropout_3 (Dropout)          (None, 300, 300)          0         \n",
            "_________________________________________________________________\n",
            "lstm_3 (LSTM)                (None, 100)               160400    \n",
            "_________________________________________________________________\n",
            "dense_3 (Dense)              (None, 1)                 101       \n",
            "=================================================================\n",
            "Total params: 87,286,201\n",
            "Trainable params: 160,501\n",
            "Non-trainable params: 87,125,700\n",
            "_________________________________________________________________\n"
          ],
          "name": "stdout"
        }
      ]
    },
    {
      "cell_type": "code",
      "metadata": {
        "id": "tymziIRRyG3Y",
        "colab_type": "code",
        "colab": {}
      },
      "source": [
        "model.compile(loss='binary_crossentropy',\n",
        "              optimizer=\"adam\",\n",
        "              metrics=['accuracy'])"
      ],
      "execution_count": 0,
      "outputs": []
    },
    {
      "cell_type": "code",
      "metadata": {
        "id": "_oPybKy1yZ3f",
        "colab_type": "code",
        "colab": {}
      },
      "source": [
        "callbacks = [ ReduceLROnPlateau(monitor='val_loss', patience=5, cooldown=0),\n",
        "              EarlyStopping(monitor='val_acc', min_delta=1e-4, patience=5)]"
      ],
      "execution_count": 0,
      "outputs": []
    },
    {
      "cell_type": "code",
      "metadata": {
        "id": "4bm0qPg0cYJv",
        "colab_type": "code",
        "colab": {}
      },
      "source": [
        "# tf.initialize_all_variables().run()"
      ],
      "execution_count": 0,
      "outputs": []
    },
    {
      "cell_type": "code",
      "metadata": {
        "id": "iv33xp1bybNX",
        "colab_type": "code",
        "outputId": "907c79bb-db72-490b-8157-79a9fcb05279",
        "colab": {
          "base_uri": "https://localhost:8080/",
          "height": 159
        }
      },
      "source": [
        "%%time\n",
        "history = model.fit(x_train, y_train,\n",
        "                    batch_size=BATCH_SIZE,\n",
        "                    epochs=2,\n",
        "                    validation_split=0.1,\n",
        "                    verbose=1,\n",
        "                    callbacks=callbacks)"
      ],
      "execution_count": 0,
      "outputs": [
        {
          "output_type": "stream",
          "text": [
            "Train on 1152000 samples, validate on 128000 samples\n",
            "Epoch 1/2\n",
            "1152000/1152000 [==============================] - 1017s 883us/step - loss: 0.5089 - acc: 0.7466 - val_loss: 0.4658 - val_acc: 0.7788\n",
            "Epoch 2/2\n",
            "1152000/1152000 [==============================] - 1012s 878us/step - loss: 0.4819 - acc: 0.7655 - val_loss: 0.4618 - val_acc: 0.7826\n",
            "CPU times: user 35min 24s, sys: 4min 59s, total: 40min 23s\n",
            "Wall time: 33min 50s\n"
          ],
          "name": "stdout"
        }
      ]
    },
    {
      "cell_type": "code",
      "metadata": {
        "id": "mbbA4JlIydk6",
        "colab_type": "code",
        "outputId": "ea5ba743-a1a8-451d-de09-472b2a7bb21d",
        "colab": {
          "base_uri": "https://localhost:8080/",
          "height": 121
        }
      },
      "source": [
        "\n",
        "\n",
        "%%time\n",
        "score = model.evaluate(x_test, y_test, batch_size=BATCH_SIZE)\n",
        "print()\n",
        "print(\"ACCURACY:\",score[1])\n",
        "print(\"LOSS:\",score[0])\n",
        "\n"
      ],
      "execution_count": 0,
      "outputs": [
        {
          "output_type": "stream",
          "text": [
            "320000/320000 [==============================] - 110s 345us/step\n",
            "\n",
            "ACCURACY: 0.78056875\n",
            "LOSS: 0.46172088150978086\n",
            "CPU times: user 1min 46s, sys: 10.5 s, total: 1min 56s\n",
            "Wall time: 1min 50s\n"
          ],
          "name": "stdout"
        }
      ]
    },
    {
      "cell_type": "code",
      "metadata": {
        "id": "x-XFp0WxyxbT",
        "colab_type": "code",
        "colab": {}
      },
      "source": [
        "def decode_sentiment(score, include_neutral=True):\n",
        "    if include_neutral:        \n",
        "        label = NEUTRAL\n",
        "        if score <= SENTIMENT_THRESHOLDS[0]:\n",
        "            label = NEGATIVE\n",
        "        elif score >= SENTIMENT_THRESHOLDS[1]:\n",
        "            label = POSITIVE\n",
        "\n",
        "        return label\n",
        "    else:\n",
        "        return NEGATIVE if score < 0.5 else POSITIVE"
      ],
      "execution_count": 0,
      "outputs": []
    },
    {
      "cell_type": "code",
      "metadata": {
        "id": "D1PseyYPy0SG",
        "colab_type": "code",
        "colab": {}
      },
      "source": [
        "def predict(text, include_neutral=True):\n",
        "    start_at = time.time()\n",
        "    # Tokenize text\n",
        "    x_test = pad_sequences(tokenizer.texts_to_sequences([text]), maxlen=SEQUENCE_LENGTH)\n",
        "    # Predict\n",
        "    score = model.predict([x_test])[0]\n",
        "    # Decode sentiment\n",
        "    label = decode_sentiment(score, include_neutral=include_neutral)\n",
        "\n",
        "    return {\"label\": label, \"score\": float(score),\n",
        "       \"elapsed_time\": time.time()-start_at}  "
      ],
      "execution_count": 0,
      "outputs": []
    },
    {
      "cell_type": "code",
      "metadata": {
        "id": "3cnTvm0ly2nc",
        "colab_type": "code",
        "outputId": "484b7f24-af88-47bd-f7c4-9724f0b84ff4",
        "colab": {
          "base_uri": "https://localhost:8080/",
          "height": 69
        }
      },
      "source": [
        "\n",
        "\n",
        "predict(\"I am dead\")\n",
        "\n"
      ],
      "execution_count": 0,
      "outputs": [
        {
          "output_type": "execute_result",
          "data": {
            "text/plain": [
              "{'elapsed_time': 0.24833989143371582,\n",
              " 'label': 'NEGATIVE',\n",
              " 'score': 0.05974714457988739}"
            ]
          },
          "metadata": {
            "tags": []
          },
          "execution_count": 113
        }
      ]
    },
    {
      "cell_type": "code",
      "metadata": {
        "id": "ufcNel6uy5m6",
        "colab_type": "code",
        "colab": {}
      },
      "source": [
        "model.save('intel_weights.h5')"
      ],
      "execution_count": 0,
      "outputs": []
    },
    {
      "cell_type": "code",
      "metadata": {
        "id": "Oa0g_94L6MZV",
        "colab_type": "code",
        "outputId": "1c0a0a0f-764c-43ac-deff-a0206c91a2ef",
        "colab": {
          "base_uri": "https://localhost:8080/",
          "height": 34
        }
      },
      "source": [
        "%ls"
      ],
      "execution_count": 0,
      "outputs": [
        {
          "output_type": "stream",
          "text": [
            "\u001b[0m\u001b[01;34mdrive\u001b[0m/  intel_weights.h5  \u001b[01;34msample_data\u001b[0m/\n"
          ],
          "name": "stdout"
        }
      ]
    },
    {
      "cell_type": "code",
      "metadata": {
        "id": "Ax7y7VYI6Pgf",
        "colab_type": "code",
        "outputId": "6431d829-9ec4-4ee9-dba7-d9174dd08b90",
        "colab": {
          "base_uri": "https://localhost:8080/",
          "height": 610
        }
      },
      "source": [
        "# Install the PyDrive wrapper & import libraries.\n",
        "# This only needs to be done once in a notebook.\n",
        "!pip install -U -q PyDrive\n",
        "from pydrive.auth import GoogleAuth\n",
        "from pydrive.drive import GoogleDrive\n",
        "from google.colab import auth\n",
        "from oauth2client.client import GoogleCredentials\n",
        "\n",
        "# Authenticate and create the PyDrive client.\n",
        "# This only needs to be done once in a notebook.\n",
        "auth.authenticate_user()\n",
        "gauth = GoogleAuth()\n",
        "gauth.credentials = GoogleCredentials.get_application_default()\n",
        "drive = GoogleDrive(gauth)\n",
        "\n",
        "# Create & upload a file.\n",
        "uploaded = drive.CreateFile({'title': 'intel_weights.h5'})\n",
        "uploaded.SetContentFile('intel_weights.h5')\n",
        "uploaded.Upload()\n",
        "print('Uploaded file with ID {}'.format(uploaded.get('id')))"
      ],
      "execution_count": 0,
      "outputs": [
        {
          "output_type": "stream",
          "text": [
            "2019-09-15 07:56:31,843 : WARNING : file_cache is unavailable when using oauth2client >= 4.0.0 or google-auth\n",
            "Traceback (most recent call last):\n",
            "  File \"/usr/local/lib/python3.6/dist-packages/googleapiclient/discovery_cache/__init__.py\", line 36, in autodetect\n",
            "    from google.appengine.api import memcache\n",
            "ModuleNotFoundError: No module named 'google.appengine'\n",
            "\n",
            "During handling of the above exception, another exception occurred:\n",
            "\n",
            "Traceback (most recent call last):\n",
            "  File \"/usr/local/lib/python3.6/dist-packages/googleapiclient/discovery_cache/file_cache.py\", line 33, in <module>\n",
            "    from oauth2client.contrib.locked_file import LockedFile\n",
            "ModuleNotFoundError: No module named 'oauth2client.contrib.locked_file'\n",
            "\n",
            "During handling of the above exception, another exception occurred:\n",
            "\n",
            "Traceback (most recent call last):\n",
            "  File \"/usr/local/lib/python3.6/dist-packages/googleapiclient/discovery_cache/file_cache.py\", line 37, in <module>\n",
            "    from oauth2client.locked_file import LockedFile\n",
            "ModuleNotFoundError: No module named 'oauth2client.locked_file'\n",
            "\n",
            "During handling of the above exception, another exception occurred:\n",
            "\n",
            "Traceback (most recent call last):\n",
            "  File \"/usr/local/lib/python3.6/dist-packages/googleapiclient/discovery_cache/__init__.py\", line 41, in autodetect\n",
            "    from . import file_cache\n",
            "  File \"/usr/local/lib/python3.6/dist-packages/googleapiclient/discovery_cache/file_cache.py\", line 41, in <module>\n",
            "    'file_cache is unavailable when using oauth2client >= 4.0.0 or google-auth')\n",
            "ImportError: file_cache is unavailable when using oauth2client >= 4.0.0 or google-auth\n",
            "2019-09-15 07:56:31,851 : INFO : URL being requested: GET https://www.googleapis.com/discovery/v1/apis/drive/v2/rest\n",
            "2019-09-15 07:56:31,856 : INFO : Attempting refresh to obtain initial access_token\n",
            "2019-09-15 07:56:31,861 : INFO : Refreshing access_token\n",
            "2019-09-15 07:56:32,008 : INFO : URL being requested: POST https://www.googleapis.com/upload/drive/v2/files?alt=json&uploadType=resumable\n"
          ],
          "name": "stderr"
        },
        {
          "output_type": "stream",
          "text": [
            "Uploaded file with ID 1TFGD3cWP9FV4TYgE60dKtdrpjoSEfOK6\n"
          ],
          "name": "stdout"
        }
      ]
    },
    {
      "cell_type": "code",
      "metadata": {
        "id": "iqzqunHg7ABk",
        "colab_type": "code",
        "colab": {}
      },
      "source": [
        "#testing model\n",
        "model_test = load_model('intel_weights.h5')"
      ],
      "execution_count": 0,
      "outputs": []
    },
    {
      "cell_type": "code",
      "metadata": {
        "id": "ImVZuXpZN2Fj",
        "colab_type": "code",
        "colab": {}
      },
      "source": [
        "def predict_test(text, include_neutral=True):\n",
        "    start_at = time.time()\n",
        "    # Tokenize text\n",
        "    x_test = pad_sequences(tokenizer.texts_to_sequences([text]), maxlen=SEQUENCE_LENGTH)\n",
        "    # Predict\n",
        "    score = model_test.predict([x_test])[0]\n",
        "    # Decode sentiment\n",
        "    label = decode_sentiment(score, include_neutral=include_neutral)\n",
        "\n",
        "    return {\"label\": label, \"score\": float(score),\n",
        "       \"elapsed_time\": time.time()-start_at}"
      ],
      "execution_count": 0,
      "outputs": []
    },
    {
      "cell_type": "code",
      "metadata": {
        "id": "YJUTx6i2MoLj",
        "colab_type": "code",
        "outputId": "72fa0073-9cab-4ba6-a47d-699a17f6e6f3",
        "colab": {
          "base_uri": "https://localhost:8080/",
          "height": 69
        }
      },
      "source": [
        "predict_test('I am doing fine')"
      ],
      "execution_count": 0,
      "outputs": [
        {
          "output_type": "execute_result",
          "data": {
            "text/plain": [
              "{'elapsed_time': 0.23649358749389648,\n",
              " 'label': 'POSITIVE',\n",
              " 'score': 0.8177458643913269}"
            ]
          },
          "metadata": {
            "tags": []
          },
          "execution_count": 106
        }
      ]
    },
    {
      "cell_type": "code",
      "metadata": {
        "id": "x3357KWfNtE6",
        "colab_type": "code",
        "colab": {}
      },
      "source": [
        ""
      ],
      "execution_count": 0,
      "outputs": []
    }
  ]
}